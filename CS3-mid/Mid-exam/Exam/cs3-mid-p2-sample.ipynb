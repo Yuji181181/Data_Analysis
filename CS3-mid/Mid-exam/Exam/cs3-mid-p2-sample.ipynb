{
 "cells": [
  {
   "cell_type": "code",
   "execution_count": 2,
   "id": "dfddbded-944b-4e74-8f3a-4eced351dc05",
   "metadata": {},
   "outputs": [
    {
     "name": "stdout",
     "output_type": "stream",
     "text": [
      "(150, 6)\n",
      "<class 'pandas.core.frame.DataFrame'>\n",
      "RangeIndex: 150 entries, 0 to 149\n",
      "Data columns (total 6 columns):\n",
      " #   Column         Non-Null Count  Dtype  \n",
      "---  ------         --------------  -----  \n",
      " 0   Cust_ID        150 non-null    object \n",
      " 1   Area           145 non-null    object \n",
      " 2   Client_Type    150 non-null    object \n",
      " 3   Annual_Spend   145 non-null    float64\n",
      " 4   Transactions   150 non-null    int64  \n",
      " 5   Loyalty_Score  145 non-null    float64\n",
      "dtypes: float64(2), int64(1), object(3)\n",
      "memory usage: 7.2+ KB\n",
      "None\n"
     ]
    },
    {
     "data": {
      "text/html": [
       "<div>\n",
       "<style scoped>\n",
       "    .dataframe tbody tr th:only-of-type {\n",
       "        vertical-align: middle;\n",
       "    }\n",
       "\n",
       "    .dataframe tbody tr th {\n",
       "        vertical-align: top;\n",
       "    }\n",
       "\n",
       "    .dataframe thead th {\n",
       "        text-align: right;\n",
       "    }\n",
       "</style>\n",
       "<table border=\"1\" class=\"dataframe\">\n",
       "  <thead>\n",
       "    <tr style=\"text-align: right;\">\n",
       "      <th></th>\n",
       "      <th>Cust_ID</th>\n",
       "      <th>Area</th>\n",
       "      <th>Client_Type</th>\n",
       "      <th>Annual_Spend</th>\n",
       "      <th>Transactions</th>\n",
       "      <th>Loyalty_Score</th>\n",
       "    </tr>\n",
       "  </thead>\n",
       "  <tbody>\n",
       "    <tr>\n",
       "      <th>0</th>\n",
       "      <td>C0001</td>\n",
       "      <td>East</td>\n",
       "      <td>Home Ofice</td>\n",
       "      <td>50547.0</td>\n",
       "      <td>39</td>\n",
       "      <td>0.16</td>\n",
       "    </tr>\n",
       "    <tr>\n",
       "      <th>1</th>\n",
       "      <td>C0002</td>\n",
       "      <td>West</td>\n",
       "      <td>Consumer</td>\n",
       "      <td>42181.0</td>\n",
       "      <td>41</td>\n",
       "      <td>0.18</td>\n",
       "    </tr>\n",
       "    <tr>\n",
       "      <th>2</th>\n",
       "      <td>C0003</td>\n",
       "      <td>Central</td>\n",
       "      <td>Consumer</td>\n",
       "      <td>75727.0</td>\n",
       "      <td>44</td>\n",
       "      <td>0.86</td>\n",
       "    </tr>\n",
       "    <tr>\n",
       "      <th>3</th>\n",
       "      <td>C0004</td>\n",
       "      <td>West</td>\n",
       "      <td>Corporate</td>\n",
       "      <td>57607.0</td>\n",
       "      <td>36</td>\n",
       "      <td>0.95</td>\n",
       "    </tr>\n",
       "    <tr>\n",
       "      <th>4</th>\n",
       "      <td>C0005</td>\n",
       "      <td>South</td>\n",
       "      <td>Home Ofice</td>\n",
       "      <td>25698.0</td>\n",
       "      <td>43</td>\n",
       "      <td>0.37</td>\n",
       "    </tr>\n",
       "  </tbody>\n",
       "</table>\n",
       "</div>"
      ],
      "text/plain": [
       "  Cust_ID     Area Client_Type  Annual_Spend  Transactions  Loyalty_Score\n",
       "0   C0001     East  Home Ofice       50547.0            39           0.16\n",
       "1   C0002     West    Consumer       42181.0            41           0.18\n",
       "2   C0003  Central    Consumer       75727.0            44           0.86\n",
       "3   C0004     West   Corporate       57607.0            36           0.95\n",
       "4   C0005    South  Home Ofice       25698.0            43           0.37"
      ]
     },
     "metadata": {},
     "output_type": "display_data"
    }
   ],
   "source": [
    "import pandas as pd\n",
    "import numpy as np\n",
    "import matplotlib.pyplot as plt\n",
    "\n",
    "df=pd.read_csv(\"2025-cs3-mid-2.csv\")\n",
    "print(df.shape)\n",
    "print(df.info())\n",
    "display(df.head())"
   ]
  },
  {
   "cell_type": "code",
   "execution_count": 3,
   "id": "754985af-9f3b-4df1-9f09-2d32455b0691",
   "metadata": {},
   "outputs": [
    {
     "data": {
      "text/html": [
       "<div>\n",
       "<style scoped>\n",
       "    .dataframe tbody tr th:only-of-type {\n",
       "        vertical-align: middle;\n",
       "    }\n",
       "\n",
       "    .dataframe tbody tr th {\n",
       "        vertical-align: top;\n",
       "    }\n",
       "\n",
       "    .dataframe thead th {\n",
       "        text-align: right;\n",
       "    }\n",
       "</style>\n",
       "<table border=\"1\" class=\"dataframe\">\n",
       "  <thead>\n",
       "    <tr style=\"text-align: right;\">\n",
       "      <th></th>\n",
       "      <th>Cust_ID</th>\n",
       "      <th>Area</th>\n",
       "      <th>Client_Type</th>\n",
       "      <th>Annual_Spend</th>\n",
       "      <th>Transactions</th>\n",
       "      <th>Loyalty_Score</th>\n",
       "    </tr>\n",
       "  </thead>\n",
       "  <tbody>\n",
       "    <tr>\n",
       "      <th>125</th>\n",
       "      <td>C0126</td>\n",
       "      <td>East</td>\n",
       "      <td>Corporate</td>\n",
       "      <td>46536.0</td>\n",
       "      <td>44</td>\n",
       "      <td>0.69</td>\n",
       "    </tr>\n",
       "    <tr>\n",
       "      <th>148</th>\n",
       "      <td>C0126</td>\n",
       "      <td>East</td>\n",
       "      <td>Corporate</td>\n",
       "      <td>46536.0</td>\n",
       "      <td>44</td>\n",
       "      <td>0.69</td>\n",
       "    </tr>\n",
       "  </tbody>\n",
       "</table>\n",
       "</div>"
      ],
      "text/plain": [
       "    Cust_ID  Area Client_Type  Annual_Spend  Transactions  Loyalty_Score\n",
       "125   C0126  East   Corporate       46536.0            44           0.69\n",
       "148   C0126  East   Corporate       46536.0            44           0.69"
      ]
     },
     "metadata": {},
     "output_type": "display_data"
    }
   ],
   "source": [
    "display(df[df.duplicated(keep=False)])"
   ]
  },
  {
   "cell_type": "code",
   "execution_count": 6,
   "id": "d0056a1c-b683-441a-8dec-a77249f5a96f",
   "metadata": {},
   "outputs": [
    {
     "name": "stdout",
     "output_type": "stream",
     "text": [
      "(149, 6)\n"
     ]
    }
   ],
   "source": [
    "df1m = df.drop_duplicates().reset_index(drop=True)\n",
    "print(df1m.shape)"
   ]
  },
  {
   "cell_type": "code",
   "execution_count": 8,
   "id": "9a97c765",
   "metadata": {},
   "outputs": [
    {
     "data": {
      "text/html": [
       "<div>\n",
       "<style scoped>\n",
       "    .dataframe tbody tr th:only-of-type {\n",
       "        vertical-align: middle;\n",
       "    }\n",
       "\n",
       "    .dataframe tbody tr th {\n",
       "        vertical-align: top;\n",
       "    }\n",
       "\n",
       "    .dataframe thead th {\n",
       "        text-align: right;\n",
       "    }\n",
       "</style>\n",
       "<table border=\"1\" class=\"dataframe\">\n",
       "  <thead>\n",
       "    <tr style=\"text-align: right;\">\n",
       "      <th></th>\n",
       "      <th>Cust_ID</th>\n",
       "      <th>Area</th>\n",
       "      <th>Client_Type</th>\n",
       "      <th>Annual_Spend</th>\n",
       "      <th>Transactions</th>\n",
       "      <th>Loyalty_Score</th>\n",
       "    </tr>\n",
       "  </thead>\n",
       "  <tbody>\n",
       "  </tbody>\n",
       "</table>\n",
       "</div>"
      ],
      "text/plain": [
       "Empty DataFrame\n",
       "Columns: [Cust_ID, Area, Client_Type, Annual_Spend, Transactions, Loyalty_Score]\n",
       "Index: []"
      ]
     },
     "metadata": {},
     "output_type": "display_data"
    }
   ],
   "source": [
    "display(df1m[df1m.duplicated(keep=False)])"
   ]
  },
  {
   "cell_type": "code",
   "execution_count": 9,
   "id": "333b9e5e",
   "metadata": {},
   "outputs": [
    {
     "name": "stdout",
     "output_type": "stream",
     "text": [
      "Cust_ID          0\n",
      "Area             5\n",
      "Client_Type      0\n",
      "Annual_Spend     5\n",
      "Transactions     0\n",
      "Loyalty_Score    5\n",
      "dtype: int64\n"
     ]
    }
   ],
   "source": [
    "print(df1m.isnull().sum())"
   ]
  },
  {
   "cell_type": "code",
   "execution_count": 12,
   "id": "7f8a687d",
   "metadata": {},
   "outputs": [
    {
     "data": {
      "text/plain": [
       "0      False\n",
       "1      False\n",
       "2      False\n",
       "3      False\n",
       "4      False\n",
       "       ...  \n",
       "144     True\n",
       "145    False\n",
       "146    False\n",
       "147    False\n",
       "148    False\n",
       "Length: 149, dtype: bool"
      ]
     },
     "metadata": {},
     "output_type": "display_data"
    }
   ],
   "source": [
    "display(df1m.isnull().any(axis=1))"
   ]
  },
  {
   "cell_type": "code",
   "execution_count": 18,
   "id": "dab1ea7f",
   "metadata": {},
   "outputs": [
    {
     "data": {
      "text/html": [
       "<div>\n",
       "<style scoped>\n",
       "    .dataframe tbody tr th:only-of-type {\n",
       "        vertical-align: middle;\n",
       "    }\n",
       "\n",
       "    .dataframe tbody tr th {\n",
       "        vertical-align: top;\n",
       "    }\n",
       "\n",
       "    .dataframe thead th {\n",
       "        text-align: right;\n",
       "    }\n",
       "</style>\n",
       "<table border=\"1\" class=\"dataframe\">\n",
       "  <thead>\n",
       "    <tr style=\"text-align: right;\">\n",
       "      <th></th>\n",
       "      <th>Cust_ID</th>\n",
       "      <th>Area</th>\n",
       "      <th>Client_Type</th>\n",
       "      <th>Annual_Spend</th>\n",
       "      <th>Transactions</th>\n",
       "      <th>Loyalty_Score</th>\n",
       "    </tr>\n",
       "  </thead>\n",
       "  <tbody>\n",
       "    <tr>\n",
       "      <th>0</th>\n",
       "      <td>C0001</td>\n",
       "      <td>East</td>\n",
       "      <td>Home Ofice</td>\n",
       "      <td>50547.0</td>\n",
       "      <td>39</td>\n",
       "      <td>0.16</td>\n",
       "    </tr>\n",
       "    <tr>\n",
       "      <th>1</th>\n",
       "      <td>C0002</td>\n",
       "      <td>West</td>\n",
       "      <td>Consumer</td>\n",
       "      <td>42181.0</td>\n",
       "      <td>41</td>\n",
       "      <td>0.18</td>\n",
       "    </tr>\n",
       "    <tr>\n",
       "      <th>2</th>\n",
       "      <td>C0003</td>\n",
       "      <td>Central</td>\n",
       "      <td>Consumer</td>\n",
       "      <td>75727.0</td>\n",
       "      <td>44</td>\n",
       "      <td>0.86</td>\n",
       "    </tr>\n",
       "    <tr>\n",
       "      <th>3</th>\n",
       "      <td>C0004</td>\n",
       "      <td>West</td>\n",
       "      <td>Corporate</td>\n",
       "      <td>57607.0</td>\n",
       "      <td>36</td>\n",
       "      <td>0.95</td>\n",
       "    </tr>\n",
       "    <tr>\n",
       "      <th>4</th>\n",
       "      <td>C0005</td>\n",
       "      <td>South</td>\n",
       "      <td>Home Ofice</td>\n",
       "      <td>25698.0</td>\n",
       "      <td>43</td>\n",
       "      <td>0.37</td>\n",
       "    </tr>\n",
       "  </tbody>\n",
       "</table>\n",
       "</div>"
      ],
      "text/plain": [
       "  Cust_ID     Area Client_Type  Annual_Spend  Transactions  Loyalty_Score\n",
       "0   C0001     East  Home Ofice       50547.0            39           0.16\n",
       "1   C0002     West    Consumer       42181.0            41           0.18\n",
       "2   C0003  Central    Consumer       75727.0            44           0.86\n",
       "3   C0004     West   Corporate       57607.0            36           0.95\n",
       "4   C0005    South  Home Ofice       25698.0            43           0.37"
      ]
     },
     "metadata": {},
     "output_type": "display_data"
    }
   ],
   "source": [
    "display(df1m.head())"
   ]
  },
  {
   "cell_type": "code",
   "execution_count": 23,
   "id": "76339b6c",
   "metadata": {},
   "outputs": [
    {
     "name": "stdout",
     "output_type": "stream",
     "text": [
      "Annual_Spend     50605.673611\n",
      "Transactions        38.610738\n",
      "Loyalty_Score        0.464514\n",
      "dtype: float64\n"
     ]
    }
   ],
   "source": [
    "mu = df1m[[\"Annual_Spend\",\"Transactions\",\"Loyalty_Score\"]].mean()\n",
    "print(mu)"
   ]
  },
  {
   "cell_type": "code",
   "execution_count": 32,
   "id": "2b017c18",
   "metadata": {},
   "outputs": [
    {
     "data": {
      "text/html": [
       "<div>\n",
       "<style scoped>\n",
       "    .dataframe tbody tr th:only-of-type {\n",
       "        vertical-align: middle;\n",
       "    }\n",
       "\n",
       "    .dataframe tbody tr th {\n",
       "        vertical-align: top;\n",
       "    }\n",
       "\n",
       "    .dataframe thead th {\n",
       "        text-align: right;\n",
       "    }\n",
       "</style>\n",
       "<table border=\"1\" class=\"dataframe\">\n",
       "  <thead>\n",
       "    <tr style=\"text-align: right;\">\n",
       "      <th></th>\n",
       "      <th>Cust_ID</th>\n",
       "      <th>Area</th>\n",
       "      <th>Client_Type</th>\n",
       "      <th>Annual_Spend</th>\n",
       "      <th>Transactions</th>\n",
       "      <th>Loyalty_Score</th>\n",
       "    </tr>\n",
       "  </thead>\n",
       "  <tbody>\n",
       "    <tr>\n",
       "      <th>0</th>\n",
       "      <td>C0001</td>\n",
       "      <td>East</td>\n",
       "      <td>Home Ofice</td>\n",
       "      <td>50547.0</td>\n",
       "      <td>39</td>\n",
       "      <td>0.16</td>\n",
       "    </tr>\n",
       "    <tr>\n",
       "      <th>1</th>\n",
       "      <td>C0002</td>\n",
       "      <td>West</td>\n",
       "      <td>Consumer</td>\n",
       "      <td>42181.0</td>\n",
       "      <td>41</td>\n",
       "      <td>0.18</td>\n",
       "    </tr>\n",
       "    <tr>\n",
       "      <th>2</th>\n",
       "      <td>C0003</td>\n",
       "      <td>Central</td>\n",
       "      <td>Consumer</td>\n",
       "      <td>75727.0</td>\n",
       "      <td>44</td>\n",
       "      <td>0.86</td>\n",
       "    </tr>\n",
       "    <tr>\n",
       "      <th>3</th>\n",
       "      <td>C0004</td>\n",
       "      <td>West</td>\n",
       "      <td>Corporate</td>\n",
       "      <td>57607.0</td>\n",
       "      <td>36</td>\n",
       "      <td>0.95</td>\n",
       "    </tr>\n",
       "    <tr>\n",
       "      <th>4</th>\n",
       "      <td>C0005</td>\n",
       "      <td>South</td>\n",
       "      <td>Home Ofice</td>\n",
       "      <td>25698.0</td>\n",
       "      <td>43</td>\n",
       "      <td>0.37</td>\n",
       "    </tr>\n",
       "  </tbody>\n",
       "</table>\n",
       "</div>"
      ],
      "text/plain": [
       "  Cust_ID     Area Client_Type  Annual_Spend  Transactions  Loyalty_Score\n",
       "0   C0001     East  Home Ofice       50547.0            39           0.16\n",
       "1   C0002     West    Consumer       42181.0            41           0.18\n",
       "2   C0003  Central    Consumer       75727.0            44           0.86\n",
       "3   C0004     West   Corporate       57607.0            36           0.95\n",
       "4   C0005    South  Home Ofice       25698.0            43           0.37"
      ]
     },
     "metadata": {},
     "output_type": "display_data"
    },
    {
     "name": "stdout",
     "output_type": "stream",
     "text": [
      "<class 'pandas.core.frame.DataFrame'>\n",
      "RangeIndex: 149 entries, 0 to 148\n",
      "Data columns (total 6 columns):\n",
      " #   Column         Non-Null Count  Dtype  \n",
      "---  ------         --------------  -----  \n",
      " 0   Cust_ID        149 non-null    object \n",
      " 1   Area           144 non-null    object \n",
      " 2   Client_Type    149 non-null    object \n",
      " 3   Annual_Spend   149 non-null    float64\n",
      " 4   Transactions   149 non-null    int64  \n",
      " 5   Loyalty_Score  149 non-null    float64\n",
      "dtypes: float64(2), int64(1), object(3)\n",
      "memory usage: 7.1+ KB\n",
      "None\n",
      "(149, 6)\n"
     ]
    }
   ],
   "source": [
    "df_filled = df1m.fillna(df1m[[\"Annual_Spend\",\"Transactions\",\"Loyalty_Score\"]].mean())\n",
    "display(df_filled.head())\n",
    "print(df_filled.info())\n",
    "print(df_filled.shape)"
   ]
  },
  {
   "cell_type": "code",
   "execution_count": 28,
   "id": "a65daffd",
   "metadata": {},
   "outputs": [
    {
     "data": {
      "text/plain": [
       "0      False\n",
       "1      False\n",
       "2      False\n",
       "3      False\n",
       "4      False\n",
       "       ...  \n",
       "144    False\n",
       "145    False\n",
       "146    False\n",
       "147    False\n",
       "148    False\n",
       "Length: 149, dtype: bool"
      ]
     },
     "metadata": {},
     "output_type": "display_data"
    }
   ],
   "source": [
    "display(df_filled.isnull().any(axis=1))"
   ]
  },
  {
   "cell_type": "code",
   "execution_count": 29,
   "id": "5f61108e",
   "metadata": {},
   "outputs": [],
   "source": [
    "df_filled2 = df_filled.dropna().reset_index(drop=True)"
   ]
  },
  {
   "cell_type": "code",
   "execution_count": 31,
   "id": "7d324239",
   "metadata": {},
   "outputs": [
    {
     "name": "stdout",
     "output_type": "stream",
     "text": [
      "<class 'pandas.core.frame.DataFrame'>\n",
      "RangeIndex: 144 entries, 0 to 143\n",
      "Data columns (total 6 columns):\n",
      " #   Column         Non-Null Count  Dtype  \n",
      "---  ------         --------------  -----  \n",
      " 0   Cust_ID        144 non-null    object \n",
      " 1   Area           144 non-null    object \n",
      " 2   Client_Type    144 non-null    object \n",
      " 3   Annual_Spend   144 non-null    float64\n",
      " 4   Transactions   144 non-null    int64  \n",
      " 5   Loyalty_Score  144 non-null    float64\n",
      "dtypes: float64(2), int64(1), object(3)\n",
      "memory usage: 6.9+ KB\n",
      "None\n",
      "(144, 6)\n"
     ]
    }
   ],
   "source": [
    "print(df_filled2.info())\n",
    "print(df_filled2.shape)"
   ]
  },
  {
   "cell_type": "code",
   "execution_count": 33,
   "id": "3a74ed38",
   "metadata": {},
   "outputs": [],
   "source": [
    "df_filled2[\"Annual_Spend\"] = df_filled2[\"Annual_Spend\"].astype(int)"
   ]
  },
  {
   "cell_type": "code",
   "execution_count": 36,
   "id": "e934acf8",
   "metadata": {},
   "outputs": [
    {
     "name": "stdout",
     "output_type": "stream",
     "text": [
      "int32\n"
     ]
    }
   ],
   "source": [
    "print(df_filled2[\"Annual_Spend\"].dtype)"
   ]
  },
  {
   "cell_type": "code",
   "execution_count": 37,
   "id": "2b9e4cc7",
   "metadata": {},
   "outputs": [
    {
     "name": "stdout",
     "output_type": "stream",
     "text": [
      "Client_Type\n",
      "Consumer      40\n",
      "HomeOffice    40\n",
      "Corporate     30\n",
      "Home Ofice    14\n",
      "Corporatte    12\n",
      "Consmr         8\n",
      "Name: count, dtype: int64\n"
     ]
    }
   ],
   "source": [
    "print(df_filled2[\"Client_Type\"].value_counts())"
   ]
  },
  {
   "cell_type": "markdown",
   "id": "07dd9803",
   "metadata": {},
   "source": []
  }
 ],
 "metadata": {
  "kernelspec": {
   "display_name": "ds2025",
   "language": "python",
   "name": "python3"
  },
  "language_info": {
   "codemirror_mode": {
    "name": "ipython",
    "version": 3
   },
   "file_extension": ".py",
   "mimetype": "text/x-python",
   "name": "python",
   "nbconvert_exporter": "python",
   "pygments_lexer": "ipython3",
   "version": "3.9.15"
  }
 },
 "nbformat": 4,
 "nbformat_minor": 5
}
