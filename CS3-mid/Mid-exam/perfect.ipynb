{
 "cells": [
  {
   "cell_type": "markdown",
   "id": "54b3a968",
   "metadata": {},
   "source": [
    "# 問1"
   ]
  },
  {
   "cell_type": "markdown",
   "id": "e3208c6c",
   "metadata": {},
   "source": [
    "### インポート"
   ]
  },
  {
   "cell_type": "code",
   "execution_count": null,
   "id": "15423b8b",
   "metadata": {},
   "outputs": [],
   "source": [
    "import pandas as pd\n",
    "import numpy as np\n",
    "import matplotlib.pyplot as plt\n",
    "from sklearn.cluster import KMeans\n",
    "from sklearn.preprocessing import scale"
   ]
  },
  {
   "cell_type": "markdown",
   "id": "9c86c392",
   "metadata": {},
   "source": []
  },
  {
   "cell_type": "markdown",
   "id": "3208923a",
   "metadata": {},
   "source": [
    "\n",
    "df から c1 列を取り出し、ser_c1 に代入 (7)。 ser_c1 の 中央値を表示 (8)。また、その数値（小数\n",
    "第2位まで）を (9) に答えよ"
   ]
  },
  {
   "cell_type": "code",
   "execution_count": null,
   "id": "1d2b173f",
   "metadata": {},
   "outputs": [],
   "source": [
    "(7)ser_c1 = df['c1']\n",
    "(8)print(ser_c1.describe())\n",
    "(9)numberいれて"
   ]
  },
  {
   "cell_type": "markdown",
   "id": "96366b55",
   "metadata": {},
   "source": [
    "dfの各行を、c1 列の値の降順にソートして、先頭5行を表示 (10)。また、この列の2番目に大きな値\n",
    "（小数第2位まで）を (11) に答えよ。"
   ]
  },
  {
   "cell_type": "code",
   "execution_count": null,
   "id": "2d06b4cc",
   "metadata": {},
   "outputs": [],
   "source": [
    "(10)display(df.sort_values(by='c1', ascending = False).head())\n",
    "(11)numberいれて"
   ]
  },
  {
   "cell_type": "markdown",
   "id": "06f3b89d",
   "metadata": {},
   "source": [
    "c6 列に出現する各値とそれぞれの出現回数の一覧表示 (12)。 また、値 d の出現回数を (13) に答えよ"
   ]
  },
  {
   "cell_type": "code",
   "execution_count": null,
   "id": "d3110303",
   "metadata": {},
   "outputs": [],
   "source": [
    "(12)print(df['c6'].value_counts())\n",
    "(13)numberいれて"
   ]
  },
  {
   "cell_type": "markdown",
   "id": "45abb992",
   "metadata": {},
   "source": [
    "df から ID 列、c4列、c5列を削除したデータフレーム df2 を作成 (14)。 df2 のデータを、c6 列の値ごとにまとめ、残りの列の平均値を表示 (15)。 c6 列の値が e のデータの、c2 列の平均値を (16) に答えよ(小数第2位まで)"
   ]
  },
  {
   "cell_type": "code",
   "execution_count": null,
   "id": "cfa98f80",
   "metadata": {},
   "outputs": [],
   "source": [
    "(14)df2 = df.drop(columns=['ID', 'c4', 'c5'])\n",
    "(15)display(df2.groupby('c6').mean())\n",
    "(16)number入れて"
   ]
  },
  {
   "cell_type": "markdown",
   "id": "81c20786",
   "metadata": {},
   "source": [
    "df の各行について、c1 列、c2列および c3 列の値の和を求め、それを新たな n_tot 列に格納 (17)。\n",
    "n_totの値について降順にソートした結果をdf3に代入 (18)。 df3の n_tot 列の先頭行の値を (19) に答えよ(小数第2位まで)"
   ]
  },
  {
   "cell_type": "code",
   "execution_count": null,
   "id": "7f86bcbe",
   "metadata": {},
   "outputs": [],
   "source": [
    "(17)df['n_tot'] = df['c1']+df['c2']+df['c3']\n",
    "(18)df3=df.sort_values(by='n_tot', ascending=False)\n",
    "(19)display(df3.head())"
   ]
  },
  {
   "cell_type": "markdown",
   "id": "c930b7e0",
   "metadata": {},
   "source": [
    "df3 のn_tot列のヒストグラムを作成 (20)。bin数は10とし、軸ラベルやタイトル、凡例などの装飾はつけずに、1行で答えること。"
   ]
  },
  {
   "cell_type": "code",
   "execution_count": null,
   "id": "b2b5a3c3",
   "metadata": {},
   "outputs": [],
   "source": [
    "(20)plt.hist(df3['n_tot'], bins=10)\n",
    "## plt.plot()"
   ]
  },
  {
   "cell_type": "markdown",
   "id": "52450712",
   "metadata": {},
   "source": [
    "# 問2"
   ]
  },
  {
   "cell_type": "markdown",
   "id": "34cf03a7",
   "metadata": {},
   "source": [
    "df1 の重複行をすべて表示 (1)。\n",
    "重複を削除して、行番号を0からの連番に振り直し、変数 df1m に代入 (2)。 (元の行番号を格納する列は生成させない)\n",
    "df1m の行数(データ数)を答えよ (3)"
   ]
  },
  {
   "cell_type": "code",
   "execution_count": null,
   "id": "c615057f",
   "metadata": {},
   "outputs": [],
   "source": [
    "(1)display(df1[df1.duplicated(keep=False)])\n",
    "(2)df1m = df1.drop_duplicates().reset_index(drop=True)\n",
    "(3)print(df1m.isna().sum(axis=0))"
   ]
  },
  {
   "cell_type": "markdown",
   "id": "9739d9d6",
   "metadata": {},
   "source": [
    "df1m の各列の欠損値の数を表示 (4)。 欠損値を1つ以上含む列をすべて答えよ (5) 。 次の例のように、’や”は付けず、複数ある場合はカンマで区切ること(例 a1, a2, a3)。 df1m の欠損値を1つでも含む行を表示 (6)。\n",
    "df1m の欠損値を1つでも含む行を削除して、行番号を0からの連番に振り直し、変数 df1m2 に代入\n",
    "(7)。"
   ]
  },
  {
   "cell_type": "code",
   "execution_count": null,
   "id": "0f508c3e",
   "metadata": {},
   "outputs": [],
   "source": [
    "(4)print(df1m.isna().sum(axis=0))\n",
    "(5)c2, c3\n",
    "(6)display(df1m[df1m.isnull().any(axis=1)])\n",
    "(7)df1m2 = df1m.dropna().reset_index(drop=True)"
   ]
  },
  {
   "cell_type": "markdown",
   "id": "c68307f2",
   "metadata": {},
   "source": [
    "df2 の q2 列に含まれる値とその個数を表示せよ (8)。 df2 の q2 列の値’t’の個数を答えよ(9)"
   ]
  },
  {
   "cell_type": "code",
   "execution_count": null,
   "id": "bdfa8712",
   "metadata": {},
   "outputs": [],
   "source": [
    "(8)print(df2['q2'].value_counts())\n",
    "(9)numberいれて"
   ]
  },
  {
   "cell_type": "markdown",
   "id": "41d3ee7f",
   "metadata": {},
   "source": [
    "df1m2 の各行の右側に、df2 の対応する行を結合し、結果を変数 df3 に代入 (10)、冒頭5行を表示。このとき、df1m2 の ID 列の値が、df2 の IDX 列の値と一致するようにし、 データが ID 列と IDX 列の両方に共通して現れる場合にのみdf3に現れるようにする。"
   ]
  },
  {
   "cell_type": "code",
   "execution_count": null,
   "id": "b1de5f9d",
   "metadata": {},
   "outputs": [],
   "source": [
    "(10)df3 = pd.merge(df1m2, df2, left_on='ID', right_on='IDX', how='inner')\n",
    "    display(df3.head())"
   ]
  },
  {
   "cell_type": "markdown",
   "id": "af470bd3",
   "metadata": {},
   "source": [
    "df3の q2 列が ‘s’で、かつ c1 列の値が2.0より大きい行を抽出し、結果をdf3_retに代入 (11)。 df3_retのデータフレームをCSVファイル 2024-cs3-mid-out.csv に保存 (12)。 なお、行番号をindex列に保存する必要はない。またencoding= など、その他のオプションの設定は不要。 また、df3_ret の行数(データ数) と列数を (13) および (14) に答えよ"
   ]
  },
  {
   "cell_type": "code",
   "execution_count": null,
   "id": "59d77072",
   "metadata": {},
   "outputs": [],
   "source": [
    "(11)df3_ret = df3[(df3['q2']=='s') & (df3['c1']>2.0)]\n",
    "(12)df3_ret.to_csv('2024-cs3-mid-out.csv', index=False)\n",
    "    df3_ret.shape\n",
    "(13)number\n",
    "(14)number"
   ]
  },
  {
   "cell_type": "markdown",
   "id": "ed284756",
   "metadata": {},
   "source": [
    "# 問3"
   ]
  },
  {
   "cell_type": "markdown",
   "id": "9ab66f7e",
   "metadata": {},
   "source": [
    "データファイル「google-stock-price.csv」には、Google LLCの2020年1月1日から2023年5月15日までの株価（米ドル）が含まれている（平日のみ）。 「date」列は日付を示し、「price」列は株価を示す。google-stock-price.csv を読み込んで一連の処理を行うノートブックの  ___(1)___  などの空欄を埋め、また問いに答えよ。空欄を埋めるプログラムは1行で答えること。なお、提出するipynb/htmlファイルには、以下に表示されていないプログラム行が含まれていても構わない"
   ]
  },
  {
   "cell_type": "markdown",
   "id": "65429744",
   "metadata": {},
   "source": [
    "全データをデータフレームdfに読み込んであるとする (回答不要)。\n",
    "df の date 列を、日付を扱うのに適したデータ型に変換して上書き (1)。"
   ]
  },
  {
   "cell_type": "code",
   "execution_count": null,
   "id": "00c9baf7",
   "metadata": {},
   "outputs": [],
   "source": [
    "(1)df['data'] = pd.to_datetime(df['date'])\n",
    "   print(df.info())"
   ]
  },
  {
   "cell_type": "markdown",
   "id": "edd01f7a",
   "metadata": {},
   "source": [
    "df の ‘price’ 列について、オーバーラップしない1か月間ごとの平均値 (期間の始めに置く) を求め、結果を変数 df_month_start に格納 (2)(3)"
   ]
  },
  {
   "cell_type": "code",
   "execution_count": null,
   "id": "6087f538",
   "metadata": {},
   "outputs": [],
   "source": [
    "(2)df = df.set_index('date')\n",
    "   display(df.head())\n",
    "(3)df_month_start = df.resample('MS').mean()\n",
    "   "
   ]
  },
  {
   "cell_type": "markdown",
   "id": "1ee46f44",
   "metadata": {},
   "source": [
    "df に 以下のように ‘remark’ 列と ‘name_of_day’ 列を追加する (4)(5)。"
   ]
  },
  {
   "cell_type": "code",
   "execution_count": null,
   "id": "8dbdada5",
   "metadata": {},
   "outputs": [],
   "source": [
    "(4)df['remark'] = ['high' if x>100 else 'low' for x in df['price']]\n",
    "(5)df['name_of_day'] = df.index.day_name()"
   ]
  },
  {
   "cell_type": "markdown",
   "id": "5d70a84b",
   "metadata": {},
   "source": [
    "df から 2023 年のデータを抽出し、複製メソッドを使用して、抽出されたデータのコピーを df_23変数に代入 (6)(7)。また、df_23 の行数を(8) に答えよ"
   ]
  },
  {
   "cell_type": "code",
   "execution_count": null,
   "id": "fe0f802a",
   "metadata": {},
   "outputs": [],
   "source": [
    "(6),(7)df_23 = df[df.index.year == 2023].copy()\n",
    "(8)df_23.info()"
   ]
  },
  {
   "cell_type": "markdown",
   "id": "959f9142",
   "metadata": {},
   "source": [
    "df_23 の ‘name_of_day’ 列と ‘remark’ 列でクロス集計表を作成し(合計列‧合計行も追加)、\n",
    "df_23_ctab に代入 (9)。"
   ]
  },
  {
   "cell_type": "code",
   "execution_count": null,
   "id": "49533ad3",
   "metadata": {},
   "outputs": [],
   "source": [
    "(9)df_23_ctab = pd.crosstab(df_23['name_of_day'], df_23['remark'], margins=True)\n",
    "display(df_23_ctab)"
   ]
  },
  {
   "cell_type": "markdown",
   "id": "000e5aab",
   "metadata": {},
   "source": [
    "# 問4"
   ]
  },
  {
   "cell_type": "markdown",
   "id": "bccef078",
   "metadata": {},
   "source": [
    "データファイル「driver-data.csv」には、4000人のドライバーの走行データが含まれている。\n",
    "「driver-id」列はドライバーのIDを表す。「avg_dist_day」列は、ドライバーが運転した平均距離(km) を表す。「avg_over_speed」列は、ドライバーが最高速度制限を超えた平均回数を表す。\n",
    "「driver-data.csv」を読み込んで一連の処理を行うノートブックの  ___(1)___  などの空欄を埋め、また問いに答えよ。空欄を埋めるプログラムは1行で答えること。なお、提出するipynb/htmlファイルには、以下に表示されていないプログラム行が含まれていても構わない。"
   ]
  },
  {
   "cell_type": "code",
   "execution_count": null,
   "id": "f39c5b18",
   "metadata": {},
   "outputs": [],
   "source": [
    "import os\n",
    "os.environ['OMP_NUM_THREADS'] = '1'\n",
    "import numpy as np\n",
    "import pandas as pd\n",
    "import matplotlib.pyplot as plt\n",
    "from sklearn.cluster import KMeans\n",
    "from sklearn.preprocessing import scale"
   ]
  },
  {
   "cell_type": "markdown",
   "id": "65b95de1",
   "metadata": {},
   "source": [
    "driver-data.csv の全データをデータフレームdfに読み込んであるとする (回答不要)。\n",
    "dfの「avg_dist_day」列と「avg_over_speed」列を データフレーム dfX に読み込む (1)"
   ]
  },
  {
   "cell_type": "code",
   "execution_count": null,
   "id": "8c5519b6",
   "metadata": {},
   "outputs": [],
   "source": [
    "(1)dfX = df[['avg_dist_day', 'avg_over_speed']]\n",
    "print(dfX.shape)\n",
    "display(dfX.head())"
   ]
  },
  {
   "cell_type": "markdown",
   "id": "fae9e922",
   "metadata": {},
   "source": [
    "dfX を標準化し、結果を変数 X_scaled に代入 (2)"
   ]
  },
  {
   "cell_type": "code",
   "execution_count": null,
   "id": "741a8211",
   "metadata": {},
   "outputs": [],
   "source": [
    "(2)X_scaled = scale(dfX)\n",
    "print(type(X_scaled))\n",
    "print(X_scaled.shape)"
   ]
  },
  {
   "cell_type": "markdown",
   "id": "961f8351",
   "metadata": {},
   "source": [
    "X_scaledをデータフレーム型に変換し、dfX_scaledに代入。列名はdfXと同じにする (3)"
   ]
  },
  {
   "cell_type": "code",
   "execution_count": null,
   "id": "e97dfbed",
   "metadata": {},
   "outputs": [],
   "source": [
    "(3)dfX_scaled = pd.DataFrame(X_scaled, columns=dfX.columns)\n",
    "print()"
   ]
  },
  {
   "cell_type": "markdown",
   "id": "973ebdfd",
   "metadata": {},
   "source": [
    "以下のように KMeans クラスタリングを実行し、結果を cls に代入"
   ]
  },
  {
   "cell_type": "code",
   "execution_count": null,
   "id": "d6923c8e",
   "metadata": {},
   "outputs": [],
   "source": [
    "(4),(5)kmeans = KMeans(n_clusters = 4, n_init=10, random_state=10) \n",
    "(6),(7)cls = kmeans.fit_predict(dfX_scaled)"
   ]
  },
  {
   "cell_type": "markdown",
   "id": "743325e8",
   "metadata": {},
   "source": [
    "これらのクラスタのうち、クラスタ2 の 中心の座標を表示する (8)"
   ]
  },
  {
   "cell_type": "code",
   "execution_count": null,
   "id": "a87e42a3",
   "metadata": {},
   "outputs": [],
   "source": [
    "(8)print(kmeans.cluster_centers_[2])"
   ]
  },
  {
   "cell_type": "markdown",
   "id": "cd2ea6f2",
   "metadata": {},
   "source": [
    "クラスタリング結果を df に、「clstr_num」というラベルを持つ新しい列として追加 (9)。また、各ク\n",
    "ラスタのメンバー数を求めるコードを答えよ (10)"
   ]
  },
  {
   "cell_type": "code",
   "execution_count": null,
   "id": "e9a34855",
   "metadata": {},
   "outputs": [],
   "source": [
    "(9)df['clstr_num'] = cls\n",
    "display(df.head()) \n",
    "(10)print(df['clstr_num'].value_counts())"
   ]
  }
 ],
 "metadata": {
  "language_info": {
   "name": "python"
  }
 },
 "nbformat": 4,
 "nbformat_minor": 5
}
