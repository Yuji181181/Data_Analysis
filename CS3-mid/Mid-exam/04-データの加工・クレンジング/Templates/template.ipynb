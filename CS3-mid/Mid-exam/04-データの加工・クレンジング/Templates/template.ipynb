{
 "cells": [
  {
   "cell_type": "markdown",
   "id": "71cc678b",
   "metadata": {},
   "source": [
    "全てのインポート"
   ]
  },
  {
   "cell_type": "code",
   "execution_count": null,
   "id": "9aea98f6",
   "metadata": {},
   "outputs": [],
   "source": [
    "import os\n",
    "os.environ[\"OMP_NUM_THREADS\"] = \"1\"\n",
    "\n",
    "import pandas as pd\n",
    "import numpy as np\n",
    "import matplotlib.pyplot as plt\n",
    "import seaborn as sns\n",
    "import statsmodels.api as sm\n",
    "from sklearn.cluster import KMeans\n",
    "from sklearn.preprocessing import scale"
   ]
  },
  {
   "cell_type": "markdown",
   "id": "f3320931",
   "metadata": {},
   "source": [
    "csvのインポート"
   ]
  },
  {
   "cell_type": "code",
   "execution_count": null,
   "id": "93e8bb61",
   "metadata": {},
   "outputs": [],
   "source": [
    "path = \"\"\n",
    "df = pd.read_csv(path, sep=\",\", comment=\"#\", skiprows=0, header=0)\n",
    "display(df.shape)\n",
    "display(df.info())\n",
    "display(df.head())"
   ]
  },
  {
   "cell_type": "markdown",
   "id": "a1da6250",
   "metadata": {},
   "source": [
    "データフレームのマージ"
   ]
  },
  {
   "cell_type": "code",
   "execution_count": null,
   "id": "61aee685",
   "metadata": {},
   "outputs": [],
   "source": [
    "df_left = \"左に入れるデータフレーム\"\n",
    "df_right = \"右に入れるデータフレーム\"\n",
    "df_merge = pd.merge(df_left, df_right, how=\"\", left_on=\"\", right_on=\"\")\n",
    "# how: left(左外結合), right(右外結合), outer(完全外結合), inner(内結合), cross(直積)"
   ]
  },
  {
   "cell_type": "markdown",
   "id": "b0c1249a",
   "metadata": {},
   "source": [
    "CSVへの書き出し"
   ]
  },
  {
   "cell_type": "code",
   "execution_count": null,
   "id": "d234fa32",
   "metadata": {},
   "outputs": [],
   "source": [
    "csv_out = \"書き出したい名前.csv\"\n",
    "df.to_csv(csv_out, index=True, encoding=\"utf-8-sig\") # indexが不要ならFalse"
   ]
  },
  {
   "cell_type": "markdown",
   "id": "8720e4e5",
   "metadata": {},
   "source": [
    "クラスタリング 1. データの抽出と標準化"
   ]
  }
 ],
 "metadata": {
  "kernelspec": {
   "display_name": "ds2025",
   "language": "python",
   "name": "python3"
  },
  "language_info": {
   "codemirror_mode": {
    "name": "ipython",
    "version": 3
   },
   "file_extension": ".py",
   "mimetype": "text/x-python",
   "name": "python",
   "nbconvert_exporter": "python",
   "pygments_lexer": "ipython3",
   "version": "3.9.15"
  }
 },
 "nbformat": 4,
 "nbformat_minor": 5
}
