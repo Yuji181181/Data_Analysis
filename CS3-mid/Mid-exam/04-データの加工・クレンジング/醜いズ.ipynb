{
 "cells": [
  {
   "cell_type": "markdown",
   "id": "6f24ce18",
   "metadata": {},
   "source": [
    "“wholesale_customers-with-errors.csv” のデータをデータフレーム df に読み込む。データフレーム df の Region列の値が “Lisbon” である行を抜き出して変数 df_ret2 に代入・表示し、その1行目のGrocery列の値を答えよ。\n",
    "\n",
    "4897"
   ]
  },
  {
   "cell_type": "markdown",
   "id": "8e10ff0e",
   "metadata": {},
   "source": [
    "```python\n",
    "import numpy as np\n",
    "import pandas as pd\n",
    "\n",
    "csv_in = 'wholesale_customers-with-errors.csv'\n",
    "df = pd.read_csv(csv_in, sep=',', skiprows=13, header=0)\n",
    "df['Channel'] = df['Channel'].astype('category')\n",
    "print(df.shape)\n",
    "print(df.info())\n",
    "display(df.head())\n",
    "\n",
    "df_ret2 = df[ df['Region']=='Lisbon' ]\n",
    "display(df_ret2.head())\n",
    "```"
   ]
  }
 ],
 "metadata": {
  "language_info": {
   "name": "python"
  }
 },
 "nbformat": 4,
 "nbformat_minor": 5
}
