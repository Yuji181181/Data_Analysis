{
 "cells": [
  {
   "cell_type": "markdown",
   "id": "8855d06d",
   "metadata": {},
   "source": [
    "## データの加工\n",
    "### 1. 列の演算\n",
    "Pandasでは、データフレームの列間の演算を簡単に行うことができる  \n",
    "例：dfの Fresh 列の2倍とFrozen列の和から20000を引いた値を求め、変数 ser1 に代入する。  \n",
    "→列の数値をまとめて一気に計算できる  \n",
    "\n",
    "```python\n",
    "ser1 = 2 * df['Fresh'] + df['Frozen'] - 20000\n",
    "print(ser1)\n",
    "```"
   ]
  },
  {
   "cell_type": "markdown",
   "id": "8747cbba",
   "metadata": {},
   "source": [
    "### 2. データフレームへの列の追加\n",
    "以下のようにすると、データフレーム df に新しい列を追加することができる。  \n",
    "\n",
    "```python\n",
    "df['新しい列名'] = リストやSeriesなど\n",
    "```\n",
    "\n",
    "例：\n",
    "```python\n",
    "df['new_col'] = ser1\n",
    "df['new_col'] = 2 * df['Fresh'] + df['Frozen'] - 20000 display(df.head())  \n",
    "# どちらでも同じ結果が得られる。\n",
    "```\n",
    "\n",
    "新しい列「new_col」が追加され、さきほど計算した「Fresh列の2倍とMilk列の和から20000を引いた値（ser1）」が格納されていることが分かる。"
   ]
  },
  {
   "cell_type": "markdown",
   "id": "d1edaa80",
   "metadata": {},
   "source": [
    "### 3. 列・行の削除\n",
    "- データフレームdfから、指定した列を削除する  \n",
    "```python\n",
    "変数 = df.drop(columns='列名') または 変数 = df.drop('列名', axis=1)\n",
    "```\n",
    "\n",
    "- データフレームdfから、指定した行を削除する  \n",
    "```python\n",
    "変数 = df.drop(index=行番号) または 変数 = df.drop(行番号)\n",
    "```\n",
    "\n",
    "columns= や index= の右辺はリストにして、複数の列や行を削除することもできる。\n",
    "\n",
    "例：\n",
    "```python\n",
    "df_drop_c = df.drop(columns='Detergents_Paper')\n",
    "display(df_drop_c.head())\n",
    "df_drop_r = df.drop(index=[1, 3])\n",
    "display(df_drop_r.head())\n",
    "```"
   ]
  },
  {
   "cell_type": "markdown",
   "id": "de96ad9b",
   "metadata": {},
   "source": [
    "### 3. (発展)列・行のスライスによる削除\n",
    "スライスで、連続する行番号、列名を指定して削除することもできる。\n",
    "\n",
    "```python\n",
    "df_drop_c2 = df.drop(df.loc[:, 'Fresh':'Frozen'], axis=1)\n",
    "display(df_drop_c2.head())\n",
    "```\n",
    "\n",
    "→ dfのFresh列からFrozen列までを削除して df_drop_c2 に代入\n",
    "\n",
    "```python\n",
    "df_drop_r2 = df.drop(df.index[1:3])\n",
    "display(df_drop_r2.head())\n",
    "```\n",
    "\n",
    "→ dfの行番号1から2までを削除して df_drop_r2 に代入"
   ]
  },
  {
   "cell_type": "markdown",
   "id": "2595d1c3",
   "metadata": {},
   "source": [
    "### 4. inplaceオプション\n",
    "dropなどのデータフレームを変更するメソッドでは、多くの場合inplace オプションが使える。  \n",
    "inplace=True とすると、変更対象のデータフレームが直接変更されて戻り値が返らないため、  \n",
    "たとえばデータフレーム df の new_col列を削除する際は、  \n",
    "\n",
    "変更後のデータフレーム用変数 = df.drop(columns='new_col')\n",
    "ではなく、  \n",
    "df.drop(columns='new_col', inplace=True)\n",
    "と書く。\n",
    "\n",
    "例：  \n",
    "```python\n",
    "df.drop(columns='new_col', inplace=True)\n",
    "display(df.head())\n",
    "```"
   ]
  },
  {
   "cell_type": "markdown",
   "id": "7bb4cc42",
   "metadata": {},
   "source": [
    "### 5. 条件にマッチするデータの取り出し\n",
    "変数 = df[ 条件 ]  \n",
    "データフレーム dfから、「条件」にマッチする行だけを取り出して、左辺の変数に代入  \n",
    "\n",
    "「条件」の典型例  \n",
    "- df['列名']==値1、df['列名']!=値1\n",
    "    - 当該列の値が「値1」に一致する行、「値1」に不一致の行\n",
    "- df['列名']>値1、df['列名']<=値1、...\n",
    "    - 当該列の値が「値1」より大である行、「値1」以下である行、...\n",
    "- df['列名'].str.match(r'正規表現パターン')\n",
    "    - 当該列の値が「正規表現パターン」にマッチする行\n",
    "- df['列名'].isin(['値1', '値2', ...])\n",
    "    - 当該列の値が、値1, 値2, ... のいずれかである行\n",
    "\n",
    "例1：  \n",
    "```python\n",
    "df_ret1 = df[ df['Region']=='Lisbon' ]\n",
    "     display(df_ret1.head())\n",
    "```\n",
    "df の中でRegion列の値が「Lisbon」の行を抜き出して、\n",
    "変数df_ret1 に代入、表示。\n",
    "\n",
    "(参考)  \n",
    "1. df['Region']=='Lisbon' は、Region列を検索して、値がLisbonならTrue、Lisbon以外ならFalseを返す。\n",
    "2. 一般に、df[ xxx ]のxxxの部分にTrueかFalseが並んだリストを与えると、Trueの行だけが取り出せる。\n",
    "3. 1.と2.を組み合わせると、dfからdf['Region']=='Lisbon'がTrueになる行だけが取り出せる。"
   ]
  },
  {
   "cell_type": "markdown",
   "id": "cc3d2ce2",
   "metadata": {},
   "source": [
    "### 6. 条件にマッチするデータの取り出し\n",
    "「条件」が複数の場合は、それぞれを( )で囲み、&(かつ)、|(または)、~(否定)を用いて組み合わせる。 \n",
    "\n",
    "例2：  \n",
    "```python\n",
    "df_ret2 = df[ (df['Region']=='Other') & (df['Fresh']>100000) ]\n",
    "display(df_ret2.head())\n",
    "```\n",
    "dfの中でRegion列の値が「Other」、かつFresh列が100000より大きい行を抜き出して、変数df_ret2に代入、表示。\n",
    "\n",
    "例3：  \n",
    "```python\n",
    "df_ret3 = df[ ~(df['Region']=='Other') | (df['Fresh']>100000) ]\n",
    "display(df_ret3.head())\n",
    "```\n",
    "\n",
    "dfの中でRegion列の値が「Other」ではない、またはFresh列が100000より大きい行を抜き出して、変数df_ret3に代入、表示。  \n",
    "Region列の値が「Other」ではない行と、Region列の値に関係なく、Fresh列が100000より大きい行の両方が抜き出されていることがわかる。"
   ]
  },
  {
   "cell_type": "markdown",
   "id": "44236b9c",
   "metadata": {},
   "source": [
    "### 7. 条件にマッチするデータの削除\n",
    "条件にマッチするデータを削除するには、「not条件」にマッチする行を取り出す、と考える。  \n",
    "\n",
    "例4：  \n",
    "```python\n",
    "df_ret4 = df[ ~(df['Region']=='Other') ]\n",
    "display(df_ret4.head())\n",
    "```\n",
    "\n",
    "dfの中でRegion列の値が「Other」の行を削除する\n",
    "→ Region列の値が「Other」以外の行を取り出す、と考える"
   ]
  },
  {
   "cell_type": "markdown",
   "id": "5b7596db",
   "metadata": {},
   "source": [
    "### 8. 行番号のreset\n",
    "- データを削除したり、条件にマッチするデータだけを取り出すと、行番号が不連続になる。\n",
    "- reset_indexメソッドと用いると、不連続になった行番号を、0から始まる連番につけ直すことができる。\n",
    "- 元の行番号が自動的に「index列」として追加されますが、不要な場合はdrop=Trueオプションを追加する。\n",
    "\n",
    "例5：\n",
    "```python\n",
    "df_ret5 = df_ret3.reset_index()\n",
    "display(df_ret5.head())\n",
    "```\n",
    "df_ret3: indexが不連続になっている  \n",
    "df_ret5: indexが連番になり、元のindexは「index」列に\n",
    "\n",
    "例6：\n",
    "```python\n",
    "df_ret6 = df_ret3.reset_index(drop=True)\n",
    "display(df_ret6.head())\n",
    "```\n",
    "df_ret6: indexが連番になる。「index」列は生成されない。"
   ]
  },
  {
   "cell_type": "markdown",
   "id": "a7502b21",
   "metadata": {},
   "source": [
    "### 9. 列のソート\n",
    "変数 = df.sort_values(by='列名', ascending=True or False)  \n",
    "データフレーム df の各行を、指定した列の値の昇順 (ascending=True) または降順 (ascending=False) にソートして変数に代入  \n",
    "※ ascendingを省略すると ascending=True とみなされる。\n",
    "\n",
    "例：\n",
    "```python\n",
    "df_sorted_by_fresh = df.sort_values(by='Fresh', ascending=False)\n",
    "display(df_sorted_by_fresh.head())\n",
    "display(df_sorted_by_fresh.tail())\n",
    "```"
   ]
  },
  {
   "cell_type": "markdown",
   "id": "bea58527",
   "metadata": {},
   "source": [
    "### 10. 最大値・最小値の行番号の取得\n",
    "変数 = df['Fresh'].idxmax()  \n",
    "変数 = df['Fresh'].idxmin()  \n",
    "\n",
    "例：\n",
    "```python\n",
    "idx_max_fresh = df['Fresh'].idxmax()\n",
    "idx_min_fresh = df['Fresh'].idxmin()\n",
    "print(idx_max_fresh, idx_min_fresh)\n",
    "# 181 95\n",
    "```\n",
    "df の Fresh列の最大値(最小値) に対応する行番号が取得できる。(複数行ある場合は最初の行番号になる)"
   ]
  },
  {
   "cell_type": "markdown",
   "id": "1d41b742",
   "metadata": {},
   "source": [
    "### 11. numpyでの最大値・最小値のindexの取得\n",
    "\n",
    "例：\n",
    "```python\n",
    "a = np.array([5,-2,7,4,1])\n",
    "print(a.max(), a.min())\n",
    "print(a.argmax(), a.argmin())\n",
    "# 7 -2\n",
    "# 2 1\n",
    "```\n",
    "ndarrayの最大値(最小値) に対応するindexは、argmax(), argmin() で取得できる。"
   ]
  }
 ],
 "metadata": {
  "kernelspec": {
   "display_name": "ds2025",
   "language": "python",
   "name": "python3"
  },
  "language_info": {
   "codemirror_mode": {
    "name": "ipython",
    "version": 3
   },
   "file_extension": ".py",
   "mimetype": "text/x-python",
   "name": "python",
   "nbconvert_exporter": "python",
   "pygments_lexer": "ipython3",
   "version": "3.9.15"
  }
 },
 "nbformat": 4,
 "nbformat_minor": 5
}
