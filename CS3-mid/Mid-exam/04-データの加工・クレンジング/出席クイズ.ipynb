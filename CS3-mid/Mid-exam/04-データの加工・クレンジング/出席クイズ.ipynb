{
 "cells": [
  {
   "cell_type": "markdown",
   "id": "fd591ea3",
   "metadata": {},
   "source": [
    "cs3-04.zip に含まれる “cs3-04-quiz.csv” に対して、以下の操作を行うスクリプトをJupyterLabで作成し、問題に答えよ。\n",
    "\n",
    "score2列の値の平均値、中央値（50%点）、および第一四分位数(25%点)を算出する。 必要があれば四捨五入し、小数第二位まで記述せよ。\n",
    "\n",
    "平均値\n",
    "43.75\n",
    "\n",
    "中央値(50%点)\n",
    "41.0\n",
    "\n",
    "第一四分位数(25%点)\n",
    "19.75"
   ]
  },
  {
   "cell_type": "markdown",
   "id": "8e257537",
   "metadata": {},
   "source": [
    "```python\n",
    "import pandas as pd\n",
    "\n",
    "csv_in = 'cs3-04-quiz.csv'\n",
    "df = pd.read_csv(csv_in, sep=',', skiprows=0, header=0)\n",
    "print(df.shape)\n",
    "print(df.info())\n",
    "display(df.head())\n",
    "display(df['score2'].describe())\n",
    "```"
   ]
  }
 ],
 "metadata": {
  "language_info": {
   "name": "python"
  }
 },
 "nbformat": 4,
 "nbformat_minor": 5
}
