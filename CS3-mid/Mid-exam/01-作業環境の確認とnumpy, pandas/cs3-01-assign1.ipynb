{
  "cells": [
    {
      "cell_type": "markdown",
      "metadata": {
        "vscode": {
          "languageId": "raw"
        }
      },
      "source": [
        "# cs3-01-assign1 課題解説\n",
        "\n",
        "## 課題概要\n",
        "\n",
        "pandas ライブラリを使用して DataFrame の基本操作を学習する課題です。\n",
        "\n",
        "## 実行環境\n",
        "- Python 3.x\n",
        "- pandas ライブラリ\n"
      ]
    },
    {
      "cell_type": "markdown",
      "metadata": {
        "vscode": {
          "languageId": "raw"
        }
      },
      "source": [
        "## 1. pandas ライブラリの import\n",
        "\n",
        "pandas ライブラリを`pd`という短縮名で import します。これにより、`pandas.DataFrame()`の代わりに`pd.DataFrame()`と書けるようになります。\n"
      ]
    },
    {
      "cell_type": "code",
      "execution_count": 3,
      "metadata": {},
      "outputs": [
        {
          "name": "stdout",
          "output_type": "stream",
          "text": [
            "1. pandasライブラリをpdという別名でimport完了\n"
          ]
        }
      ],
      "source": [
        "# 1. pandasライブラリを、pdという別名を付けてimportする\n",
        "import pandas as pd\n",
        "print(\"1. pandasライブラリをpdという別名でimport完了\")\n"
      ]
    },
    {
      "cell_type": "markdown",
      "metadata": {
        "vscode": {
          "languageId": "raw"
        }
      },
      "source": [
        "## 2. DataFrame の作成\n",
        "\n",
        "2 次元リスト`[[1, 3, 5], [5, 7, 9]]`を DataFrame に変換し、変数`df1`に代入します。\n",
        "デフォルトでは列名が 0, 1, 2、行番号が 0, 1 になります。\n"
      ]
    },
    {
      "cell_type": "code",
      "execution_count": 4,
      "metadata": {},
      "outputs": [
        {
          "name": "stdout",
          "output_type": "stream",
          "text": [
            "2. 2次元リストをDataFrameに変換してdf1に代入:\n",
            "元のデータ: [[1, 3, 5], [5, 7, 9]]\n",
            "df1の中身:\n",
            "   0  1  2\n",
            "0  1  3  5\n",
            "1  5  7  9\n"
          ]
        }
      ],
      "source": [
        "# 2. 2次元リスト[[1, 3, 5], [5, 7, 9]]をDataFrameに変換したものを、変数df1に代入する\n",
        "# df1の中身を表示して確認する\n",
        "data = [[1, 3, 5], [5, 7, 9]]\n",
        "df1 = pd.DataFrame(data)\n",
        "print(\"2. 2次元リストをDataFrameに変換してdf1に代入:\")\n",
        "print(\"元のデータ:\", data)\n",
        "print(\"df1の中身:\")\n",
        "print(df1)\n"
      ]
    },
    {
      "cell_type": "markdown",
      "metadata": {
        "vscode": {
          "languageId": "raw"
        }
      },
      "source": [
        "## 3. 列名の変更\n",
        "\n",
        "`DataFrame.columns`属性に新しい列名のリストを代入して、列名を`['a1', 'a2', 'a3']`に変更します。\n"
      ]
    },
    {
      "cell_type": "code",
      "execution_count": 5,
      "metadata": {},
      "outputs": [
        {
          "name": "stdout",
          "output_type": "stream",
          "text": [
            "3. df1の列名を['a1', 'a2', 'a3']に変更:\n",
            "df1の中身:\n",
            "   a1  a2  a3\n",
            "0   1   3   5\n",
            "1   5   7   9\n"
          ]
        }
      ],
      "source": [
        "# 3. df1の列名(columns)を、['a1', 'a2', 'a3']にする。df1の中身を表示して確認する\n",
        "df1.columns = ['a1', 'a2', 'a3']\n",
        "print(\"3. df1の列名を['a1', 'a2', 'a3']に変更:\")\n",
        "print(\"df1の中身:\")\n",
        "print(df1)\n"
      ]
    },
    {
      "cell_type": "markdown",
      "metadata": {
        "vscode": {
          "languageId": "raw"
        }
      },
      "source": [
        "## 4. 行番号（インデックス）の変更\n",
        "\n",
        "`DataFrame.index`属性に新しい行番号のリストを代入して、行番号を`['r1', 'r2']`に変更します。\n"
      ]
    },
    {
      "cell_type": "code",
      "execution_count": 6,
      "metadata": {},
      "outputs": [
        {
          "name": "stdout",
          "output_type": "stream",
          "text": [
            "4. df1の行番号を['r1', 'r2']に変更:\n",
            "df1の中身:\n",
            "    a1  a2  a3\n",
            "r1   1   3   5\n",
            "r2   5   7   9\n"
          ]
        }
      ],
      "source": [
        "# 4. df1の行番号(index)を、['r1', 'r2']にする。df1の中身を表示して確認する\n",
        "df1.index = ['r1', 'r2']\n",
        "print(\"4. df1の行番号を['r1', 'r2']に変更:\")\n",
        "print(\"df1の中身:\")\n",
        "print(df1)\n"
      ]
    },
    {
      "cell_type": "markdown",
      "metadata": {
        "vscode": {
          "languageId": "raw"
        }
      },
      "source": [
        "## 5. ndarray データ部分の表示\n",
        "\n",
        "`DataFrame.values`は DataFrame の実際のデータ部分（numpy 配列）を取得します。\n",
        "列名や行番号は含まれず、純粋なデータのみが表示されます。\n"
      ]
    },
    {
      "cell_type": "code",
      "execution_count": 7,
      "metadata": {},
      "outputs": [
        {
          "name": "stdout",
          "output_type": "stream",
          "text": [
            "5. df1のndarray部分（実際のデータ値のみ）:\n",
            "df1.values:\n",
            "[[1 3 5]\n",
            " [5 7 9]]\n",
            "型: <class 'numpy.ndarray'>\n"
          ]
        }
      ],
      "source": [
        "# 5. df1のndarray部分(columnsやindex以外の部分)を表示する\n",
        "print(\"5. df1のndarray部分（実際のデータ値のみ）:\")\n",
        "print(\"df1.values:\")\n",
        "print(df1.values)\n",
        "print(\"型:\", type(df1.values))\n"
      ]
    },
    {
      "cell_type": "markdown",
      "metadata": {
        "vscode": {
          "languageId": "raw"
        }
      },
      "source": [
        "## 6. DataFrame の形状（行数・列数）の確認\n",
        "\n",
        "`DataFrame.shape`は(行数, 列数)のタプルを返します。\n",
        "`shape[0]`で行数、`shape[1]`で列数を個別に取得できます。\n"
      ]
    },
    {
      "cell_type": "code",
      "execution_count": 8,
      "metadata": {},
      "outputs": [
        {
          "name": "stdout",
          "output_type": "stream",
          "text": [
            "6. df1の行数と列数:\n",
            "df1.shape: (2, 3)\n",
            "行数: 2\n",
            "列数: 3\n"
          ]
        }
      ],
      "source": [
        "# 6. df1の行数と列数を表示する\n",
        "print(\"6. df1の行数と列数:\")\n",
        "print(\"df1.shape:\", df1.shape)\n",
        "print(\"行数:\", df1.shape[0])\n",
        "print(\"列数:\", df1.shape[1])\n"
      ]
    },
    {
      "cell_type": "markdown",
      "metadata": {
        "vscode": {
          "languageId": "raw"
        }
      },
      "source": [
        "## 重要なメソッド・属性まとめ\n",
        "\n",
        "| 属性/メソッド       | 説明                     | 例                             |\n",
        "| ------------------- | ------------------------ | ------------------------------ |\n",
        "| `DataFrame.columns` | 列名の取得・設定         | `df.columns = ['a', 'b', 'c']` |\n",
        "| `DataFrame.index`   | 行番号の取得・設定       | `df.index = ['row1', 'row2']`  |\n",
        "| `DataFrame.values`  | ndarray データ部分の取得 | `df.values`                    |\n",
        "| `DataFrame.shape`   | (行数, 列数)の取得       | `df.shape`                     |\n"
      ]
    },
    {
      "cell_type": "markdown",
      "metadata": {
        "vscode": {
          "languageId": "raw"
        }
      },
      "source": [
        "## 学習のポイント\n",
        "\n",
        "1. **DataFrame の構造理解**: 行・列・データの 3 つの要素から構成\n",
        "2. **属性とメソッドの違い**: `columns`や`index`は属性、代入で変更可能\n",
        "3. **データアクセス**: `values`で numpy 配列として純粋なデータにアクセス\n",
        "4. **形状確認**: `shape`で DataFrame のサイズを把握\n"
      ]
    }
  ],
  "metadata": {
    "kernelspec": {
      "display_name": "ds2025",
      "language": "python",
      "name": "python3"
    },
    "language_info": {
      "codemirror_mode": {
        "name": "ipython",
        "version": 3
      },
      "file_extension": ".py",
      "mimetype": "text/x-python",
      "name": "python",
      "nbconvert_exporter": "python",
      "pygments_lexer": "ipython3",
      "version": "3.9.15"
    }
  },
  "nbformat": 4,
  "nbformat_minor": 2
}
