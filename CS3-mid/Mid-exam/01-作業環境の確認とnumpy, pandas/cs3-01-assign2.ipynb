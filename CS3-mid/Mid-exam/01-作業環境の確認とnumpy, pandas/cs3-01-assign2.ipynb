{
  "cells": [
    {
      "cell_type": "markdown",
      "metadata": {
        "vscode": {
          "languageId": "raw"
        }
      },
      "source": [
        "# cs3-01-assign2 課題解説\n",
        "\n",
        "## 課題概要\n",
        "\n",
        "numpy ライブラリを使用して numpy 配列の基本操作を学習する課題です。\n",
        "\n",
        "## 実行環境\n",
        "- Python 3.x\n",
        "- numpy ライブラリ\n"
      ]
    },
    {
      "cell_type": "markdown",
      "metadata": {
        "vscode": {
          "languageId": "raw"
        }
      },
      "source": [
        "## 1. numpy ライブラリの import\n",
        "\n",
        "numpy ライブラリを`np`という短縮名で import します。これにより、`numpy.array()`の代わりに`np.array()`と書けるようになります。\n"
      ]
    },
    {
      "cell_type": "code",
      "execution_count": 13,
      "metadata": {},
      "outputs": [
        {
          "name": "stdout",
          "output_type": "stream",
          "text": [
            "1. numpyライブラリをnpという別名でimport完了\n"
          ]
        }
      ],
      "source": [
        "# 1. numpyライブラリを、npという別名を付けてimportする\n",
        "import numpy as np\n",
        "print(\"1. numpyライブラリをnpという別名でimport完了\")\n"
      ]
    },
    {
      "cell_type": "markdown",
      "metadata": {
        "vscode": {
          "languageId": "raw"
        }
      },
      "source": [
        "## 2. numpy 配列の作成\n",
        "\n",
        "2つの1次元リスト`[1, 3, 5]`と`[5, 7, 9]`をnumpy配列に変換し、それぞれ変数`a`、`b`に代入します。\n",
        "Pythonのリストとは異なり、numpy配列は数値計算に最適化されたデータ構造です。\n"
      ]
    },
    {
      "cell_type": "code",
      "execution_count": 14,
      "metadata": {},
      "outputs": [
        {
          "name": "stdout",
          "output_type": "stream",
          "text": [
            "2. 1次元リストをnumpy配列に変換:\n",
            "元のリスト1: [1, 3, 5]\n",
            "元のリスト2: [5, 7, 9]\n",
            "変数a: [1 3 5]\n",
            "変数b: [5 7 9]\n"
          ]
        }
      ],
      "source": [
        "# 2. 2つの1次元リスト[1, 3, 5]、および[5, 7, 9]をnumpy配列に変換したものを、\n",
        "# それぞれ変数a,bに代入し、中身を表示して確認する\n",
        "list1 = [1, 3, 5]\n",
        "list2 = [5, 7, 9]\n",
        "\n",
        "a = np.array(list1)\n",
        "b = np.array(list2)\n",
        "\n",
        "print(\"2. 1次元リストをnumpy配列に変換:\")\n",
        "print(\"元のリスト1:\", list1)\n",
        "print(\"元のリスト2:\", list2)\n",
        "print(\"変数a:\", a)\n",
        "print(\"変数b:\", b)\n"
      ]
    },
    {
      "cell_type": "markdown",
      "metadata": {
        "vscode": {
          "languageId": "raw"
        }
      },
      "source": [
        "## 3. データ型の確認\n",
        "\n",
        "numpy配列のデータ型を`dtype`属性で確認します。\n",
        "numpy配列は効率的な計算のため、すべての要素が同じデータ型を持ちます。\n"
      ]
    },
    {
      "cell_type": "code",
      "execution_count": 15,
      "metadata": {},
      "outputs": [
        {
          "name": "stdout",
          "output_type": "stream",
          "text": [
            "3. 変数aのデータ型:\n",
            "a.dtype: int32\n",
            "型の説明: int32は32ビット整数を表す\n"
          ]
        }
      ],
      "source": [
        "# 3. 上記aのデータ型を表示して確認する\n",
        "print(\"3. 変数aのデータ型:\")\n",
        "print(\"a.dtype:\", a.dtype)\n",
        "print(\"型の説明: int32は32ビット整数を表す\")\n"
      ]
    },
    {
      "cell_type": "markdown",
      "metadata": {
        "vscode": {
          "languageId": "raw"
        }
      },
      "source": [
        "## 4. 要素ごとの和（加算）\n",
        "\n",
        "numpy配列同士の加算では、対応する要素同士が加算されます（要素ごとの演算）。\n",
        "これは「ベクトル化」と呼ばれる numpy の重要な特徴です。\n"
      ]
    },
    {
      "cell_type": "code",
      "execution_count": 16,
      "metadata": {},
      "outputs": [
        {
          "name": "stdout",
          "output_type": "stream",
          "text": [
            "4. a と b の各要素の和:\n",
            "a: [1 3 5]\n",
            "b: [5 7 9]\n",
            "a + b: [ 6 10 14]\n",
            "計算内容: [1+5, 3+7, 5+9] = [6, 10, 14]\n"
          ]
        }
      ],
      "source": [
        "# 4. 上記a,bの各要素の和をとったnumpy配列を表示する\n",
        "sum_ab = a + b\n",
        "print(\"4. a と b の各要素の和:\")\n",
        "print(f\"a: {a}\")\n",
        "print(f\"b: {b}\")\n",
        "print(f\"a + b: {sum_ab}\")\n",
        "print(\"計算内容: [1+5, 3+7, 5+9] = [6, 10, 14]\")\n"
      ]
    },
    {
      "cell_type": "markdown",
      "metadata": {
        "vscode": {
          "languageId": "raw"
        }
      },
      "source": [
        "## 5. 要素ごとの積（乗算）\n",
        "\n",
        "numpy配列同士の乗算も、対応する要素同士が乗算されます。\n",
        "行列の積とは異なり、単純な要素ごとの乗算（アダマール積）が実行されます。\n"
      ]
    },
    {
      "cell_type": "code",
      "execution_count": 17,
      "metadata": {},
      "outputs": [
        {
          "name": "stdout",
          "output_type": "stream",
          "text": [
            "5. a と b の各要素の積:\n",
            "a: [1 3 5]\n",
            "b: [5 7 9]\n",
            "a * b: [ 5 21 45]\n",
            "計算内容: [1*5, 3*7, 5*9] = [5, 21, 45]\n"
          ]
        }
      ],
      "source": [
        "# 5. 上記a,bの各要素の積をとったnumpy配列を表示する\n",
        "product_ab = a * b\n",
        "print(\"5. a と b の各要素の積:\")\n",
        "print(f\"a: {a}\")\n",
        "print(f\"b: {b}\")\n",
        "print(f\"a * b: {product_ab}\")\n",
        "print(\"計算内容: [1*5, 3*7, 5*9] = [5, 21, 45]\")\n"
      ]
    },
    {
      "cell_type": "markdown",
      "metadata": {
        "vscode": {
          "languageId": "raw"
        }
      },
      "source": [
        "## 6. 配列の形状（各軸の要素数）\n",
        "\n",
        "`shape`属性を使用して配列の形状を確認します。\n",
        "1次元配列の場合は要素数が、多次元配列の場合は各軸（次元）の要素数がタプルで表示されます。\n"
      ]
    },
    {
      "cell_type": "code",
      "execution_count": 18,
      "metadata": {},
      "outputs": [
        {
          "name": "stdout",
          "output_type": "stream",
          "text": [
            "6. 変数aの形状情報:\n",
            "a: [1 3 5]\n",
            "a.shape: (3,)\n",
            "次元数: 1\n",
            "要素数: 3\n",
            "説明: (3,)は1次元配列で3個の要素を持つことを表す\n"
          ]
        }
      ],
      "source": [
        "# 6. 上記aの各軸(次元)の要素数を確認する\n",
        "print(\"6. 変数aの形状情報:\")\n",
        "print(f\"a: {a}\")\n",
        "print(f\"a.shape: {a.shape}\")\n",
        "print(f\"次元数: {a.ndim}\")\n",
        "print(f\"要素数: {a.size}\")\n",
        "print(\"説明: (3,)は1次元配列で3個の要素を持つことを表す\")\n"
      ]
    },
    {
      "cell_type": "markdown",
      "metadata": {
        "vscode": {
          "languageId": "raw"
        }
      },
      "source": [
        "## 重要なメソッド・属性まとめ\n",
        "\n",
        "| 属性/メソッド   | 説明                     | 例                    |\n",
        "| --------------- | ------------------------ | --------------------- |\n",
        "| `np.array()`    | リストを numpy 配列に変換 | `np.array([1, 2, 3])` |\n",
        "| `array.dtype`   | 配列のデータ型を取得     | `a.dtype`             |\n",
        "| `array.shape`   | 配列の形状を取得         | `a.shape`             |\n",
        "| `array.ndim`    | 配列の次元数を取得       | `a.ndim`              |\n",
        "| `array.size`    | 配列の要素数を取得       | `a.size`              |\n",
        "| `+`, `*` 演算子 | 要素ごとの加算・乗算     | `a + b`, `a * b`      |\n"
      ]
    },
    {
      "cell_type": "markdown",
      "metadata": {
        "vscode": {
          "languageId": "raw"
        }
      },
      "source": [
        "## 学習のポイント\n",
        "\n",
        "1. **numpy 配列の特徴**: Python リストより高速で数値計算に最適化\n",
        "2. **ベクトル化演算**: 配列同士の演算は対応する要素ごとに実行\n",
        "3. **データ型の統一**: 配列内のすべての要素は同じデータ型\n",
        "4. **形状情報**: `shape`, `ndim`, `size` で配列の構造を把握\n",
        "5. **メモリ効率**: 同じデータ型の要素をメモリ上に連続配置\n"
      ]
    }
  ],
  "metadata": {
    "kernelspec": {
      "display_name": "ds2025",
      "language": "python",
      "name": "python3"
    },
    "language_info": {
      "codemirror_mode": {
        "name": "ipython",
        "version": 3
      },
      "file_extension": ".py",
      "mimetype": "text/x-python",
      "name": "python",
      "nbconvert_exporter": "python",
      "pygments_lexer": "ipython3",
      "version": "3.9.15"
    }
  },
  "nbformat": 4,
  "nbformat_minor": 2
}
