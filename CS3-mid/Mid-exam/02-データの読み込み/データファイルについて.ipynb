{
 "cells": [
  {
   "cell_type": "markdown",
   "id": "0081384a",
   "metadata": {},
   "source": [
    "## データの読み込み\n",
    "### What is CSV?\n",
    "\n",
    "CSVファイルは、カンマなどの区切り文字を使用して、データを表形式で保存するためのファイル形式です。 \n",
    "Excelみたいなやつ。"
   ]
  },
  {
   "cell_type": "markdown",
   "id": "576f525c",
   "metadata": {},
   "source": [
    "### ライブラリのインポート\n"
   ]
  },
  {
   "cell_type": "code",
   "execution_count": 70,
   "id": "dbee953f",
   "metadata": {},
   "outputs": [],
   "source": [
    "import numpy as np\n",
    "import pandas as pd"
   ]
  },
  {
   "cell_type": "markdown",
   "id": "fabb5678",
   "metadata": {},
   "source": [
    "### CSVファイルの読み込み"
   ]
  },
  {
   "cell_type": "code",
   "execution_count": 71,
   "id": "9495a99a",
   "metadata": {},
   "outputs": [],
   "source": [
    "csv_in = \"CSV_FILE.csv\" # CSVファイルのパスを指定\n",
    "df = pd.read_csv( \n",
    "    csv_in,\n",
    "    sep=\",\", # 区切り文字を指定\n",
    "    header=0, # ヘッダー行を指定\n",
    "    skiprows=0, # スキップする行数を指定\n",
    "    comment=\"#\", # コメント行の指定\n",
    "    encoding=\"utf-8\", # エンコーディングを指定\n",
    "                      # utf-8-sig, utf-8, shift-jis\n",
    ")\n",
    "\n"
   ]
  },
  {
   "cell_type": "markdown",
   "id": "6c54fdbd",
   "metadata": {},
   "source": [
    "### データフレーム"
   ]
  },
  {
   "cell_type": "code",
   "execution_count": 72,
   "id": "e3e48a91",
   "metadata": {},
   "outputs": [
    {
     "name": "stdout",
     "output_type": "stream",
     "text": [
      "(3, 4)\n",
      "Index(['file', 'header1', 'header2', 'header3'], dtype='object')\n"
     ]
    },
    {
     "data": {
      "text/html": [
       "<div>\n",
       "<style scoped>\n",
       "    .dataframe tbody tr th:only-of-type {\n",
       "        vertical-align: middle;\n",
       "    }\n",
       "\n",
       "    .dataframe tbody tr th {\n",
       "        vertical-align: top;\n",
       "    }\n",
       "\n",
       "    .dataframe thead th {\n",
       "        text-align: right;\n",
       "    }\n",
       "</style>\n",
       "<table border=\"1\" class=\"dataframe\">\n",
       "  <thead>\n",
       "    <tr style=\"text-align: right;\">\n",
       "      <th></th>\n",
       "      <th>file</th>\n",
       "      <th>header1</th>\n",
       "      <th>header2</th>\n",
       "      <th>header3</th>\n",
       "    </tr>\n",
       "  </thead>\n",
       "  <tbody>\n",
       "    <tr>\n",
       "      <th>0</th>\n",
       "      <td>data1</td>\n",
       "      <td>value1</td>\n",
       "      <td>value2</td>\n",
       "      <td>value3</td>\n",
       "    </tr>\n",
       "    <tr>\n",
       "      <th>1</th>\n",
       "      <td>data2</td>\n",
       "      <td>value4</td>\n",
       "      <td>value5</td>\n",
       "      <td>value6</td>\n",
       "    </tr>\n",
       "    <tr>\n",
       "      <th>2</th>\n",
       "      <td>data3</td>\n",
       "      <td>value7</td>\n",
       "      <td>value8</td>\n",
       "      <td>value9</td>\n",
       "    </tr>\n",
       "  </tbody>\n",
       "</table>\n",
       "</div>"
      ],
      "text/plain": [
       "    file header1 header2 header3\n",
       "0  data1  value1  value2  value3\n",
       "1  data2  value4  value5  value6\n",
       "2  data3  value7  value8  value9"
      ]
     },
     "metadata": {},
     "output_type": "display_data"
    },
    {
     "data": {
      "text/html": [
       "<div>\n",
       "<style scoped>\n",
       "    .dataframe tbody tr th:only-of-type {\n",
       "        vertical-align: middle;\n",
       "    }\n",
       "\n",
       "    .dataframe tbody tr th {\n",
       "        vertical-align: top;\n",
       "    }\n",
       "\n",
       "    .dataframe thead th {\n",
       "        text-align: right;\n",
       "    }\n",
       "</style>\n",
       "<table border=\"1\" class=\"dataframe\">\n",
       "  <thead>\n",
       "    <tr style=\"text-align: right;\">\n",
       "      <th></th>\n",
       "      <th>file</th>\n",
       "      <th>header1</th>\n",
       "      <th>header2</th>\n",
       "      <th>header3</th>\n",
       "    </tr>\n",
       "  </thead>\n",
       "  <tbody>\n",
       "    <tr>\n",
       "      <th>count</th>\n",
       "      <td>3</td>\n",
       "      <td>3</td>\n",
       "      <td>3</td>\n",
       "      <td>3</td>\n",
       "    </tr>\n",
       "    <tr>\n",
       "      <th>unique</th>\n",
       "      <td>3</td>\n",
       "      <td>3</td>\n",
       "      <td>3</td>\n",
       "      <td>3</td>\n",
       "    </tr>\n",
       "    <tr>\n",
       "      <th>top</th>\n",
       "      <td>data1</td>\n",
       "      <td>value1</td>\n",
       "      <td>value2</td>\n",
       "      <td>value3</td>\n",
       "    </tr>\n",
       "    <tr>\n",
       "      <th>freq</th>\n",
       "      <td>1</td>\n",
       "      <td>1</td>\n",
       "      <td>1</td>\n",
       "      <td>1</td>\n",
       "    </tr>\n",
       "  </tbody>\n",
       "</table>\n",
       "</div>"
      ],
      "text/plain": [
       "         file header1 header2 header3\n",
       "count       3       3       3       3\n",
       "unique      3       3       3       3\n",
       "top     data1  value1  value2  value3\n",
       "freq        1       1       1       1"
      ]
     },
     "metadata": {},
     "output_type": "display_data"
    },
    {
     "name": "stdout",
     "output_type": "stream",
     "text": [
      "<class 'pandas.core.frame.DataFrame'>\n",
      "RangeIndex: 3 entries, 0 to 2\n",
      "Data columns (total 4 columns):\n",
      " #   Column   Non-Null Count  Dtype \n",
      "---  ------   --------------  ----- \n",
      " 0   file     3 non-null      object\n",
      " 1   header1  3 non-null      object\n",
      " 2   header2  3 non-null      object\n",
      " 3   header3  3 non-null      object\n",
      "dtypes: object(4)\n",
      "memory usage: 224.0+ bytes\n"
     ]
    },
    {
     "data": {
      "text/plain": [
       "file       object\n",
       "header1    object\n",
       "header2    object\n",
       "header3    object\n",
       "dtype: object"
      ]
     },
     "metadata": {},
     "output_type": "display_data"
    },
    {
     "data": {
      "text/plain": [
       "file       3\n",
       "header1    3\n",
       "header2    3\n",
       "header3    3\n",
       "dtype: int64"
      ]
     },
     "metadata": {},
     "output_type": "display_data"
    },
    {
     "data": {
      "text/plain": [
       "RangeIndex(start=0, stop=3, step=1)"
      ]
     },
     "metadata": {},
     "output_type": "display_data"
    },
    {
     "data": {
      "text/plain": [
       "Index(['file', 'header1', 'header2', 'header3'], dtype='object')"
      ]
     },
     "metadata": {},
     "output_type": "display_data"
    }
   ],
   "source": [
    "print(df.shape) # データフレームの形状を表示\n",
    "print(df.columns) # 列名を表示\n",
    "display(df.head()) # 最初の5行を表示\n",
    "# データフレームの統計情報を表示\n",
    "display(df.describe()) # 数値データの統計情報を表示\n",
    "# データフレームの情報を表示\n",
    "df.info() # データフレームの情報を表示\n",
    "display(df.dtypes) # 各列のデータ型を表示\n",
    "display(df.isnull().count()) # 各列の欠損値の数を表示\n",
    "display(df.index) # データフレームのインデックスを表示\n",
    "display(df.columns) # データフレームの列名を表示"
   ]
  },
  {
   "cell_type": "markdown",
   "id": "42580b0f",
   "metadata": {},
   "source": [
    "### 列、行全体の取り出し"
   ]
  },
  {
   "cell_type": "code",
   "execution_count": 73,
   "id": "2ad20e5e",
   "metadata": {},
   "outputs": [
    {
     "name": "stdout",
     "output_type": "stream",
     "text": [
      "<class 'pandas.core.series.Series'>\n"
     ]
    },
    {
     "data": {
      "text/plain": [
       "0    value1\n",
       "1    value4\n",
       "2    value7\n",
       "Name: header1, dtype: object"
      ]
     },
     "metadata": {},
     "output_type": "display_data"
    }
   ],
   "source": [
    "header1 = df[\"header1\"] # 列名を指定してデータを取得\n",
    "print(type(header1)) # データの型を表示\n",
    "display(header1) # データを表示"
   ]
  },
  {
   "cell_type": "markdown",
   "id": "add4acb7",
   "metadata": {},
   "source": [
    "### 複数列の取り出し"
   ]
  },
  {
   "cell_type": "code",
   "execution_count": 74,
   "id": "90e7517b",
   "metadata": {},
   "outputs": [
    {
     "name": "stdout",
     "output_type": "stream",
     "text": [
      "<class 'pandas.core.frame.DataFrame'>\n"
     ]
    },
    {
     "data": {
      "text/html": [
       "<div>\n",
       "<style scoped>\n",
       "    .dataframe tbody tr th:only-of-type {\n",
       "        vertical-align: middle;\n",
       "    }\n",
       "\n",
       "    .dataframe tbody tr th {\n",
       "        vertical-align: top;\n",
       "    }\n",
       "\n",
       "    .dataframe thead th {\n",
       "        text-align: right;\n",
       "    }\n",
       "</style>\n",
       "<table border=\"1\" class=\"dataframe\">\n",
       "  <thead>\n",
       "    <tr style=\"text-align: right;\">\n",
       "      <th></th>\n",
       "      <th>header1</th>\n",
       "      <th>header2</th>\n",
       "    </tr>\n",
       "  </thead>\n",
       "  <tbody>\n",
       "    <tr>\n",
       "      <th>0</th>\n",
       "      <td>value1</td>\n",
       "      <td>value2</td>\n",
       "    </tr>\n",
       "    <tr>\n",
       "      <th>1</th>\n",
       "      <td>value4</td>\n",
       "      <td>value5</td>\n",
       "    </tr>\n",
       "    <tr>\n",
       "      <th>2</th>\n",
       "      <td>value7</td>\n",
       "      <td>value8</td>\n",
       "    </tr>\n",
       "  </tbody>\n",
       "</table>\n",
       "</div>"
      ],
      "text/plain": [
       "  header1 header2\n",
       "0  value1  value2\n",
       "1  value4  value5\n",
       "2  value7  value8"
      ]
     },
     "metadata": {},
     "output_type": "display_data"
    }
   ],
   "source": [
    "header_multi = df.loc[:, [\"header1\", \"header2\"]] # 複数の列を取得\n",
    "print(type(header_multi)) # データの型を表示\n",
    "display(header_multi) # データを表示"
   ]
  },
  {
   "cell_type": "markdown",
   "id": "8bd78171",
   "metadata": {},
   "source": [
    "#### スライス\n",
    "![a](img/slice1.png)\n",
    "![a](img/slice2.png)\n",
    "![a](img/slice3.png)\n",
    "![a](img/slice4.png)"
   ]
  },
  {
   "cell_type": "code",
   "execution_count": 75,
   "id": "5570177b",
   "metadata": {},
   "outputs": [
    {
     "name": "stdout",
     "output_type": "stream",
     "text": [
      "<class 'pandas.core.frame.DataFrame'>\n"
     ]
    },
    {
     "data": {
      "text/html": [
       "<div>\n",
       "<style scoped>\n",
       "    .dataframe tbody tr th:only-of-type {\n",
       "        vertical-align: middle;\n",
       "    }\n",
       "\n",
       "    .dataframe tbody tr th {\n",
       "        vertical-align: top;\n",
       "    }\n",
       "\n",
       "    .dataframe thead th {\n",
       "        text-align: right;\n",
       "    }\n",
       "</style>\n",
       "<table border=\"1\" class=\"dataframe\">\n",
       "  <thead>\n",
       "    <tr style=\"text-align: right;\">\n",
       "      <th></th>\n",
       "      <th>file</th>\n",
       "      <th>header1</th>\n",
       "      <th>header2</th>\n",
       "      <th>header3</th>\n",
       "    </tr>\n",
       "  </thead>\n",
       "  <tbody>\n",
       "    <tr>\n",
       "      <th>0</th>\n",
       "      <td>data1</td>\n",
       "      <td>value1</td>\n",
       "      <td>value2</td>\n",
       "      <td>value3</td>\n",
       "    </tr>\n",
       "    <tr>\n",
       "      <th>1</th>\n",
       "      <td>data2</td>\n",
       "      <td>value4</td>\n",
       "      <td>value5</td>\n",
       "      <td>value6</td>\n",
       "    </tr>\n",
       "    <tr>\n",
       "      <th>2</th>\n",
       "      <td>data3</td>\n",
       "      <td>value7</td>\n",
       "      <td>value8</td>\n",
       "      <td>value9</td>\n",
       "    </tr>\n",
       "  </tbody>\n",
       "</table>\n",
       "</div>"
      ],
      "text/plain": [
       "    file header1 header2 header3\n",
       "0  data1  value1  value2  value3\n",
       "1  data2  value4  value5  value6\n",
       "2  data3  value7  value8  value9"
      ]
     },
     "metadata": {},
     "output_type": "display_data"
    }
   ],
   "source": [
    "header_multi = df.iloc[:,:] # 列番号を指定してデータを取得\n",
    "print(type(header_multi)) # データの型を表示\n",
    "display(header_multi) # データを表示\n",
    "\n",
    "# Sliceの値を-にすることで、逆順に取得"
   ]
  },
  {
   "cell_type": "markdown",
   "id": "5f14b705",
   "metadata": {},
   "source": [
    "### ndarrayのスライス\n",
    "\n",
    "![a](img/ndslice.png)"
   ]
  },
  {
   "cell_type": "code",
   "execution_count": 76,
   "id": "40cf691e",
   "metadata": {},
   "outputs": [
    {
     "name": "stdout",
     "output_type": "stream",
     "text": [
      "[[1 2 3]\n",
      " [4 5 6]\n",
      " [7 8 9]]\n",
      "[[2 3]\n",
      " [5 6]]\n"
     ]
    }
   ],
   "source": [
    "a = np.array(\n",
    "    [\n",
    "        [1, 2, 3],\n",
    "        [4, 5, 6],\n",
    "        [7, 8, 9]\n",
    "    ]\n",
    ")\n",
    "\n",
    "print(a)\n",
    "\n",
    "b1 = a[:2, 1:] # スライスを使用してデータを取得\n",
    "print(b1) # データを表示"
   ]
  }
 ],
 "metadata": {
  "kernelspec": {
   "display_name": "ds2025",
   "language": "python",
   "name": "python3"
  },
  "language_info": {
   "codemirror_mode": {
    "name": "ipython",
    "version": 3
   },
   "file_extension": ".py",
   "mimetype": "text/x-python",
   "name": "python",
   "nbconvert_exporter": "python",
   "pygments_lexer": "ipython3",
   "version": "3.9.15"
  }
 },
 "nbformat": 4,
 "nbformat_minor": 5
}
