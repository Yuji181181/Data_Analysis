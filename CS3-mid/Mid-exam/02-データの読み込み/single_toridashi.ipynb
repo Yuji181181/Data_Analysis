{
 "cells": [
  {
   "cell_type": "markdown",
   "id": "3b9038e9",
   "metadata": {},
   "source": [
    "### 1要素の値の取り出し(ndarray)\n",
    "・各軸の番号を順に指定することで、要素の一つの値を取り出せる"
   ]
  },
  {
   "cell_type": "code",
   "execution_count": 2,
   "id": "cea669e4",
   "metadata": {},
   "outputs": [],
   "source": [
    "import pandas as pd\n",
    "import numpy as np"
   ]
  },
  {
   "cell_type": "code",
   "execution_count": 3,
   "id": "d7e93407",
   "metadata": {},
   "outputs": [
    {
     "name": "stdout",
     "output_type": "stream",
     "text": [
      "[0 1 2]\n",
      "0\n"
     ]
    }
   ],
   "source": [
    "a1 = np.array([0,1,2])\n",
    "print(a1)\n",
    "print(a1[0])"
   ]
  },
  {
   "cell_type": "code",
   "execution_count": 4,
   "id": "b7d0785b",
   "metadata": {},
   "outputs": [
    {
     "name": "stdout",
     "output_type": "stream",
     "text": [
      "[[0 1 2]\n",
      " [3 4 5]]\n",
      "1\n"
     ]
    }
   ],
   "source": [
    "a2 = np.array([[0,1,2],[3,4,5]])\n",
    "print(a2)\n",
    "print(a2[0,1])"
   ]
  },
  {
   "cell_type": "code",
   "execution_count": 5,
   "id": "ef8580b6",
   "metadata": {},
   "outputs": [
    {
     "name": "stdout",
     "output_type": "stream",
     "text": [
      "[[[ 0  1  2]\n",
      "  [ 3  4  5]]\n",
      "\n",
      " [[ 6  7  8]\n",
      "  [ 9 10 11]]]\n",
      "8\n"
     ]
    }
   ],
   "source": [
    "a3 = np.array([[[0,1,2],[3,4,5]],[[6,7,8],[9,10,11]]])\n",
    "print(a3)\n",
    "print(a3[1,0,2])"
   ]
  },
  {
   "cell_type": "markdown",
   "id": "ce9964f9",
   "metadata": {},
   "source": [
    "### 1要素の値の変更(ndarray)\n",
    "・取り出す代わりに値を代入すると、ndarrayの要素の一つの値を変更できる"
   ]
  },
  {
   "cell_type": "code",
   "execution_count": 6,
   "id": "3dfb14b3",
   "metadata": {},
   "outputs": [
    {
     "name": "stdout",
     "output_type": "stream",
     "text": [
      "[99  1  2]\n"
     ]
    }
   ],
   "source": [
    "a1[0] = 99\n",
    "print(a1)"
   ]
  },
  {
   "cell_type": "code",
   "execution_count": 7,
   "id": "992a55db",
   "metadata": {},
   "outputs": [
    {
     "name": "stdout",
     "output_type": "stream",
     "text": [
      "[[ 0 99  2]\n",
      " [ 3  4  5]]\n"
     ]
    }
   ],
   "source": [
    "a2[0,1] = 99\n",
    "print(a2)"
   ]
  },
  {
   "cell_type": "code",
   "execution_count": 8,
   "id": "07786896",
   "metadata": {},
   "outputs": [
    {
     "name": "stdout",
     "output_type": "stream",
     "text": [
      "[[[ 0  1  2]\n",
      "  [ 3  4  5]]\n",
      "\n",
      " [[ 6  7 99]\n",
      "  [ 9 10 11]]]\n"
     ]
    }
   ],
   "source": [
    "a3[1,0,2] =99\n",
    "print(a3)"
   ]
  },
  {
   "cell_type": "markdown",
   "id": "2971400a",
   "metadata": {},
   "source": [
    "### 1要素の値の取り出し(DataFrame)\n",
    "・DataFrameに対しては、**at**を使って行番号(行ラベル)と列ラベルを指定することで、要素の1つの値を取り出せることができる<br>\n",
    "・**iat**を使うと、行、列ともにラベルではなく番号で1つの要素を指定できる"
   ]
  },
  {
   "cell_type": "code",
   "execution_count": 9,
   "id": "32d311a3",
   "metadata": {},
   "outputs": [
    {
     "name": "stdout",
     "output_type": "stream",
     "text": [
      "(440, 8)\n",
      "<class 'pandas.core.frame.DataFrame'>\n",
      "RangeIndex: 440 entries, 0 to 439\n",
      "Data columns (total 8 columns):\n",
      " #   Column            Non-Null Count  Dtype \n",
      "---  ------            --------------  ----- \n",
      " 0   Channel           440 non-null    int64 \n",
      " 1   Region            440 non-null    object\n",
      " 2   Fresh             440 non-null    int64 \n",
      " 3   Milk              440 non-null    int64 \n",
      " 4   Grocery           440 non-null    int64 \n",
      " 5   Frozen            440 non-null    int64 \n",
      " 6   Detergents_Paper  440 non-null    int64 \n",
      " 7   Delicatessen      440 non-null    int64 \n",
      "dtypes: int64(7), object(1)\n",
      "memory usage: 27.6+ KB\n",
      "None\n"
     ]
    },
    {
     "data": {
      "text/html": [
       "<div>\n",
       "<style scoped>\n",
       "    .dataframe tbody tr th:only-of-type {\n",
       "        vertical-align: middle;\n",
       "    }\n",
       "\n",
       "    .dataframe tbody tr th {\n",
       "        vertical-align: top;\n",
       "    }\n",
       "\n",
       "    .dataframe thead th {\n",
       "        text-align: right;\n",
       "    }\n",
       "</style>\n",
       "<table border=\"1\" class=\"dataframe\">\n",
       "  <thead>\n",
       "    <tr style=\"text-align: right;\">\n",
       "      <th></th>\n",
       "      <th>Channel</th>\n",
       "      <th>Region</th>\n",
       "      <th>Fresh</th>\n",
       "      <th>Milk</th>\n",
       "      <th>Grocery</th>\n",
       "      <th>Frozen</th>\n",
       "      <th>Detergents_Paper</th>\n",
       "      <th>Delicatessen</th>\n",
       "    </tr>\n",
       "  </thead>\n",
       "  <tbody>\n",
       "    <tr>\n",
       "      <th>0</th>\n",
       "      <td>2</td>\n",
       "      <td>Other</td>\n",
       "      <td>12669</td>\n",
       "      <td>9656</td>\n",
       "      <td>7561</td>\n",
       "      <td>214</td>\n",
       "      <td>2674</td>\n",
       "      <td>1338</td>\n",
       "    </tr>\n",
       "    <tr>\n",
       "      <th>1</th>\n",
       "      <td>2</td>\n",
       "      <td>Other</td>\n",
       "      <td>7057</td>\n",
       "      <td>9810</td>\n",
       "      <td>9568</td>\n",
       "      <td>1762</td>\n",
       "      <td>3293</td>\n",
       "      <td>1776</td>\n",
       "    </tr>\n",
       "    <tr>\n",
       "      <th>2</th>\n",
       "      <td>2</td>\n",
       "      <td>Other</td>\n",
       "      <td>6353</td>\n",
       "      <td>8808</td>\n",
       "      <td>7684</td>\n",
       "      <td>2405</td>\n",
       "      <td>3516</td>\n",
       "      <td>7844</td>\n",
       "    </tr>\n",
       "    <tr>\n",
       "      <th>3</th>\n",
       "      <td>1</td>\n",
       "      <td>Other</td>\n",
       "      <td>13265</td>\n",
       "      <td>1196</td>\n",
       "      <td>4221</td>\n",
       "      <td>6404</td>\n",
       "      <td>507</td>\n",
       "      <td>1788</td>\n",
       "    </tr>\n",
       "    <tr>\n",
       "      <th>4</th>\n",
       "      <td>2</td>\n",
       "      <td>Other</td>\n",
       "      <td>22615</td>\n",
       "      <td>5410</td>\n",
       "      <td>7198</td>\n",
       "      <td>3915</td>\n",
       "      <td>1777</td>\n",
       "      <td>5185</td>\n",
       "    </tr>\n",
       "  </tbody>\n",
       "</table>\n",
       "</div>"
      ],
      "text/plain": [
       "   Channel Region  Fresh  Milk  Grocery  Frozen  Detergents_Paper  \\\n",
       "0        2  Other  12669  9656     7561     214              2674   \n",
       "1        2  Other   7057  9810     9568    1762              3293   \n",
       "2        2  Other   6353  8808     7684    2405              3516   \n",
       "3        1  Other  13265  1196     4221    6404               507   \n",
       "4        2  Other  22615  5410     7198    3915              1777   \n",
       "\n",
       "   Delicatessen  \n",
       "0          1338  \n",
       "1          1776  \n",
       "2          7844  \n",
       "3          1788  \n",
       "4          5185  "
      ]
     },
     "metadata": {},
     "output_type": "display_data"
    },
    {
     "data": {
      "text/html": [
       "<div>\n",
       "<style scoped>\n",
       "    .dataframe tbody tr th:only-of-type {\n",
       "        vertical-align: middle;\n",
       "    }\n",
       "\n",
       "    .dataframe tbody tr th {\n",
       "        vertical-align: top;\n",
       "    }\n",
       "\n",
       "    .dataframe thead th {\n",
       "        text-align: right;\n",
       "    }\n",
       "</style>\n",
       "<table border=\"1\" class=\"dataframe\">\n",
       "  <thead>\n",
       "    <tr style=\"text-align: right;\">\n",
       "      <th></th>\n",
       "      <th>Milk</th>\n",
       "      <th>Grocery</th>\n",
       "      <th>Frozen</th>\n",
       "    </tr>\n",
       "  </thead>\n",
       "  <tbody>\n",
       "    <tr>\n",
       "      <th>1</th>\n",
       "      <td>9810</td>\n",
       "      <td>9568</td>\n",
       "      <td>1762</td>\n",
       "    </tr>\n",
       "    <tr>\n",
       "      <th>2</th>\n",
       "      <td>8808</td>\n",
       "      <td>7684</td>\n",
       "      <td>2405</td>\n",
       "    </tr>\n",
       "    <tr>\n",
       "      <th>3</th>\n",
       "      <td>1196</td>\n",
       "      <td>4221</td>\n",
       "      <td>6404</td>\n",
       "    </tr>\n",
       "  </tbody>\n",
       "</table>\n",
       "</div>"
      ],
      "text/plain": [
       "   Milk  Grocery  Frozen\n",
       "1  9810     9568    1762\n",
       "2  8808     7684    2405\n",
       "3  1196     4221    6404"
      ]
     },
     "metadata": {},
     "output_type": "display_data"
    },
    {
     "name": "stdout",
     "output_type": "stream",
     "text": [
      "2405\n"
     ]
    }
   ],
   "source": [
    "df = pd.read_csv(\"../02/wholesale_customers.csv\",sep=\",\",skiprows=13,header=0)\n",
    "print(df.shape)\n",
    "print(df.info())\n",
    "display(df.head())\n",
    "df6 = df.iloc[1:4,3:6]\n",
    "display(df6)\n",
    "print(df6.at[2,\"Frozen\"])"
   ]
  },
  {
   "cell_type": "code",
   "execution_count": 12,
   "id": "5cbf840e",
   "metadata": {},
   "outputs": [
    {
     "name": "stdout",
     "output_type": "stream",
     "text": [
      "4221\n"
     ]
    }
   ],
   "source": [
    "### iatは0から始まる行番号で行を指定することになる\n",
    "print(df6.iat[2,1])"
   ]
  },
  {
   "cell_type": "markdown",
   "id": "4fdbf0e9",
   "metadata": {},
   "source": [
    "### 1要素の値の変更(DataFrame)\n",
    "・DataFrameでもndarrayと同様に、値の代入によって要素の1つの値を変更することができる"
   ]
  },
  {
   "cell_type": "code",
   "execution_count": 14,
   "id": "aa551029",
   "metadata": {},
   "outputs": [
    {
     "data": {
      "text/html": [
       "<div>\n",
       "<style scoped>\n",
       "    .dataframe tbody tr th:only-of-type {\n",
       "        vertical-align: middle;\n",
       "    }\n",
       "\n",
       "    .dataframe tbody tr th {\n",
       "        vertical-align: top;\n",
       "    }\n",
       "\n",
       "    .dataframe thead th {\n",
       "        text-align: right;\n",
       "    }\n",
       "</style>\n",
       "<table border=\"1\" class=\"dataframe\">\n",
       "  <thead>\n",
       "    <tr style=\"text-align: right;\">\n",
       "      <th></th>\n",
       "      <th>Milk</th>\n",
       "      <th>Grocery</th>\n",
       "      <th>Frozen</th>\n",
       "    </tr>\n",
       "  </thead>\n",
       "  <tbody>\n",
       "    <tr>\n",
       "      <th>1</th>\n",
       "      <td>9810</td>\n",
       "      <td>9568</td>\n",
       "      <td>1762</td>\n",
       "    </tr>\n",
       "    <tr>\n",
       "      <th>2</th>\n",
       "      <td>8808</td>\n",
       "      <td>7684</td>\n",
       "      <td>99</td>\n",
       "    </tr>\n",
       "    <tr>\n",
       "      <th>3</th>\n",
       "      <td>1196</td>\n",
       "      <td>4221</td>\n",
       "      <td>6404</td>\n",
       "    </tr>\n",
       "  </tbody>\n",
       "</table>\n",
       "</div>"
      ],
      "text/plain": [
       "   Milk  Grocery  Frozen\n",
       "1  9810     9568    1762\n",
       "2  8808     7684      99\n",
       "3  1196     4221    6404"
      ]
     },
     "metadata": {},
     "output_type": "display_data"
    }
   ],
   "source": [
    "df6.at[2,\"Frozen\"] =99\n",
    "display(df6)"
   ]
  },
  {
   "cell_type": "code",
   "execution_count": 15,
   "id": "afb7d3d8",
   "metadata": {},
   "outputs": [
    {
     "data": {
      "text/html": [
       "<div>\n",
       "<style scoped>\n",
       "    .dataframe tbody tr th:only-of-type {\n",
       "        vertical-align: middle;\n",
       "    }\n",
       "\n",
       "    .dataframe tbody tr th {\n",
       "        vertical-align: top;\n",
       "    }\n",
       "\n",
       "    .dataframe thead th {\n",
       "        text-align: right;\n",
       "    }\n",
       "</style>\n",
       "<table border=\"1\" class=\"dataframe\">\n",
       "  <thead>\n",
       "    <tr style=\"text-align: right;\">\n",
       "      <th></th>\n",
       "      <th>Milk</th>\n",
       "      <th>Grocery</th>\n",
       "      <th>Frozen</th>\n",
       "    </tr>\n",
       "  </thead>\n",
       "  <tbody>\n",
       "    <tr>\n",
       "      <th>1</th>\n",
       "      <td>9810</td>\n",
       "      <td>9568</td>\n",
       "      <td>1762</td>\n",
       "    </tr>\n",
       "    <tr>\n",
       "      <th>2</th>\n",
       "      <td>8808</td>\n",
       "      <td>7684</td>\n",
       "      <td>99</td>\n",
       "    </tr>\n",
       "    <tr>\n",
       "      <th>3</th>\n",
       "      <td>1196</td>\n",
       "      <td>88</td>\n",
       "      <td>6404</td>\n",
       "    </tr>\n",
       "  </tbody>\n",
       "</table>\n",
       "</div>"
      ],
      "text/plain": [
       "   Milk  Grocery  Frozen\n",
       "1  9810     9568    1762\n",
       "2  8808     7684      99\n",
       "3  1196       88    6404"
      ]
     },
     "metadata": {},
     "output_type": "display_data"
    }
   ],
   "source": [
    "df6.iat[2,1] = 88\n",
    "display(df6)"
   ]
  },
  {
   "cell_type": "code",
   "execution_count": null,
   "id": "d76f907c",
   "metadata": {},
   "outputs": [],
   "source": []
  }
 ],
 "metadata": {
  "kernelspec": {
   "display_name": "ds2025",
   "language": "python",
   "name": "python3"
  },
  "language_info": {
   "codemirror_mode": {
    "name": "ipython",
    "version": 3
   },
   "file_extension": ".py",
   "mimetype": "text/x-python",
   "name": "python",
   "nbconvert_exporter": "python",
   "pygments_lexer": "ipython3",
   "version": "3.9.15"
  }
 },
 "nbformat": 4,
 "nbformat_minor": 5
}
