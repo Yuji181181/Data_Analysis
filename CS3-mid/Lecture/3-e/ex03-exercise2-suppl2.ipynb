{
 "cells": [
  {
   "attachments": {},
   "cell_type": "markdown",
   "id": "01a97112-8ee2-4b64-89c7-0e2466417ccf",
   "metadata": {},
   "source": [
    "### 1列・1行の取り出しと複数列・複数行の取り出し  "
   ]
  },
  {
   "cell_type": "code",
   "execution_count": 1,
   "id": "c0598f47-b9bb-4e52-8eeb-7d4316bf9fb9",
   "metadata": {},
   "outputs": [],
   "source": [
    "import numpy as np\n",
    "import pandas as pd"
   ]
  },
  {
   "cell_type": "code",
   "execution_count": 2,
   "id": "b7c84267-c18f-4c0d-9b5e-27ed887969b5",
   "metadata": {},
   "outputs": [
    {
     "data": {
      "text/html": [
       "<div>\n",
       "<style scoped>\n",
       "    .dataframe tbody tr th:only-of-type {\n",
       "        vertical-align: middle;\n",
       "    }\n",
       "\n",
       "    .dataframe tbody tr th {\n",
       "        vertical-align: top;\n",
       "    }\n",
       "\n",
       "    .dataframe thead th {\n",
       "        text-align: right;\n",
       "    }\n",
       "</style>\n",
       "<table border=\"1\" class=\"dataframe\">\n",
       "  <thead>\n",
       "    <tr style=\"text-align: right;\">\n",
       "      <th></th>\n",
       "      <th>Year</th>\n",
       "      <th>Jan</th>\n",
       "      <th>Feb</th>\n",
       "      <th>Mar</th>\n",
       "      <th>Apr</th>\n",
       "      <th>May</th>\n",
       "      <th>Jun</th>\n",
       "      <th>Jul</th>\n",
       "      <th>Aug</th>\n",
       "      <th>Sep</th>\n",
       "      <th>Oct</th>\n",
       "      <th>Nov</th>\n",
       "      <th>Dec</th>\n",
       "    </tr>\n",
       "  </thead>\n",
       "  <tbody>\n",
       "    <tr>\n",
       "      <th>0</th>\n",
       "      <td>2000</td>\n",
       "      <td>7.6</td>\n",
       "      <td>6.0</td>\n",
       "      <td>9.4</td>\n",
       "      <td>14.5</td>\n",
       "      <td>19.8</td>\n",
       "      <td>22.5</td>\n",
       "      <td>27.7</td>\n",
       "      <td>28.3</td>\n",
       "      <td>25.6</td>\n",
       "      <td>18.8</td>\n",
       "      <td>13.3</td>\n",
       "      <td>8.8</td>\n",
       "    </tr>\n",
       "    <tr>\n",
       "      <th>1</th>\n",
       "      <td>2001</td>\n",
       "      <td>4.9</td>\n",
       "      <td>6.6</td>\n",
       "      <td>9.8</td>\n",
       "      <td>15.7</td>\n",
       "      <td>19.5</td>\n",
       "      <td>23.1</td>\n",
       "      <td>28.5</td>\n",
       "      <td>26.4</td>\n",
       "      <td>23.2</td>\n",
       "      <td>18.7</td>\n",
       "      <td>13.1</td>\n",
       "      <td>8.4</td>\n",
       "    </tr>\n",
       "    <tr>\n",
       "      <th>2</th>\n",
       "      <td>2002</td>\n",
       "      <td>7.4</td>\n",
       "      <td>7.9</td>\n",
       "      <td>12.2</td>\n",
       "      <td>16.1</td>\n",
       "      <td>18.4</td>\n",
       "      <td>21.6</td>\n",
       "      <td>28.0</td>\n",
       "      <td>28.0</td>\n",
       "      <td>23.1</td>\n",
       "      <td>19.0</td>\n",
       "      <td>11.6</td>\n",
       "      <td>7.2</td>\n",
       "    </tr>\n",
       "    <tr>\n",
       "      <th>3</th>\n",
       "      <td>2003</td>\n",
       "      <td>5.5</td>\n",
       "      <td>6.4</td>\n",
       "      <td>8.7</td>\n",
       "      <td>15.1</td>\n",
       "      <td>18.8</td>\n",
       "      <td>23.2</td>\n",
       "      <td>22.8</td>\n",
       "      <td>26.0</td>\n",
       "      <td>24.2</td>\n",
       "      <td>17.8</td>\n",
       "      <td>14.4</td>\n",
       "      <td>9.2</td>\n",
       "    </tr>\n",
       "    <tr>\n",
       "      <th>4</th>\n",
       "      <td>2004</td>\n",
       "      <td>6.3</td>\n",
       "      <td>8.5</td>\n",
       "      <td>9.8</td>\n",
       "      <td>16.4</td>\n",
       "      <td>19.6</td>\n",
       "      <td>23.7</td>\n",
       "      <td>28.5</td>\n",
       "      <td>27.2</td>\n",
       "      <td>25.1</td>\n",
       "      <td>17.5</td>\n",
       "      <td>15.6</td>\n",
       "      <td>9.9</td>\n",
       "    </tr>\n",
       "  </tbody>\n",
       "</table>\n",
       "</div>"
      ],
      "text/plain": [
       "   Year  Jan  Feb   Mar   Apr   May   Jun   Jul   Aug   Sep   Oct   Nov  Dec\n",
       "0  2000  7.6  6.0   9.4  14.5  19.8  22.5  27.7  28.3  25.6  18.8  13.3  8.8\n",
       "1  2001  4.9  6.6   9.8  15.7  19.5  23.1  28.5  26.4  23.2  18.7  13.1  8.4\n",
       "2  2002  7.4  7.9  12.2  16.1  18.4  21.6  28.0  28.0  23.1  19.0  11.6  7.2\n",
       "3  2003  5.5  6.4   8.7  15.1  18.8  23.2  22.8  26.0  24.2  17.8  14.4  9.2\n",
       "4  2004  6.3  8.5   9.8  16.4  19.6  23.7  28.5  27.2  25.1  17.5  15.6  9.9"
      ]
     },
     "metadata": {},
     "output_type": "display_data"
    }
   ],
   "source": [
    "file = \"data/temp_tokyo.csv\"\n",
    "\n",
    "df = pd.read_csv(file, sep=',', skiprows=0, header=0)\n",
    "display(df.head())"
   ]
  },
  {
   "cell_type": "code",
   "execution_count": 3,
   "id": "986a4950-fb70-493f-ae8c-5c572b8eef9a",
   "metadata": {},
   "outputs": [
    {
     "name": "stdout",
     "output_type": "stream",
     "text": [
      "(5,)\n",
      "<class 'pandas.core.series.Series'>\n",
      "1    2001\n",
      "2    2002\n",
      "3    2003\n",
      "4    2004\n",
      "5    2005\n",
      "Name: Year, dtype: int64\n"
     ]
    }
   ],
   "source": [
    "a = df.loc[1:5, 'Year']\n",
    "print(a.shape)\n",
    "print(type(a))\n",
    "print(a)"
   ]
  },
  {
   "cell_type": "code",
   "execution_count": 4,
   "id": "5ac7912f-2c10-43e2-877a-cd42702ad8b9",
   "metadata": {},
   "outputs": [
    {
     "name": "stdout",
     "output_type": "stream",
     "text": [
      "(5, 1)\n",
      "<class 'pandas.core.frame.DataFrame'>\n"
     ]
    },
    {
     "data": {
      "text/html": [
       "<div>\n",
       "<style scoped>\n",
       "    .dataframe tbody tr th:only-of-type {\n",
       "        vertical-align: middle;\n",
       "    }\n",
       "\n",
       "    .dataframe tbody tr th {\n",
       "        vertical-align: top;\n",
       "    }\n",
       "\n",
       "    .dataframe thead th {\n",
       "        text-align: right;\n",
       "    }\n",
       "</style>\n",
       "<table border=\"1\" class=\"dataframe\">\n",
       "  <thead>\n",
       "    <tr style=\"text-align: right;\">\n",
       "      <th></th>\n",
       "      <th>Year</th>\n",
       "    </tr>\n",
       "  </thead>\n",
       "  <tbody>\n",
       "    <tr>\n",
       "      <th>1</th>\n",
       "      <td>2001</td>\n",
       "    </tr>\n",
       "    <tr>\n",
       "      <th>2</th>\n",
       "      <td>2002</td>\n",
       "    </tr>\n",
       "    <tr>\n",
       "      <th>3</th>\n",
       "      <td>2003</td>\n",
       "    </tr>\n",
       "    <tr>\n",
       "      <th>4</th>\n",
       "      <td>2004</td>\n",
       "    </tr>\n",
       "    <tr>\n",
       "      <th>5</th>\n",
       "      <td>2005</td>\n",
       "    </tr>\n",
       "  </tbody>\n",
       "</table>\n",
       "</div>"
      ],
      "text/plain": [
       "   Year\n",
       "1  2001\n",
       "2  2002\n",
       "3  2003\n",
       "4  2004\n",
       "5  2005"
      ]
     },
     "metadata": {},
     "output_type": "display_data"
    }
   ],
   "source": [
    "b = df.loc[1:5, 'Year':'Year']\n",
    "print(b.shape)\n",
    "print(type(b))\n",
    "display(b)"
   ]
  },
  {
   "cell_type": "code",
   "execution_count": 5,
   "id": "110839ba-9727-4a1c-b889-095602b70b42",
   "metadata": {},
   "outputs": [
    {
     "name": "stdout",
     "output_type": "stream",
     "text": [
      "(3,)\n",
      "<class 'pandas.core.series.Series'>\n",
      "Jan    4.9\n",
      "Feb    6.6\n",
      "Mar    9.8\n",
      "Name: 1, dtype: float64\n"
     ]
    }
   ],
   "source": [
    "c = df.loc[1, 'Jan':'Mar']\n",
    "print(c.shape)\n",
    "print(type(c))\n",
    "print(c)"
   ]
  },
  {
   "cell_type": "code",
   "execution_count": 6,
   "id": "290c461a-517d-44c2-9a1c-e3739be28c33",
   "metadata": {},
   "outputs": [
    {
     "name": "stdout",
     "output_type": "stream",
     "text": [
      "(1, 3)\n",
      "<class 'pandas.core.frame.DataFrame'>\n"
     ]
    },
    {
     "data": {
      "text/html": [
       "<div>\n",
       "<style scoped>\n",
       "    .dataframe tbody tr th:only-of-type {\n",
       "        vertical-align: middle;\n",
       "    }\n",
       "\n",
       "    .dataframe tbody tr th {\n",
       "        vertical-align: top;\n",
       "    }\n",
       "\n",
       "    .dataframe thead th {\n",
       "        text-align: right;\n",
       "    }\n",
       "</style>\n",
       "<table border=\"1\" class=\"dataframe\">\n",
       "  <thead>\n",
       "    <tr style=\"text-align: right;\">\n",
       "      <th></th>\n",
       "      <th>Jan</th>\n",
       "      <th>Feb</th>\n",
       "      <th>Mar</th>\n",
       "    </tr>\n",
       "  </thead>\n",
       "  <tbody>\n",
       "    <tr>\n",
       "      <th>1</th>\n",
       "      <td>4.9</td>\n",
       "      <td>6.6</td>\n",
       "      <td>9.8</td>\n",
       "    </tr>\n",
       "  </tbody>\n",
       "</table>\n",
       "</div>"
      ],
      "text/plain": [
       "   Jan  Feb  Mar\n",
       "1  4.9  6.6  9.8"
      ]
     },
     "metadata": {},
     "output_type": "display_data"
    }
   ],
   "source": [
    "d = df.loc[1:1, 'Jan':'Mar']\n",
    "print(d.shape)\n",
    "print(type(d))\n",
    "display(d)"
   ]
  }
 ],
 "metadata": {
  "kernelspec": {
   "display_name": "Python 3 (ipykernel)",
   "language": "python",
   "name": "python3"
  },
  "language_info": {
   "codemirror_mode": {
    "name": "ipython",
    "version": 3
   },
   "file_extension": ".py",
   "mimetype": "text/x-python",
   "name": "python",
   "nbconvert_exporter": "python",
   "pygments_lexer": "ipython3",
   "version": "3.9.15"
  }
 },
 "nbformat": 4,
 "nbformat_minor": 5
}
