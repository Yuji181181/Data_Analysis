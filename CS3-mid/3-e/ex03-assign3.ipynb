{
 "cells": [
  {
   "cell_type": "code",
   "execution_count": 33,
   "id": "8b7d22dd",
   "metadata": {},
   "outputs": [],
   "source": [
    "import pandas as pd"
   ]
  },
  {
   "cell_type": "code",
   "execution_count": 34,
   "id": "9d620316",
   "metadata": {},
   "outputs": [],
   "source": [
    "data = \"data/kanto_populations.csv\"\n",
    "df = pd.read_csv(data,sep=\",\",skiprows=5)"
   ]
  },
  {
   "cell_type": "code",
   "execution_count": 35,
   "id": "caca19d8",
   "metadata": {},
   "outputs": [
    {
     "data": {
      "text/plain": [
       "dtype('int64')"
      ]
     },
     "execution_count": 35,
     "metadata": {},
     "output_type": "execute_result"
    }
   ],
   "source": [
    "df['birth'].dtype"
   ]
  },
  {
   "cell_type": "code",
   "execution_count": 36,
   "id": "80f24895",
   "metadata": {},
   "outputs": [
    {
     "data": {
      "text/plain": [
       "7.11"
      ]
     },
     "execution_count": 36,
     "metadata": {},
     "output_type": "execute_result"
    }
   ],
   "source": [
    "Tokyo_birth = df.at[5, 'birth']\n",
    "Tokyo_pop = df.at[5, 'pop']\n",
    "Tokyo_birth_rate = Tokyo_birth / Tokyo_pop * 1000\n",
    "Tokyo_birth_rate.round(2)"
   ]
  },
  {
   "cell_type": "code",
   "execution_count": 37,
   "id": "bea19c55",
   "metadata": {},
   "outputs": [
    {
     "data": {
      "text/html": [
       "<div>\n",
       "<style scoped>\n",
       "    .dataframe tbody tr th:only-of-type {\n",
       "        vertical-align: middle;\n",
       "    }\n",
       "\n",
       "    .dataframe tbody tr th {\n",
       "        vertical-align: top;\n",
       "    }\n",
       "\n",
       "    .dataframe thead th {\n",
       "        text-align: right;\n",
       "    }\n",
       "</style>\n",
       "<table border=\"1\" class=\"dataframe\">\n",
       "  <thead>\n",
       "    <tr style=\"text-align: right;\">\n",
       "      <th></th>\n",
       "      <th>pref</th>\n",
       "      <th>pop</th>\n",
       "      <th>death</th>\n",
       "      <th>birth_rate</th>\n",
       "    </tr>\n",
       "  </thead>\n",
       "  <tbody>\n",
       "    <tr>\n",
       "      <th>0</th>\n",
       "      <td>Ibaraki</td>\n",
       "      <td>2852000</td>\n",
       "      <td>32931</td>\n",
       "      <td>6.10</td>\n",
       "    </tr>\n",
       "    <tr>\n",
       "      <th>1</th>\n",
       "      <td>Tochigi</td>\n",
       "      <td>1921000</td>\n",
       "      <td>21702</td>\n",
       "      <td>6.15</td>\n",
       "    </tr>\n",
       "    <tr>\n",
       "      <th>2</th>\n",
       "      <td>Gunma</td>\n",
       "      <td>1927000</td>\n",
       "      <td>23286</td>\n",
       "      <td>6.05</td>\n",
       "    </tr>\n",
       "    <tr>\n",
       "      <th>3</th>\n",
       "      <td>Saitama</td>\n",
       "      <td>7340000</td>\n",
       "      <td>70758</td>\n",
       "      <td>6.45</td>\n",
       "    </tr>\n",
       "    <tr>\n",
       "      <th>4</th>\n",
       "      <td>Chiba</td>\n",
       "      <td>6275000</td>\n",
       "      <td>62118</td>\n",
       "      <td>6.40</td>\n",
       "    </tr>\n",
       "    <tr>\n",
       "      <th>5</th>\n",
       "      <td>Tokyo</td>\n",
       "      <td>14010000</td>\n",
       "      <td>121219</td>\n",
       "      <td>7.11</td>\n",
       "    </tr>\n",
       "    <tr>\n",
       "      <th>6</th>\n",
       "      <td>Kanagawa</td>\n",
       "      <td>9236000</td>\n",
       "      <td>84601</td>\n",
       "      <td>6.59</td>\n",
       "    </tr>\n",
       "  </tbody>\n",
       "</table>\n",
       "</div>"
      ],
      "text/plain": [
       "       pref       pop   death  birth_rate\n",
       "0   Ibaraki   2852000   32931        6.10\n",
       "1   Tochigi   1921000   21702        6.15\n",
       "2     Gunma   1927000   23286        6.05\n",
       "3   Saitama   7340000   70758        6.45\n",
       "4     Chiba   6275000   62118        6.40\n",
       "5     Tokyo  14010000  121219        7.11\n",
       "6  Kanagawa   9236000   84601        6.59"
      ]
     },
     "execution_count": 37,
     "metadata": {},
     "output_type": "execute_result"
    }
   ],
   "source": [
    "df['birth_rate'] = ((df['birth'] / df['pop']) * 1000).round(2)\n",
    "df.drop(columns=['birth'], inplace=True)\n",
    "df\n"
   ]
  }
 ],
 "metadata": {
  "kernelspec": {
   "display_name": "ds2024",
   "language": "python",
   "name": "python3"
  },
  "language_info": {
   "codemirror_mode": {
    "name": "ipython",
    "version": 3
   },
   "file_extension": ".py",
   "mimetype": "text/x-python",
   "name": "python",
   "nbconvert_exporter": "python",
   "pygments_lexer": "ipython3",
   "version": "3.9.15"
  }
 },
 "nbformat": 4,
 "nbformat_minor": 5
}
