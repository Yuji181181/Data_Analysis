{
 "cells": [
  {
   "cell_type": "code",
   "execution_count": 20,
   "id": "579d58a4",
   "metadata": {},
   "outputs": [],
   "source": [
    "import pandas as pd\n",
    "import numpy as np"
   ]
  },
  {
   "cell_type": "code",
   "execution_count": 21,
   "id": "f21ea7ec",
   "metadata": {},
   "outputs": [],
   "source": [
    "data1 = \"data/toyo_students.csv\""
   ]
  },
  {
   "cell_type": "code",
   "execution_count": 22,
   "id": "99719e52",
   "metadata": {},
   "outputs": [],
   "source": [
    "df = pd.read_csv(data1,sep=\",\",skiprows=1)"
   ]
  },
  {
   "cell_type": "code",
   "execution_count": 23,
   "id": "15d64860",
   "metadata": {},
   "outputs": [
    {
     "name": "stdout",
     "output_type": "stream",
     "text": [
      "(4, 4)\n",
      "<class 'pandas.core.frame.DataFrame'>\n",
      "RangeIndex: 4 entries, 0 to 3\n",
      "Data columns (total 4 columns):\n",
      " #   Column  Non-Null Count  Dtype \n",
      "---  ------  --------------  ----- \n",
      " 0   Campus  4 non-null      object\n",
      " 1   Male    4 non-null      int64 \n",
      " 2   Female  4 non-null      int64 \n",
      " 3   Sum     4 non-null      int64 \n",
      "dtypes: int64(3), object(1)\n",
      "memory usage: 256.0+ bytes\n",
      "None\n"
     ]
    },
    {
     "data": {
      "text/html": [
       "<div>\n",
       "<style scoped>\n",
       "    .dataframe tbody tr th:only-of-type {\n",
       "        vertical-align: middle;\n",
       "    }\n",
       "\n",
       "    .dataframe tbody tr th {\n",
       "        vertical-align: top;\n",
       "    }\n",
       "\n",
       "    .dataframe thead th {\n",
       "        text-align: right;\n",
       "    }\n",
       "</style>\n",
       "<table border=\"1\" class=\"dataframe\">\n",
       "  <thead>\n",
       "    <tr style=\"text-align: right;\">\n",
       "      <th></th>\n",
       "      <th>Campus</th>\n",
       "      <th>Male</th>\n",
       "      <th>Female</th>\n",
       "      <th>Sum</th>\n",
       "    </tr>\n",
       "  </thead>\n",
       "  <tbody>\n",
       "    <tr>\n",
       "      <th>0</th>\n",
       "      <td>Hakusan</td>\n",
       "      <td>11204</td>\n",
       "      <td>9199</td>\n",
       "      <td>20403</td>\n",
       "    </tr>\n",
       "    <tr>\n",
       "      <th>1</th>\n",
       "      <td>Kawagoe</td>\n",
       "      <td>3845</td>\n",
       "      <td>858</td>\n",
       "      <td>4703</td>\n",
       "    </tr>\n",
       "    <tr>\n",
       "      <th>2</th>\n",
       "      <td>Itakura</td>\n",
       "      <td>996</td>\n",
       "      <td>865</td>\n",
       "      <td>1861</td>\n",
       "    </tr>\n",
       "    <tr>\n",
       "      <th>3</th>\n",
       "      <td>Akabanedai</td>\n",
       "      <td>2183</td>\n",
       "      <td>1697</td>\n",
       "      <td>3880</td>\n",
       "    </tr>\n",
       "  </tbody>\n",
       "</table>\n",
       "</div>"
      ],
      "text/plain": [
       "       Campus   Male  Female    Sum\n",
       "0     Hakusan  11204    9199  20403\n",
       "1     Kawagoe   3845     858   4703\n",
       "2     Itakura    996     865   1861\n",
       "3  Akabanedai   2183    1697   3880"
      ]
     },
     "metadata": {},
     "output_type": "display_data"
    }
   ],
   "source": [
    "print(df.shape)\n",
    "print(df.info())\n",
    "display(df.head())"
   ]
  },
  {
   "cell_type": "code",
   "execution_count": 24,
   "id": "a3171b46",
   "metadata": {},
   "outputs": [
    {
     "name": "stdout",
     "output_type": "stream",
     "text": [
      "[['Hakusan' 11204 9199 20403]\n",
      " ['Kawagoe' 3845 858 4703]\n",
      " ['Itakura' 996 865 1861]\n",
      " ['Akabanedai' 2183 1697 3880]]\n"
     ]
    }
   ],
   "source": [
    "arr = df.to_numpy()\n",
    "print(arr)"
   ]
  },
  {
   "cell_type": "code",
   "execution_count": 25,
   "id": "27357ef7",
   "metadata": {},
   "outputs": [
    {
     "data": {
      "text/plain": [
       "11204"
      ]
     },
     "execution_count": 25,
     "metadata": {},
     "output_type": "execute_result"
    }
   ],
   "source": [
    "df.at[0,\"Male\"]"
   ]
  },
  {
   "cell_type": "code",
   "execution_count": 26,
   "id": "72fca751",
   "metadata": {},
   "outputs": [
    {
     "data": {
      "text/plain": [
       "3880"
      ]
     },
     "execution_count": 26,
     "metadata": {},
     "output_type": "execute_result"
    }
   ],
   "source": [
    "df.at[3,\"Sum\"]"
   ]
  },
  {
   "cell_type": "code",
   "execution_count": 27,
   "id": "055dcbb1",
   "metadata": {},
   "outputs": [],
   "source": [
    "df.at[1,\"Male\"] = 3850"
   ]
  },
  {
   "cell_type": "code",
   "execution_count": 28,
   "id": "1066bf88",
   "metadata": {},
   "outputs": [],
   "source": [
    "df.at[1,\"Sum\"] = 4780"
   ]
  },
  {
   "cell_type": "code",
   "execution_count": 29,
   "id": "c2ffbc35",
   "metadata": {},
   "outputs": [
    {
     "data": {
      "text/html": [
       "<div>\n",
       "<style scoped>\n",
       "    .dataframe tbody tr th:only-of-type {\n",
       "        vertical-align: middle;\n",
       "    }\n",
       "\n",
       "    .dataframe tbody tr th {\n",
       "        vertical-align: top;\n",
       "    }\n",
       "\n",
       "    .dataframe thead th {\n",
       "        text-align: right;\n",
       "    }\n",
       "</style>\n",
       "<table border=\"1\" class=\"dataframe\">\n",
       "  <thead>\n",
       "    <tr style=\"text-align: right;\">\n",
       "      <th></th>\n",
       "      <th>Campus</th>\n",
       "      <th>Male</th>\n",
       "      <th>Female</th>\n",
       "      <th>Sum</th>\n",
       "    </tr>\n",
       "  </thead>\n",
       "  <tbody>\n",
       "    <tr>\n",
       "      <th>0</th>\n",
       "      <td>Hakusan</td>\n",
       "      <td>11204</td>\n",
       "      <td>9199</td>\n",
       "      <td>20403</td>\n",
       "    </tr>\n",
       "    <tr>\n",
       "      <th>1</th>\n",
       "      <td>Kawagoe</td>\n",
       "      <td>3850</td>\n",
       "      <td>858</td>\n",
       "      <td>4780</td>\n",
       "    </tr>\n",
       "    <tr>\n",
       "      <th>2</th>\n",
       "      <td>Itakura</td>\n",
       "      <td>996</td>\n",
       "      <td>865</td>\n",
       "      <td>1861</td>\n",
       "    </tr>\n",
       "    <tr>\n",
       "      <th>3</th>\n",
       "      <td>Akabanedai</td>\n",
       "      <td>2183</td>\n",
       "      <td>1697</td>\n",
       "      <td>3880</td>\n",
       "    </tr>\n",
       "  </tbody>\n",
       "</table>\n",
       "</div>"
      ],
      "text/plain": [
       "       Campus   Male  Female    Sum\n",
       "0     Hakusan  11204    9199  20403\n",
       "1     Kawagoe   3850     858   4780\n",
       "2     Itakura    996     865   1861\n",
       "3  Akabanedai   2183    1697   3880"
      ]
     },
     "metadata": {},
     "output_type": "display_data"
    }
   ],
   "source": [
    "display(df)"
   ]
  },
  {
   "cell_type": "code",
   "execution_count": 30,
   "id": "4d3f14e1",
   "metadata": {},
   "outputs": [
    {
     "data": {
      "text/plain": [
       "array([['Hakusan', 11204, 9199, 20403],\n",
       "       ['Kawagoe', 3845, 858, 4703],\n",
       "       ['Itakura', 996, 865, 1861],\n",
       "       ['Akabanedai', 2183, 1697, 3880]], dtype=object)"
      ]
     },
     "metadata": {},
     "output_type": "display_data"
    }
   ],
   "source": [
    "display(arr)"
   ]
  }
 ],
 "metadata": {
  "kernelspec": {
   "display_name": "ds2025",
   "language": "python",
   "name": "python3"
  },
  "language_info": {
   "codemirror_mode": {
    "name": "ipython",
    "version": 3
   },
   "file_extension": ".py",
   "mimetype": "text/x-python",
   "name": "python",
   "nbconvert_exporter": "python",
   "pygments_lexer": "ipython3",
   "version": "3.9.15"
  }
 },
 "nbformat": 4,
 "nbformat_minor": 5
}
