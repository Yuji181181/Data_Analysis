{
 "cells": [
  {
   "cell_type": "markdown",
   "id": "2969f91d",
   "metadata": {},
   "source": [
    "# １番"
   ]
  },
  {
   "cell_type": "code",
   "execution_count": 48,
   "id": "235356c3",
   "metadata": {},
   "outputs": [],
   "source": [
    "import pandas as pd"
   ]
  },
  {
   "cell_type": "markdown",
   "id": "2a2517fb",
   "metadata": {},
   "source": [
    "# ２番"
   ]
  },
  {
   "cell_type": "code",
   "execution_count": 49,
   "id": "b54c65d3",
   "metadata": {},
   "outputs": [],
   "source": [
    "data = \"baseball_shop.csv\"\n",
    "df_baseball = pd.read_csv(data)"
   ]
  },
  {
   "cell_type": "markdown",
   "id": "7cc212d4",
   "metadata": {},
   "source": [
    "# ３番"
   ]
  },
  {
   "cell_type": "code",
   "execution_count": 50,
   "id": "dbf66c2c",
   "metadata": {},
   "outputs": [
    {
     "name": "stdout",
     "output_type": "stream",
     "text": [
      "(376, 5)\n",
      "<class 'pandas.core.frame.DataFrame'>\n",
      "RangeIndex: 376 entries, 0 to 375\n",
      "Data columns (total 5 columns):\n",
      " #   Column   Non-Null Count  Dtype \n",
      "---  ------   --------------  ----- \n",
      " 0   ShopID   376 non-null    int64 \n",
      " 1   Pref     376 non-null    object\n",
      " 2   Product  376 non-null    object\n",
      " 3   Price    376 non-null    int64 \n",
      " 4   Amount   376 non-null    int64 \n",
      "dtypes: int64(3), object(2)\n",
      "memory usage: 14.8+ KB\n",
      "None\n"
     ]
    },
    {
     "data": {
      "text/html": [
       "<div>\n",
       "<style scoped>\n",
       "    .dataframe tbody tr th:only-of-type {\n",
       "        vertical-align: middle;\n",
       "    }\n",
       "\n",
       "    .dataframe tbody tr th {\n",
       "        vertical-align: top;\n",
       "    }\n",
       "\n",
       "    .dataframe thead th {\n",
       "        text-align: right;\n",
       "    }\n",
       "</style>\n",
       "<table border=\"1\" class=\"dataframe\">\n",
       "  <thead>\n",
       "    <tr style=\"text-align: right;\">\n",
       "      <th></th>\n",
       "      <th>ShopID</th>\n",
       "      <th>Pref</th>\n",
       "      <th>Product</th>\n",
       "      <th>Price</th>\n",
       "      <th>Amount</th>\n",
       "    </tr>\n",
       "  </thead>\n",
       "  <tbody>\n",
       "    <tr>\n",
       "      <th>0</th>\n",
       "      <td>18</td>\n",
       "      <td>Kanagawa</td>\n",
       "      <td>BAT</td>\n",
       "      <td>13800</td>\n",
       "      <td>10</td>\n",
       "    </tr>\n",
       "    <tr>\n",
       "      <th>1</th>\n",
       "      <td>18</td>\n",
       "      <td>Kanagawa</td>\n",
       "      <td>UNIFORM</td>\n",
       "      <td>11800</td>\n",
       "      <td>12</td>\n",
       "    </tr>\n",
       "    <tr>\n",
       "      <th>2</th>\n",
       "      <td>18</td>\n",
       "      <td>Kanagawa</td>\n",
       "      <td>GLOVE</td>\n",
       "      <td>16700</td>\n",
       "      <td>10</td>\n",
       "    </tr>\n",
       "    <tr>\n",
       "      <th>3</th>\n",
       "      <td>18</td>\n",
       "      <td>Kanagawa</td>\n",
       "      <td>SHOES</td>\n",
       "      <td>12800</td>\n",
       "      <td>10</td>\n",
       "    </tr>\n",
       "    <tr>\n",
       "      <th>4</th>\n",
       "      <td>30</td>\n",
       "      <td>Ibaraki</td>\n",
       "      <td>BAT</td>\n",
       "      <td>13800</td>\n",
       "      <td>8</td>\n",
       "    </tr>\n",
       "  </tbody>\n",
       "</table>\n",
       "</div>"
      ],
      "text/plain": [
       "   ShopID      Pref  Product  Price  Amount\n",
       "0      18  Kanagawa      BAT  13800      10\n",
       "1      18  Kanagawa  UNIFORM  11800      12\n",
       "2      18  Kanagawa    GLOVE  16700      10\n",
       "3      18  Kanagawa    SHOES  12800      10\n",
       "4      30   Ibaraki      BAT  13800       8"
      ]
     },
     "metadata": {},
     "output_type": "display_data"
    }
   ],
   "source": [
    "print(df_baseball.shape)\n",
    "print(df_baseball.info())\n",
    "display(df_baseball.head())"
   ]
  },
  {
   "cell_type": "markdown",
   "id": "b7c9f8db",
   "metadata": {},
   "source": [
    "# ４番"
   ]
  },
  {
   "cell_type": "code",
   "execution_count": 51,
   "id": "99a0d0bc",
   "metadata": {},
   "outputs": [
    {
     "data": {
      "text/plain": [
       "Pref\n",
       "Kanagawa    68\n",
       "Tokyo       68\n",
       "Chiba       64\n",
       "Ibaraki     48\n",
       "Saitama     48\n",
       "Tochigi     40\n",
       "Gunma       40\n",
       "Name: count, dtype: int64"
      ]
     },
     "execution_count": 51,
     "metadata": {},
     "output_type": "execute_result"
    }
   ],
   "source": [
    "df_baseball['Pref'].value_counts()"
   ]
  },
  {
   "cell_type": "markdown",
   "id": "343c1470",
   "metadata": {},
   "source": [
    "# ５番"
   ]
  },
  {
   "cell_type": "code",
   "execution_count": 52,
   "id": "fa24f1ab",
   "metadata": {},
   "outputs": [
    {
     "data": {
      "text/html": [
       "<div>\n",
       "<style scoped>\n",
       "    .dataframe tbody tr th:only-of-type {\n",
       "        vertical-align: middle;\n",
       "    }\n",
       "\n",
       "    .dataframe tbody tr th {\n",
       "        vertical-align: top;\n",
       "    }\n",
       "\n",
       "    .dataframe thead th {\n",
       "        text-align: right;\n",
       "    }\n",
       "</style>\n",
       "<table border=\"1\" class=\"dataframe\">\n",
       "  <thead>\n",
       "    <tr style=\"text-align: right;\">\n",
       "      <th></th>\n",
       "      <th>ShopID</th>\n",
       "      <th>Pref</th>\n",
       "      <th>Product</th>\n",
       "      <th>Price</th>\n",
       "      <th>Amount</th>\n",
       "    </tr>\n",
       "  </thead>\n",
       "  <tbody>\n",
       "    <tr>\n",
       "      <th>0</th>\n",
       "      <td>18</td>\n",
       "      <td>Kanagawa</td>\n",
       "      <td>BAT</td>\n",
       "      <td>13800</td>\n",
       "      <td>10</td>\n",
       "    </tr>\n",
       "    <tr>\n",
       "      <th>1</th>\n",
       "      <td>18</td>\n",
       "      <td>Kanagawa</td>\n",
       "      <td>UNIFORM</td>\n",
       "      <td>11800</td>\n",
       "      <td>12</td>\n",
       "    </tr>\n",
       "    <tr>\n",
       "      <th>2</th>\n",
       "      <td>18</td>\n",
       "      <td>Kanagawa</td>\n",
       "      <td>GLOVE</td>\n",
       "      <td>16700</td>\n",
       "      <td>10</td>\n",
       "    </tr>\n",
       "    <tr>\n",
       "      <th>3</th>\n",
       "      <td>18</td>\n",
       "      <td>Kanagawa</td>\n",
       "      <td>SHOES</td>\n",
       "      <td>12800</td>\n",
       "      <td>10</td>\n",
       "    </tr>\n",
       "    <tr>\n",
       "      <th>8</th>\n",
       "      <td>73</td>\n",
       "      <td>Tokyo</td>\n",
       "      <td>BAT</td>\n",
       "      <td>13800</td>\n",
       "      <td>8</td>\n",
       "    </tr>\n",
       "  </tbody>\n",
       "</table>\n",
       "</div>"
      ],
      "text/plain": [
       "   ShopID      Pref  Product  Price  Amount\n",
       "0      18  Kanagawa      BAT  13800      10\n",
       "1      18  Kanagawa  UNIFORM  11800      12\n",
       "2      18  Kanagawa    GLOVE  16700      10\n",
       "3      18  Kanagawa    SHOES  12800      10\n",
       "8      73     Tokyo      BAT  13800       8"
      ]
     },
     "execution_count": 52,
     "metadata": {},
     "output_type": "execute_result"
    }
   ],
   "source": [
    "df_TK = df_baseball[df_baseball['Pref'].isin(['Tokyo', 'Kanagawa'])]\n",
    "df_TK.head()"
   ]
  },
  {
   "cell_type": "markdown",
   "id": "e6ec3bac",
   "metadata": {},
   "source": [
    "# ６番"
   ]
  },
  {
   "cell_type": "code",
   "execution_count": 53,
   "id": "af2d9f04",
   "metadata": {},
   "outputs": [
    {
     "data": {
      "text/html": [
       "<div>\n",
       "<style scoped>\n",
       "    .dataframe tbody tr th:only-of-type {\n",
       "        vertical-align: middle;\n",
       "    }\n",
       "\n",
       "    .dataframe tbody tr th {\n",
       "        vertical-align: top;\n",
       "    }\n",
       "\n",
       "    .dataframe thead th {\n",
       "        text-align: right;\n",
       "    }\n",
       "</style>\n",
       "<table border=\"1\" class=\"dataframe\">\n",
       "  <thead>\n",
       "    <tr style=\"text-align: right;\">\n",
       "      <th>Product</th>\n",
       "      <th>BAT</th>\n",
       "      <th>GLOVE</th>\n",
       "      <th>SHOES</th>\n",
       "      <th>UNIFORM</th>\n",
       "      <th>All</th>\n",
       "    </tr>\n",
       "    <tr>\n",
       "      <th>Pref</th>\n",
       "      <th></th>\n",
       "      <th></th>\n",
       "      <th></th>\n",
       "      <th></th>\n",
       "      <th></th>\n",
       "    </tr>\n",
       "  </thead>\n",
       "  <tbody>\n",
       "    <tr>\n",
       "      <th>Kanagawa</th>\n",
       "      <td>17</td>\n",
       "      <td>17</td>\n",
       "      <td>17</td>\n",
       "      <td>17</td>\n",
       "      <td>68</td>\n",
       "    </tr>\n",
       "    <tr>\n",
       "      <th>Tokyo</th>\n",
       "      <td>17</td>\n",
       "      <td>17</td>\n",
       "      <td>17</td>\n",
       "      <td>17</td>\n",
       "      <td>68</td>\n",
       "    </tr>\n",
       "    <tr>\n",
       "      <th>All</th>\n",
       "      <td>34</td>\n",
       "      <td>34</td>\n",
       "      <td>34</td>\n",
       "      <td>34</td>\n",
       "      <td>136</td>\n",
       "    </tr>\n",
       "  </tbody>\n",
       "</table>\n",
       "</div>"
      ],
      "text/plain": [
       "Product   BAT  GLOVE  SHOES  UNIFORM  All\n",
       "Pref                                     \n",
       "Kanagawa   17     17     17       17   68\n",
       "Tokyo      17     17     17       17   68\n",
       "All        34     34     34       34  136"
      ]
     },
     "execution_count": 53,
     "metadata": {},
     "output_type": "execute_result"
    }
   ],
   "source": [
    "pd.crosstab(df_TK['Pref'], df_TK['Product'], margins=True)"
   ]
  },
  {
   "cell_type": "markdown",
   "id": "d8aa06eb",
   "metadata": {},
   "source": [
    "# ７番"
   ]
  },
  {
   "cell_type": "code",
   "execution_count": 54,
   "id": "08d8b2b4",
   "metadata": {},
   "outputs": [
    {
     "data": {
      "text/plain": [
       "Pref\n",
       "Kanagawa    426\n",
       "Tokyo       653\n",
       "Name: Amount, dtype: int64"
      ]
     },
     "execution_count": 54,
     "metadata": {},
     "output_type": "execute_result"
    }
   ],
   "source": [
    "df_TK.groupby('Pref')['Amount'].sum()"
   ]
  },
  {
   "cell_type": "markdown",
   "id": "7acf5309",
   "metadata": {},
   "source": [
    "# ８番"
   ]
  },
  {
   "cell_type": "code",
   "execution_count": 55,
   "id": "6a5f38ec",
   "metadata": {},
   "outputs": [
    {
     "data": {
      "text/html": [
       "<div>\n",
       "<style scoped>\n",
       "    .dataframe tbody tr th:only-of-type {\n",
       "        vertical-align: middle;\n",
       "    }\n",
       "\n",
       "    .dataframe tbody tr th {\n",
       "        vertical-align: top;\n",
       "    }\n",
       "\n",
       "    .dataframe thead th {\n",
       "        text-align: right;\n",
       "    }\n",
       "</style>\n",
       "<table border=\"1\" class=\"dataframe\">\n",
       "  <thead>\n",
       "    <tr style=\"text-align: right;\">\n",
       "      <th>Product</th>\n",
       "      <th>BAT</th>\n",
       "      <th>GLOVE</th>\n",
       "      <th>SHOES</th>\n",
       "      <th>UNIFORM</th>\n",
       "    </tr>\n",
       "    <tr>\n",
       "      <th>Pref</th>\n",
       "      <th></th>\n",
       "      <th></th>\n",
       "      <th></th>\n",
       "      <th></th>\n",
       "    </tr>\n",
       "  </thead>\n",
       "  <tbody>\n",
       "    <tr>\n",
       "      <th>Kanagawa</th>\n",
       "      <td>13800.0</td>\n",
       "      <td>16700.0</td>\n",
       "      <td>12800.0</td>\n",
       "      <td>11800.0</td>\n",
       "    </tr>\n",
       "    <tr>\n",
       "      <th>Tokyo</th>\n",
       "      <td>13800.0</td>\n",
       "      <td>16700.0</td>\n",
       "      <td>12800.0</td>\n",
       "      <td>11800.0</td>\n",
       "    </tr>\n",
       "  </tbody>\n",
       "</table>\n",
       "</div>"
      ],
      "text/plain": [
       "Product       BAT    GLOVE    SHOES  UNIFORM\n",
       "Pref                                        \n",
       "Kanagawa  13800.0  16700.0  12800.0  11800.0\n",
       "Tokyo     13800.0  16700.0  12800.0  11800.0"
      ]
     },
     "execution_count": 55,
     "metadata": {},
     "output_type": "execute_result"
    }
   ],
   "source": [
    "pd.pivot_table(df_TK, values='Price', index='Pref', columns='Product')"
   ]
  }
 ],
 "metadata": {
  "kernelspec": {
   "display_name": "ds2025",
   "language": "python",
   "name": "python3"
  },
  "language_info": {
   "codemirror_mode": {
    "name": "ipython",
    "version": 3
   },
   "file_extension": ".py",
   "mimetype": "text/x-python",
   "name": "python",
   "nbconvert_exporter": "python",
   "pygments_lexer": "ipython3",
   "version": "3.9.15"
  }
 },
 "nbformat": 4,
 "nbformat_minor": 5
}
