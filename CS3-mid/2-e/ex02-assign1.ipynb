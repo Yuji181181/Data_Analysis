{
 "cells": [
  {
   "cell_type": "code",
   "execution_count": 1,
   "id": "59f3c3e7",
   "metadata": {},
   "outputs": [],
   "source": [
    "import pandas as pd\n",
    "import numpy as np"
   ]
  },
  {
   "cell_type": "code",
   "execution_count": 2,
   "id": "e6452987",
   "metadata": {},
   "outputs": [
    {
     "data": {
      "text/plain": [
       "array([[11,  3,  3],\n",
       "       [ 6, 18, 17]])"
      ]
     },
     "execution_count": 2,
     "metadata": {},
     "output_type": "execute_result"
    }
   ],
   "source": [
    "a1 = np.array([[11,3,3],[6,18,17]])\n",
    "a1"
   ]
  },
  {
   "cell_type": "code",
   "execution_count": 3,
   "id": "0803982b",
   "metadata": {},
   "outputs": [
    {
     "data": {
      "text/plain": [
       "array([[18,  1,  8],\n",
       "       [ 4,  5,  3]])"
      ]
     },
     "execution_count": 3,
     "metadata": {},
     "output_type": "execute_result"
    }
   ],
   "source": [
    "a2 = np.array([[18,1,8],[4,5,3]])\n",
    "a2"
   ]
  },
  {
   "cell_type": "code",
   "execution_count": 4,
   "id": "6971bbb0",
   "metadata": {},
   "outputs": [
    {
     "data": {
      "text/plain": [
       "array([[ 8, 18],\n",
       "       [ 5,  5],\n",
       "       [11,  6]])"
      ]
     },
     "execution_count": 4,
     "metadata": {},
     "output_type": "execute_result"
    }
   ],
   "source": [
    "a3 = np.array([[8,18],[5,5],[11,6]])\n",
    "a3"
   ]
  },
  {
   "cell_type": "code",
   "execution_count": 5,
   "id": "0b831c80",
   "metadata": {},
   "outputs": [
    {
     "data": {
      "text/plain": [
       "array([ 1,  4,  2, 17,  7])"
      ]
     },
     "execution_count": 5,
     "metadata": {},
     "output_type": "execute_result"
    }
   ],
   "source": [
    "a4 = np.array([1, 4, 2, 17, 7])\n",
    "a4"
   ]
  },
  {
   "cell_type": "code",
   "execution_count": 6,
   "id": "245f6a87",
   "metadata": {},
   "outputs": [
    {
     "name": "stdout",
     "output_type": "stream",
     "text": [
      "2\n",
      "(3, 2)\n"
     ]
    }
   ],
   "source": [
    "print(a3.ndim)\n",
    "print(a3.shape)"
   ]
  },
  {
   "cell_type": "code",
   "execution_count": 7,
   "id": "bb1bcd92",
   "metadata": {},
   "outputs": [
    {
     "name": "stdout",
     "output_type": "stream",
     "text": [
      "1\n",
      "(5,)\n"
     ]
    }
   ],
   "source": [
    "print(a4.ndim)\n",
    "print(a4.shape)"
   ]
  },
  {
   "cell_type": "code",
   "execution_count": 8,
   "id": "2abb1042",
   "metadata": {},
   "outputs": [
    {
     "data": {
      "text/plain": [
       "array([[29,  4, 11],\n",
       "       [10, 23, 20]])"
      ]
     },
     "execution_count": 8,
     "metadata": {},
     "output_type": "execute_result"
    }
   ],
   "source": [
    "a5 = a1 + a2\n",
    "a5"
   ]
  },
  {
   "cell_type": "code",
   "execution_count": 9,
   "id": "5d4f5250",
   "metadata": {},
   "outputs": [
    {
     "data": {
      "text/plain": [
       "array([[841,  16, 121],\n",
       "       [100, 529, 400]])"
      ]
     },
     "execution_count": 9,
     "metadata": {},
     "output_type": "execute_result"
    }
   ],
   "source": [
    "a6 = a5 **2\n",
    "a6"
   ]
  }
 ],
 "metadata": {
  "kernelspec": {
   "display_name": "ds2025",
   "language": "python",
   "name": "python3"
  },
  "language_info": {
   "codemirror_mode": {
    "name": "ipython",
    "version": 3
   },
   "file_extension": ".py",
   "mimetype": "text/x-python",
   "name": "python",
   "nbconvert_exporter": "python",
   "pygments_lexer": "ipython3",
   "version": "3.9.15"
  }
 },
 "nbformat": 4,
 "nbformat_minor": 5
}
