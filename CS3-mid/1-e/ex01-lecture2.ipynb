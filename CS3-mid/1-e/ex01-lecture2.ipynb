{
 "cells": [
  {
   "cell_type": "code",
   "execution_count": 1,
   "id": "89b5ef6c",
   "metadata": {},
   "outputs": [
    {
     "name": "stdout",
     "output_type": "stream",
     "text": [
      "5\n"
     ]
    }
   ],
   "source": [
    "print(max([3,5,-1]))"
   ]
  },
  {
   "cell_type": "code",
   "execution_count": 2,
   "id": "cc0c1a7f",
   "metadata": {},
   "outputs": [],
   "source": [
    "def max(xs):\n",
    "    return min(xs)"
   ]
  },
  {
   "cell_type": "code",
   "execution_count": 3,
   "id": "48d1a68e",
   "metadata": {},
   "outputs": [
    {
     "name": "stdout",
     "output_type": "stream",
     "text": [
      "-1\n"
     ]
    }
   ],
   "source": [
    "print(max([3,5,-1]))"
   ]
  },
  {
   "cell_type": "code",
   "execution_count": 4,
   "id": "5278afe5",
   "metadata": {},
   "outputs": [],
   "source": [
    "def my_min(xs):\n",
    "    return min(xs)"
   ]
  },
  {
   "cell_type": "code",
   "execution_count": 5,
   "id": "a2ad6797",
   "metadata": {},
   "outputs": [
    {
     "name": "stdout",
     "output_type": "stream",
     "text": [
      "-1\n"
     ]
    }
   ],
   "source": [
    "print(my_min([3,5,-1]))"
   ]
  }
 ],
 "metadata": {
  "kernelspec": {
   "display_name": "ds2025",
   "language": "python",
   "name": "python3"
  },
  "language_info": {
   "codemirror_mode": {
    "name": "ipython",
    "version": 3
   },
   "file_extension": ".py",
   "mimetype": "text/x-python",
   "name": "python",
   "nbconvert_exporter": "python",
   "pygments_lexer": "ipython3",
   "version": "3.9.15"
  }
 },
 "nbformat": 4,
 "nbformat_minor": 5
}
