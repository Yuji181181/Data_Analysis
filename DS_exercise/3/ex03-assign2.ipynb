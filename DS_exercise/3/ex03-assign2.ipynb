{
 "cells": [
  {
   "cell_type": "code",
   "execution_count": 2,
   "id": "2f7842e9",
   "metadata": {},
   "outputs": [],
   "source": [
    "import pandas as pd\n",
    "import numpy as np\n",
    "import matplotlib.pyplot as plt\n",
    "import scipy.stats as ss"
   ]
  },
  {
   "cell_type": "markdown",
   "id": "bc77dd65",
   "metadata": {},
   "source": [
    "# df作成"
   ]
  },
  {
   "cell_type": "code",
   "execution_count": 3,
   "id": "5ecd4ea3",
   "metadata": {},
   "outputs": [
    {
     "data": {
      "text/html": [
       "<div>\n",
       "<style scoped>\n",
       "    .dataframe tbody tr th:only-of-type {\n",
       "        vertical-align: middle;\n",
       "    }\n",
       "\n",
       "    .dataframe tbody tr th {\n",
       "        vertical-align: top;\n",
       "    }\n",
       "\n",
       "    .dataframe thead th {\n",
       "        text-align: right;\n",
       "    }\n",
       "</style>\n",
       "<table border=\"1\" class=\"dataframe\">\n",
       "  <thead>\n",
       "    <tr style=\"text-align: right;\">\n",
       "      <th></th>\n",
       "      <th>sample</th>\n",
       "    </tr>\n",
       "  </thead>\n",
       "  <tbody>\n",
       "    <tr>\n",
       "      <th>0</th>\n",
       "      <td>-0.037</td>\n",
       "    </tr>\n",
       "    <tr>\n",
       "      <th>1</th>\n",
       "      <td>-0.407</td>\n",
       "    </tr>\n",
       "    <tr>\n",
       "      <th>2</th>\n",
       "      <td>-3.156</td>\n",
       "    </tr>\n",
       "    <tr>\n",
       "      <th>3</th>\n",
       "      <td>-0.539</td>\n",
       "    </tr>\n",
       "    <tr>\n",
       "      <th>4</th>\n",
       "      <td>-1.496</td>\n",
       "    </tr>\n",
       "    <tr>\n",
       "      <th>...</th>\n",
       "      <td>...</td>\n",
       "    </tr>\n",
       "    <tr>\n",
       "      <th>495</th>\n",
       "      <td>-11.154</td>\n",
       "    </tr>\n",
       "    <tr>\n",
       "      <th>496</th>\n",
       "      <td>-11.796</td>\n",
       "    </tr>\n",
       "    <tr>\n",
       "      <th>497</th>\n",
       "      <td>-10.799</td>\n",
       "    </tr>\n",
       "    <tr>\n",
       "      <th>498</th>\n",
       "      <td>-12.723</td>\n",
       "    </tr>\n",
       "    <tr>\n",
       "      <th>499</th>\n",
       "      <td>-12.074</td>\n",
       "    </tr>\n",
       "  </tbody>\n",
       "</table>\n",
       "<p>500 rows × 1 columns</p>\n",
       "</div>"
      ],
      "text/plain": [
       "     sample\n",
       "0    -0.037\n",
       "1    -0.407\n",
       "2    -3.156\n",
       "3    -0.539\n",
       "4    -1.496\n",
       "..      ...\n",
       "495 -11.154\n",
       "496 -11.796\n",
       "497 -10.799\n",
       "498 -12.723\n",
       "499 -12.074\n",
       "\n",
       "[500 rows x 1 columns]"
      ]
     },
     "execution_count": 3,
     "metadata": {},
     "output_type": "execute_result"
    }
   ],
   "source": [
    "data = \"data/stats05.csv\"\n",
    "df = pd.read_csv(data)\n",
    "df"
   ]
  },
  {
   "cell_type": "markdown",
   "id": "56bf7435",
   "metadata": {},
   "source": [
    "# ヒストグラム"
   ]
  },
  {
   "cell_type": "code",
   "execution_count": 4,
   "id": "3a75db62",
   "metadata": {},
   "outputs": [
    {
     "data": {
      "text/plain": [
       "(array([23., 92., 74., 81., 65., 63., 38., 36., 14., 14.]),\n",
       " array([-13.459 , -12.1168, -10.7746,  -9.4324,  -8.0902,  -6.748 ,\n",
       "         -5.4058,  -4.0636,  -2.7214,  -1.3792,  -0.037 ]),\n",
       " <BarContainer object of 10 artists>)"
      ]
     },
     "execution_count": 4,
     "metadata": {},
     "output_type": "execute_result"
    },
    {
     "data": {
      "image/png": "[encoded data removed]",
      "text/plain": [
       "<Figure size 640x480 with 1 Axes>"
      ]
     },
     "metadata": {},
     "output_type": "display_data"
    }
   ],
   "source": [
    "plt.hist(df)"
   ]
  },
  {
   "cell_type": "markdown",
   "id": "d9291f5a",
   "metadata": {},
   "source": [
    "# 密度分布\n",
    "# 意味不明"
   ]
  },
  {
   "cell_type": "markdown",
   "id": "473f0177",
   "metadata": {},
   "source": [
    "# 期待値、分散、歪度、尖度、平均中心の５次モーメント"
   ]
  },
  {
   "cell_type": "code",
   "execution_count": 8,
   "id": "f358d136",
   "metadata": {},
   "outputs": [
    {
     "name": "stdout",
     "output_type": "stream",
     "text": [
      "期待値: -8.0283\n",
      "分散: 9.2553\n",
      "歪度: 0.5040\n",
      "尖度: -0.5468\n",
      "平均中心の5次モーメント: 783.3688\n"
     ]
    }
   ],
   "source": [
    "# 期待値\n",
    "def calculate_expectation(data):\n",
    "    return np.mean(data)\n",
    "\n",
    "# 分散\n",
    "def calculate_variance(data):\n",
    "    return np.var(data, ddof=0) \n",
    "\n",
    "# 歪度\n",
    "def calculate_skewness(data):\n",
    "    return ss.skew(data)\n",
    "\n",
    "# 尖度\n",
    "def calculate_kurtosis(data):\n",
    "    return ss.kurtosis(data)\n",
    "\n",
    "# 平均中心の5次モーメント\n",
    "def calculate_fifth_moment(data):\n",
    "    centered_data = data - np.mean(data)\n",
    "    fifth_moment = np.mean(centered_data**5)\n",
    "    return fifth_moment\n",
    "\n",
    "\n",
    "for column in df.columns:\n",
    "    if df[column].dtype in ['int64', 'float64']: \n",
    "        data = df[column].values\n",
    "        \n",
    "        print(f\"期待値: {calculate_expectation(data):.4f}\")\n",
    "        print(f\"分散: {calculate_variance(data):.4f}\")\n",
    "        print(f\"歪度: {calculate_skewness(data):.4f}\")\n",
    "        print(f\"尖度: {calculate_kurtosis(data):.4f}\")\n",
    "        print(f\"平均中心の5次モーメント: {calculate_fifth_moment(data):.4f}\")"
   ]
  },
  {
   "cell_type": "code",
   "execution_count": null,
   "id": "0c4eedb8",
   "metadata": {},
   "outputs": [],
   "source": []
  }
 ],
 "metadata": {
  "kernelspec": {
   "display_name": "ds2025",
   "language": "python",
   "name": "python3"
  },
  "language_info": {
   "codemirror_mode": {
    "name": "ipython",
    "version": 3
   },
   "file_extension": ".py",
   "mimetype": "text/x-python",
   "name": "python",
   "nbconvert_exporter": "python",
   "pygments_lexer": "ipython3",
   "version": "3.9.15"
  }
 },
 "nbformat": 4,
 "nbformat_minor": 5
}
