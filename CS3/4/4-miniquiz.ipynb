{
 "cells": [
  {
   "cell_type": "code",
   "execution_count": 1,
   "id": "4f4e1d65",
   "metadata": {},
   "outputs": [],
   "source": [
    "import pandas as pd"
   ]
  },
  {
   "cell_type": "code",
   "execution_count": 4,
   "id": "0c466f03",
   "metadata": {},
   "outputs": [
    {
     "data": {
      "text/html": [
       "<div>\n",
       "<style scoped>\n",
       "    .dataframe tbody tr th:only-of-type {\n",
       "        vertical-align: middle;\n",
       "    }\n",
       "\n",
       "    .dataframe tbody tr th {\n",
       "        vertical-align: top;\n",
       "    }\n",
       "\n",
       "    .dataframe thead th {\n",
       "        text-align: right;\n",
       "    }\n",
       "</style>\n",
       "<table border=\"1\" class=\"dataframe\">\n",
       "  <thead>\n",
       "    <tr style=\"text-align: right;\">\n",
       "      <th></th>\n",
       "      <th>Channel</th>\n",
       "      <th>Region</th>\n",
       "      <th>Fresh</th>\n",
       "      <th>Milk</th>\n",
       "      <th>Grocery</th>\n",
       "      <th>Frozen</th>\n",
       "      <th>Detergents_Paper</th>\n",
       "      <th>Delicatessen</th>\n",
       "    </tr>\n",
       "  </thead>\n",
       "  <tbody>\n",
       "    <tr>\n",
       "      <th>0</th>\n",
       "      <td>2</td>\n",
       "      <td>Other</td>\n",
       "      <td>12669</td>\n",
       "      <td>NaN</td>\n",
       "      <td>7561</td>\n",
       "      <td>214.0</td>\n",
       "      <td>2674</td>\n",
       "      <td>1338</td>\n",
       "    </tr>\n",
       "    <tr>\n",
       "      <th>1</th>\n",
       "      <td>2</td>\n",
       "      <td>other</td>\n",
       "      <td>7057</td>\n",
       "      <td>9810.0</td>\n",
       "      <td>9568</td>\n",
       "      <td>1762.0</td>\n",
       "      <td>3293</td>\n",
       "      <td>1776</td>\n",
       "    </tr>\n",
       "    <tr>\n",
       "      <th>2</th>\n",
       "      <td>2</td>\n",
       "      <td>Otheer</td>\n",
       "      <td>6353</td>\n",
       "      <td>8808.0</td>\n",
       "      <td>7684</td>\n",
       "      <td>2405.0</td>\n",
       "      <td>3516</td>\n",
       "      <td>7844</td>\n",
       "    </tr>\n",
       "    <tr>\n",
       "      <th>3</th>\n",
       "      <td>2</td>\n",
       "      <td>Otheer</td>\n",
       "      <td>6353</td>\n",
       "      <td>8808.0</td>\n",
       "      <td>7684</td>\n",
       "      <td>2405.0</td>\n",
       "      <td>3516</td>\n",
       "      <td>7844</td>\n",
       "    </tr>\n",
       "    <tr>\n",
       "      <th>4</th>\n",
       "      <td>1</td>\n",
       "      <td>Other</td>\n",
       "      <td>13265</td>\n",
       "      <td>NaN</td>\n",
       "      <td>4221</td>\n",
       "      <td>NaN</td>\n",
       "      <td>507</td>\n",
       "      <td>1788</td>\n",
       "    </tr>\n",
       "  </tbody>\n",
       "</table>\n",
       "</div>"
      ],
      "text/plain": [
       "   Channel  Region  Fresh    Milk  Grocery  Frozen  Detergents_Paper  \\\n",
       "0        2   Other  12669     NaN     7561   214.0              2674   \n",
       "1        2   other   7057  9810.0     9568  1762.0              3293   \n",
       "2        2  Otheer   6353  8808.0     7684  2405.0              3516   \n",
       "3        2  Otheer   6353  8808.0     7684  2405.0              3516   \n",
       "4        1   Other  13265     NaN     4221     NaN               507   \n",
       "\n",
       "   Delicatessen  \n",
       "0          1338  \n",
       "1          1776  \n",
       "2          7844  \n",
       "3          7844  \n",
       "4          1788  "
      ]
     },
     "execution_count": 4,
     "metadata": {},
     "output_type": "execute_result"
    }
   ],
   "source": [
    "data = \"wholesale_customers-with-errors.csv\"\n",
    "df = pd.read_csv(data, sep=\",\",skiprows=13)\n",
    "df.head()"
   ]
  },
  {
   "cell_type": "code",
   "execution_count": 7,
   "id": "03ac39b4",
   "metadata": {},
   "outputs": [
    {
     "data": {
      "text/plain": [
       "196     4897\n",
       "198     6824\n",
       "200    23127\n",
       "201    24708\n",
       "202     9490\n",
       "Name: Grocery, dtype: int64"
      ]
     },
     "execution_count": 7,
     "metadata": {},
     "output_type": "execute_result"
    }
   ],
   "source": [
    "df_ret2 = df[df[\"Region\"] == \"Lisbon\"]\n",
    "df_ret2[\"Grocery\"].head()"
   ]
  },
  {
   "cell_type": "code",
   "execution_count": null,
   "id": "b7f9ba18",
   "metadata": {},
   "outputs": [],
   "source": []
  }
 ],
 "metadata": {
  "kernelspec": {
   "display_name": "ds2025",
   "language": "python",
   "name": "python3"
  },
  "language_info": {
   "codemirror_mode": {
    "name": "ipython",
    "version": 3
   },
   "file_extension": ".py",
   "mimetype": "text/x-python",
   "name": "python",
   "nbconvert_exporter": "python",
   "pygments_lexer": "ipython3",
   "version": "3.9.15"
  }
 },
 "nbformat": 4,
 "nbformat_minor": 5
}
