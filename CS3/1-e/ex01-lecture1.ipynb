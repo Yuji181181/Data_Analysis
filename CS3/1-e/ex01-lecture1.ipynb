{
 "cells": [
  {
   "cell_type": "markdown",
   "id": "ec984f99",
   "metadata": {},
   "source": [
    "### Markdownのテスト\n",
    "\n",
    "ヘッダは自動的に改行されます。  \n",
    "普通のテキストは行末に2個以上の半角空白か、\n",
    "brのタグを置くと改行されます。 <br>\n",
    "Markdownセルのテストでした。"
   ]
  },
  {
   "cell_type": "code",
   "execution_count": 7,
   "id": "9b23edd4",
   "metadata": {},
   "outputs": [
    {
     "name": "stdout",
     "output_type": "stream",
     "text": [
      "1\n",
      "2\n",
      "3\n",
      "4\n"
     ]
    }
   ],
   "source": [
    "for i in range(1,5):\n",
    "    print(i)"
   ]
  },
  {
   "cell_type": "code",
   "execution_count": 8,
   "id": "71088e1b",
   "metadata": {},
   "outputs": [],
   "source": [
    "total = 0"
   ]
  },
  {
   "cell_type": "code",
   "execution_count": 9,
   "id": "07a7281e",
   "metadata": {},
   "outputs": [],
   "source": [
    "while i < 9:\n",
    "    total += i\n",
    "    i += 1"
   ]
  },
  {
   "cell_type": "code",
   "execution_count": 10,
   "id": "b14b0126",
   "metadata": {},
   "outputs": [],
   "source": [
    "total += 1"
   ]
  },
  {
   "cell_type": "code",
   "execution_count": 11,
   "id": "cb41dba5",
   "metadata": {},
   "outputs": [
    {
     "name": "stdout",
     "output_type": "stream",
     "text": [
      "31\n"
     ]
    }
   ],
   "source": [
    "print(total)"
   ]
  }
 ],
 "metadata": {
  "kernelspec": {
   "display_name": "ds2025",
   "language": "python",
   "name": "python3"
  },
  "language_info": {
   "codemirror_mode": {
    "name": "ipython",
    "version": 3
   },
   "file_extension": ".py",
   "mimetype": "text/x-python",
   "name": "python",
   "nbconvert_exporter": "python",
   "pygments_lexer": "ipython3",
   "version": "3.9.15"
  }
 },
 "nbformat": 4,
 "nbformat_minor": 5
}
