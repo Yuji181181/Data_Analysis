{
 "cells": [
  {
   "cell_type": "markdown",
   "id": "2ece5e5d-c911-4e2e-af2d-cb8063eef3a5",
   "metadata": {},
   "source": [
    "### ex01 Assignment 1  "
   ]
  },
  {
   "cell_type": "code",
   "execution_count": 1,
   "id": "12b9f4a8-aff9-4ba0-b06c-3992cdb2d735",
   "metadata": {},
   "outputs": [],
   "source": [
    "m = 2\n",
    "n = 5"
   ]
  },
  {
   "cell_type": "code",
   "execution_count": 2,
   "id": "7463cdd3",
   "metadata": {},
   "outputs": [],
   "source": [
    "total = 0\n",
    "x = m\n",
    "while x <= n:\n",
    "    total += x\n",
    "    x += 1\n",
    "sum2 = total * 2"
   ]
  },
  {
   "cell_type": "code",
   "execution_count": 3,
   "id": "01434363-ab96-4911-8b97-7260aaed55cf",
   "metadata": {},
   "outputs": [],
   "source": [
    "a = [5, 10, -3]"
   ]
  },
  {
   "cell_type": "code",
   "execution_count": 4,
   "id": "abece30b-bced-4f4d-b846-bd6cbef2616f",
   "metadata": {},
   "outputs": [],
   "source": [
    "suma = sum(a)"
   ]
  },
  {
   "cell_type": "code",
   "execution_count": 5,
   "id": "846d1ea9-39b9-4c7e-bddb-4c9850769d4d",
   "metadata": {},
   "outputs": [
    {
     "name": "stdout",
     "output_type": "stream",
     "text": [
      "16\n"
     ]
    }
   ],
   "source": [
    "print(sum2 - suma)"
   ]
  }
 ],
 "metadata": {
  "kernelspec": {
   "display_name": "ds2025",
   "language": "python",
   "name": "python3"
  },
  "language_info": {
   "codemirror_mode": {
    "name": "ipython",
    "version": 3
   },
   "file_extension": ".py",
   "mimetype": "text/x-python",
   "name": "python",
   "nbconvert_exporter": "python",
   "pygments_lexer": "ipython3",
   "version": "3.9.15"
  }
 },
 "nbformat": 4,
 "nbformat_minor": 5
}
