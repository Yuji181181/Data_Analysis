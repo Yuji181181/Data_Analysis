{
 "cells": [
  {
   "cell_type": "code",
   "execution_count": 1,
   "id": "ed9e4d7e",
   "metadata": {},
   "outputs": [],
   "source": [
    "import pandas as pd"
   ]
  },
  {
   "cell_type": "code",
   "execution_count": 2,
   "id": "075c6212",
   "metadata": {},
   "outputs": [],
   "source": [
    "data = \"new_user_data.csv\"\n",
    "df = pd.read_csv(data)"
   ]
  },
  {
   "cell_type": "code",
   "execution_count": 3,
   "id": "a5ab435e",
   "metadata": {},
   "outputs": [
    {
     "name": "stdout",
     "output_type": "stream",
     "text": [
      "(917, 4)\n",
      "<class 'pandas.core.frame.DataFrame'>\n",
      "RangeIndex: 917 entries, 0 to 916\n",
      "Data columns (total 4 columns):\n",
      " #   Column      Non-Null Count  Dtype \n",
      "---  ------      --------------  ----- \n",
      " 0   age         917 non-null    int64 \n",
      " 1   gender      917 non-null    object\n",
      " 2   occupation  917 non-null    object\n",
      " 3   birth_year  917 non-null    int64 \n",
      "dtypes: int64(2), object(2)\n",
      "memory usage: 28.8+ KB\n",
      "None\n"
     ]
    },
    {
     "data": {
      "text/html": [
       "<div>\n",
       "<style scoped>\n",
       "    .dataframe tbody tr th:only-of-type {\n",
       "        vertical-align: middle;\n",
       "    }\n",
       "\n",
       "    .dataframe tbody tr th {\n",
       "        vertical-align: top;\n",
       "    }\n",
       "\n",
       "    .dataframe thead th {\n",
       "        text-align: right;\n",
       "    }\n",
       "</style>\n",
       "<table border=\"1\" class=\"dataframe\">\n",
       "  <thead>\n",
       "    <tr style=\"text-align: right;\">\n",
       "      <th></th>\n",
       "      <th>age</th>\n",
       "      <th>gender</th>\n",
       "      <th>occupation</th>\n",
       "      <th>birth_year</th>\n",
       "    </tr>\n",
       "  </thead>\n",
       "  <tbody>\n",
       "    <tr>\n",
       "      <th>0</th>\n",
       "      <td>7</td>\n",
       "      <td>M</td>\n",
       "      <td>student</td>\n",
       "      <td>2017</td>\n",
       "    </tr>\n",
       "    <tr>\n",
       "      <th>1</th>\n",
       "      <td>10</td>\n",
       "      <td>M</td>\n",
       "      <td>student</td>\n",
       "      <td>2014</td>\n",
       "    </tr>\n",
       "    <tr>\n",
       "      <th>2</th>\n",
       "      <td>13</td>\n",
       "      <td>F</td>\n",
       "      <td>student</td>\n",
       "      <td>2011</td>\n",
       "    </tr>\n",
       "    <tr>\n",
       "      <th>3</th>\n",
       "      <td>13</td>\n",
       "      <td>M</td>\n",
       "      <td>other</td>\n",
       "      <td>2011</td>\n",
       "    </tr>\n",
       "    <tr>\n",
       "      <th>4</th>\n",
       "      <td>13</td>\n",
       "      <td>F</td>\n",
       "      <td>student</td>\n",
       "      <td>2011</td>\n",
       "    </tr>\n",
       "  </tbody>\n",
       "</table>\n",
       "</div>"
      ],
      "text/plain": [
       "   age gender occupation  birth_year\n",
       "0    7      M    student        2017\n",
       "1   10      M    student        2014\n",
       "2   13      F    student        2011\n",
       "3   13      M      other        2011\n",
       "4   13      F    student        2011"
      ]
     },
     "metadata": {},
     "output_type": "display_data"
    }
   ],
   "source": [
    "print(df.shape) \n",
    "print(df.info())\n",
    "display(df.head())"
   ]
  },
  {
   "cell_type": "code",
   "execution_count": 4,
   "id": "a794b038",
   "metadata": {},
   "outputs": [
    {
     "data": {
      "text/plain": [
       "gender\n",
       "M    655\n",
       "F    262\n",
       "Name: count, dtype: int64"
      ]
     },
     "execution_count": 4,
     "metadata": {},
     "output_type": "execute_result"
    }
   ],
   "source": [
    "df['gender'].value_counts()"
   ]
  },
  {
   "cell_type": "code",
   "execution_count": 5,
   "id": "c69e919a",
   "metadata": {},
   "outputs": [
    {
     "data": {
      "text/plain": [
       "occupation\n",
       "retired          63.071429\n",
       "doctor           43.571429\n",
       "educator         41.914894\n",
       "healthcare       41.000000\n",
       "librarian        40.200000\n",
       "administrator    39.026316\n",
       "executive        38.718750\n",
       "marketing        37.615385\n",
       "lawyer           36.750000\n",
       "engineer         36.703125\n",
       "writer           36.311111\n",
       "salesman         35.666667\n",
       "scientist        35.548387\n",
       "other            34.504854\n",
       "technician       33.500000\n",
       "programmer       33.265625\n",
       "homemaker        32.571429\n",
       "artist           31.392857\n",
       "entertainment    29.222222\n",
       "unknown          24.000000\n",
       "student          22.020942\n",
       "Name: age, dtype: float64"
      ]
     },
     "execution_count": 5,
     "metadata": {},
     "output_type": "execute_result"
    }
   ],
   "source": [
    "df.groupby('occupation')['age'].mean().sort_values(ascending=False)"
   ]
  },
  {
   "cell_type": "code",
   "execution_count": 7,
   "id": "095b6798",
   "metadata": {},
   "outputs": [
    {
     "name": "stdout",
     "output_type": "stream",
     "text": [
      "gender           F    M  All\n",
      "occupation                  \n",
      "administrator   34   42   76\n",
      "artist          13   15   28\n",
      "doctor           0    7    7\n",
      "educator        26   68   94\n",
      "engineer         2   62   64\n",
      "entertainment    2   16   18\n",
      "executive        3   29   32\n",
      "healthcare      10    5   15\n",
      "homemaker        6    1    7\n",
      "lawyer           2   10   12\n",
      "librarian       28   22   50\n",
      "marketing       10   16   26\n",
      "other           34   69  103\n",
      "programmer       6   58   64\n",
      "retired          1   13   14\n",
      "salesman         3    9   12\n",
      "scientist        3   28   31\n",
      "student         59  132  191\n",
      "technician       1   25   26\n",
      "unknown          0    2    2\n",
      "writer          19   26   45\n",
      "All            262  655  917\n"
     ]
    }
   ],
   "source": [
    "print(pd.crosstab(df['occupation'], df['gender'],margins=True))"
   ]
  },
  {
   "cell_type": "code",
   "execution_count": 9,
   "id": "b9e0806d",
   "metadata": {},
   "outputs": [
    {
     "name": "stdout",
     "output_type": "stream",
     "text": [
      "gender            F     M\n",
      "occupation               \n",
      "administrator  62.0  70.0\n",
      "artist         48.0  45.0\n",
      "doctor          NaN  64.0\n",
      "educator       51.0  63.0\n",
      "engineer       36.0  70.0\n",
      "entertainment  38.0  50.0\n",
      "executive      49.0  69.0\n",
      "healthcare     53.0  62.0\n",
      "homemaker      50.0  23.0\n",
      "lawyer         51.0  53.0\n",
      "librarian      59.0  69.0\n",
      "marketing      50.0  55.0\n",
      "other          55.0  64.0\n",
      "programmer     38.0  63.0\n",
      "retired        70.0  73.0\n",
      "salesman       33.0  66.0\n",
      "scientist      31.0  55.0\n",
      "student        38.0  42.0\n",
      "technician     38.0  55.0\n",
      "unknown         NaN  24.0\n",
      "writer         56.0  60.0\n"
     ]
    }
   ],
   "source": [
    "print(pd.pivot_table(df,index='occupation', columns='gender', values='age', aggfunc='max'))"
   ]
  }
 ],
 "metadata": {
  "kernelspec": {
   "display_name": "ds2025",
   "language": "python",
   "name": "python3"
  },
  "language_info": {
   "codemirror_mode": {
    "name": "ipython",
    "version": 3
   },
   "file_extension": ".py",
   "mimetype": "text/x-python",
   "name": "python",
   "nbconvert_exporter": "python",
   "pygments_lexer": "ipython3",
   "version": "3.9.15"
  }
 },
 "nbformat": 4,
 "nbformat_minor": 5
}
