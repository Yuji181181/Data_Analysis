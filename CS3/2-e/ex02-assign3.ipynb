{
 "cells": [
  {
   "cell_type": "code",
   "execution_count": 2,
   "id": "db98289a",
   "metadata": {},
   "outputs": [
    {
     "name": "stdout",
     "output_type": "stream",
     "text": [
      "[[0, 6, 14], [24, 36, 50]]\n"
     ]
    }
   ],
   "source": [
    "A = [[0, 1, 2], [3, 4, 5]]\n",
    "B = [[5, 6, 7], [8, 9, 10]]\n",
    "C = []\n",
    "\n",
    "for i in range(len(A)):\n",
    "    D = []\n",
    "    for j in range(len(A[i])):\n",
    "        D.append(A[i][j] * B[i][j])\n",
    "    C.append(D)\n",
    "\n",
    "print(C)"
   ]
  }
 ],
 "metadata": {
  "kernelspec": {
   "display_name": "ds2025",
   "language": "python",
   "name": "python3"
  },
  "language_info": {
   "codemirror_mode": {
    "name": "ipython",
    "version": 3
   },
   "file_extension": ".py",
   "mimetype": "text/x-python",
   "name": "python",
   "nbconvert_exporter": "python",
   "pygments_lexer": "ipython3",
   "version": "3.9.15"
  }
 },
 "nbformat": 4,
 "nbformat_minor": 5
}
