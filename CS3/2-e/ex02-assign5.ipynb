{
 "cells": [
  {
   "cell_type": "code",
   "execution_count": 3,
   "id": "acfc6c72",
   "metadata": {},
   "outputs": [
    {
     "name": "stdout",
     "output_type": "stream",
     "text": [
      "[0.36787944117144233, 1.0, 2.718281828459045, 7.38905609893065]\n"
     ]
    }
   ],
   "source": [
    "import math\n",
    "\n",
    "A = [-1, 0, 1, 2]\n",
    "B = [] \n",
    "\n",
    "for x in A:\n",
    "    B.append(math.exp(x))\n",
    "\n",
    "print(B)"
   ]
  }
 ],
 "metadata": {
  "kernelspec": {
   "display_name": "ds2025",
   "language": "python",
   "name": "python3"
  },
  "language_info": {
   "codemirror_mode": {
    "name": "ipython",
    "version": 3
   },
   "file_extension": ".py",
   "mimetype": "text/x-python",
   "name": "python",
   "nbconvert_exporter": "python",
   "pygments_lexer": "ipython3",
   "version": "3.9.15"
  }
 },
 "nbformat": 4,
 "nbformat_minor": 5
}
