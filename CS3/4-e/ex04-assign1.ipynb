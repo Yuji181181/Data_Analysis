{
 "cells": [
  {
   "cell_type": "code",
   "execution_count": 27,
   "id": "f1fb7973",
   "metadata": {},
   "outputs": [],
   "source": [
    "import pandas as pd\n",
    "import numpy as np\n",
    "import matplotlib.pyplot as plt"
   ]
  },
  {
   "cell_type": "code",
   "execution_count": 28,
   "id": "b84477bf",
   "metadata": {},
   "outputs": [],
   "source": [
    "data = \"data/country_data.csv\"\n",
    "df = pd.read_csv(data)"
   ]
  },
  {
   "cell_type": "markdown",
   "id": "e2178a57",
   "metadata": {},
   "source": [
    "# １番"
   ]
  },
  {
   "cell_type": "code",
   "execution_count": 29,
   "id": "424f4189",
   "metadata": {},
   "outputs": [
    {
     "name": "stdout",
     "output_type": "stream",
     "text": [
      "(142, 5)\n",
      "<class 'pandas.core.frame.DataFrame'>\n",
      "RangeIndex: 142 entries, 0 to 141\n",
      "Data columns (total 5 columns):\n",
      " #   Column     Non-Null Count  Dtype  \n",
      "---  ------     --------------  -----  \n",
      " 0   country    142 non-null    object \n",
      " 1   pop        142 non-null    float64\n",
      " 2   continent  142 non-null    object \n",
      " 3   lifeExp    142 non-null    float64\n",
      " 4   gdpPercap  142 non-null    float64\n",
      "dtypes: float64(3), object(2)\n",
      "memory usage: 5.7+ KB\n",
      "None\n"
     ]
    },
    {
     "data": {
      "text/html": [
       "<div>\n",
       "<style scoped>\n",
       "    .dataframe tbody tr th:only-of-type {\n",
       "        vertical-align: middle;\n",
       "    }\n",
       "\n",
       "    .dataframe tbody tr th {\n",
       "        vertical-align: top;\n",
       "    }\n",
       "\n",
       "    .dataframe thead th {\n",
       "        text-align: right;\n",
       "    }\n",
       "</style>\n",
       "<table border=\"1\" class=\"dataframe\">\n",
       "  <thead>\n",
       "    <tr style=\"text-align: right;\">\n",
       "      <th></th>\n",
       "      <th>country</th>\n",
       "      <th>pop</th>\n",
       "      <th>continent</th>\n",
       "      <th>lifeExp</th>\n",
       "      <th>gdpPercap</th>\n",
       "    </tr>\n",
       "  </thead>\n",
       "  <tbody>\n",
       "    <tr>\n",
       "      <th>0</th>\n",
       "      <td>Afghanistan</td>\n",
       "      <td>31889923.0</td>\n",
       "      <td>Asia</td>\n",
       "      <td>43.828</td>\n",
       "      <td>974.580338</td>\n",
       "    </tr>\n",
       "    <tr>\n",
       "      <th>1</th>\n",
       "      <td>Albania</td>\n",
       "      <td>3600523.0</td>\n",
       "      <td>Europe</td>\n",
       "      <td>76.423</td>\n",
       "      <td>5937.029526</td>\n",
       "    </tr>\n",
       "    <tr>\n",
       "      <th>2</th>\n",
       "      <td>Algeria</td>\n",
       "      <td>33333216.0</td>\n",
       "      <td>Africa</td>\n",
       "      <td>72.301</td>\n",
       "      <td>6223.367465</td>\n",
       "    </tr>\n",
       "    <tr>\n",
       "      <th>3</th>\n",
       "      <td>Angola</td>\n",
       "      <td>12420476.0</td>\n",
       "      <td>Africa</td>\n",
       "      <td>42.731</td>\n",
       "      <td>4797.231267</td>\n",
       "    </tr>\n",
       "    <tr>\n",
       "      <th>4</th>\n",
       "      <td>Argentina</td>\n",
       "      <td>40301927.0</td>\n",
       "      <td>Americas</td>\n",
       "      <td>75.320</td>\n",
       "      <td>12779.379640</td>\n",
       "    </tr>\n",
       "  </tbody>\n",
       "</table>\n",
       "</div>"
      ],
      "text/plain": [
       "       country         pop continent  lifeExp     gdpPercap\n",
       "0  Afghanistan  31889923.0      Asia   43.828    974.580338\n",
       "1      Albania   3600523.0    Europe   76.423   5937.029526\n",
       "2      Algeria  33333216.0    Africa   72.301   6223.367465\n",
       "3       Angola  12420476.0    Africa   42.731   4797.231267\n",
       "4    Argentina  40301927.0  Americas   75.320  12779.379640"
      ]
     },
     "metadata": {},
     "output_type": "display_data"
    }
   ],
   "source": [
    "print(df.shape)\n",
    "print(df.info())\n",
    "display(df.head())"
   ]
  },
  {
   "cell_type": "markdown",
   "id": "ac8568ee",
   "metadata": {},
   "source": [
    "# ２番"
   ]
  },
  {
   "cell_type": "code",
   "execution_count": 30,
   "id": "4cfb5c00",
   "metadata": {},
   "outputs": [
    {
     "data": {
      "text/plain": [
       "dtype('float64')"
      ]
     },
     "execution_count": 30,
     "metadata": {},
     "output_type": "execute_result"
    }
   ],
   "source": [
    "df[\"pop\"].dtypes"
   ]
  },
  {
   "cell_type": "code",
   "execution_count": 31,
   "id": "d0c13b26",
   "metadata": {},
   "outputs": [
    {
     "data": {
      "text/plain": [
       "0      31889923\n",
       "1       3600523\n",
       "2      33333216\n",
       "3      12420476\n",
       "4      40301927\n",
       "         ...   \n",
       "137    85262356\n",
       "138     4018332\n",
       "139    22211743\n",
       "140    11746035\n",
       "141    12311143\n",
       "Name: pop, Length: 142, dtype: int64"
      ]
     },
     "execution_count": 31,
     "metadata": {},
     "output_type": "execute_result"
    }
   ],
   "source": [
    "df[\"pop\"].astype(\"int64\")"
   ]
  },
  {
   "cell_type": "markdown",
   "id": "de92a2fb",
   "metadata": {},
   "source": [
    "# ３番"
   ]
  },
  {
   "cell_type": "code",
   "execution_count": 32,
   "id": "6874b8bc",
   "metadata": {},
   "outputs": [
    {
     "data": {
      "text/plain": [
       "30"
      ]
     },
     "execution_count": 32,
     "metadata": {},
     "output_type": "execute_result"
    }
   ],
   "source": [
    "Europe = df[\"continent\"] == \"Europe\"\n",
    "Europe.sum()"
   ]
  },
  {
   "cell_type": "markdown",
   "id": "518a84bb",
   "metadata": {},
   "source": [
    "# ４番"
   ]
  },
  {
   "cell_type": "code",
   "execution_count": 33,
   "id": "22d03026",
   "metadata": {},
   "outputs": [
    {
     "data": {
      "text/html": [
       "<div>\n",
       "<style scoped>\n",
       "    .dataframe tbody tr th:only-of-type {\n",
       "        vertical-align: middle;\n",
       "    }\n",
       "\n",
       "    .dataframe tbody tr th {\n",
       "        vertical-align: top;\n",
       "    }\n",
       "\n",
       "    .dataframe thead th {\n",
       "        text-align: right;\n",
       "    }\n",
       "</style>\n",
       "<table border=\"1\" class=\"dataframe\">\n",
       "  <thead>\n",
       "    <tr style=\"text-align: right;\">\n",
       "      <th></th>\n",
       "      <th>country</th>\n",
       "      <th>pop</th>\n",
       "    </tr>\n",
       "  </thead>\n",
       "  <tbody>\n",
       "    <tr>\n",
       "      <th>0</th>\n",
       "      <td>Afghanistan</td>\n",
       "      <td>31889923.0</td>\n",
       "    </tr>\n",
       "    <tr>\n",
       "      <th>1</th>\n",
       "      <td>Albania</td>\n",
       "      <td>3600523.0</td>\n",
       "    </tr>\n",
       "    <tr>\n",
       "      <th>2</th>\n",
       "      <td>Algeria</td>\n",
       "      <td>33333216.0</td>\n",
       "    </tr>\n",
       "    <tr>\n",
       "      <th>3</th>\n",
       "      <td>Angola</td>\n",
       "      <td>12420476.0</td>\n",
       "    </tr>\n",
       "    <tr>\n",
       "      <th>4</th>\n",
       "      <td>Argentina</td>\n",
       "      <td>40301927.0</td>\n",
       "    </tr>\n",
       "    <tr>\n",
       "      <th>...</th>\n",
       "      <td>...</td>\n",
       "      <td>...</td>\n",
       "    </tr>\n",
       "    <tr>\n",
       "      <th>137</th>\n",
       "      <td>Vietnam</td>\n",
       "      <td>85262356.0</td>\n",
       "    </tr>\n",
       "    <tr>\n",
       "      <th>138</th>\n",
       "      <td>West Bank and Gaza</td>\n",
       "      <td>4018332.0</td>\n",
       "    </tr>\n",
       "    <tr>\n",
       "      <th>139</th>\n",
       "      <td>Yemen, Rep.</td>\n",
       "      <td>22211743.0</td>\n",
       "    </tr>\n",
       "    <tr>\n",
       "      <th>140</th>\n",
       "      <td>Zambia</td>\n",
       "      <td>11746035.0</td>\n",
       "    </tr>\n",
       "    <tr>\n",
       "      <th>141</th>\n",
       "      <td>Zimbabwe</td>\n",
       "      <td>12311143.0</td>\n",
       "    </tr>\n",
       "  </tbody>\n",
       "</table>\n",
       "<p>142 rows × 2 columns</p>\n",
       "</div>"
      ],
      "text/plain": [
       "                country         pop\n",
       "0           Afghanistan  31889923.0\n",
       "1               Albania   3600523.0\n",
       "2               Algeria  33333216.0\n",
       "3                Angola  12420476.0\n",
       "4             Argentina  40301927.0\n",
       "..                  ...         ...\n",
       "137             Vietnam  85262356.0\n",
       "138  West Bank and Gaza   4018332.0\n",
       "139         Yemen, Rep.  22211743.0\n",
       "140              Zambia  11746035.0\n",
       "141            Zimbabwe  12311143.0\n",
       "\n",
       "[142 rows x 2 columns]"
      ]
     },
     "execution_count": 33,
     "metadata": {},
     "output_type": "execute_result"
    }
   ],
   "source": [
    "p = df[[\"country\",\"pop\"]]\n",
    "p"
   ]
  },
  {
   "cell_type": "markdown",
   "id": "e3240047",
   "metadata": {},
   "source": [
    "# ５番"
   ]
  },
  {
   "cell_type": "code",
   "execution_count": 34,
   "id": "f9754eb6",
   "metadata": {},
   "outputs": [
    {
     "data": {
      "text/plain": [
       "82.603"
      ]
     },
     "execution_count": 34,
     "metadata": {},
     "output_type": "execute_result"
    }
   ],
   "source": [
    "df[\"lifeExp\"].max()"
   ]
  },
  {
   "cell_type": "markdown",
   "id": "bca8ed5e",
   "metadata": {},
   "source": [
    "# ６番"
   ]
  },
  {
   "cell_type": "code",
   "execution_count": 35,
   "id": "eb7fad07",
   "metadata": {},
   "outputs": [
    {
     "data": {
      "text/plain": [
       "6124.3711085"
      ]
     },
     "execution_count": 35,
     "metadata": {},
     "output_type": "execute_result"
    }
   ],
   "source": [
    "df[\"gdpPercap\"].median()"
   ]
  },
  {
   "cell_type": "markdown",
   "id": "e59d3160",
   "metadata": {},
   "source": [
    "# ７番"
   ]
  },
  {
   "cell_type": "code",
   "execution_count": 36,
   "id": "509a2c67",
   "metadata": {},
   "outputs": [
    {
     "data": {
      "text/plain": [
       "6251013179.0"
      ]
     },
     "execution_count": 36,
     "metadata": {},
     "output_type": "execute_result"
    }
   ],
   "source": [
    "df[\"pop\"].sum()"
   ]
  },
  {
   "cell_type": "markdown",
   "id": "8edb275a",
   "metadata": {},
   "source": [
    "# ８番"
   ]
  },
  {
   "cell_type": "code",
   "execution_count": 37,
   "id": "c9db613e",
   "metadata": {},
   "outputs": [
    {
     "data": {
      "text/plain": [
       "Text(0, 0.5, 'Frequency')"
      ]
     },
     "execution_count": 37,
     "metadata": {},
     "output_type": "execute_result"
    },
    {
     "data": {
      "image/png": "[encoded data removed]",
      "text/plain": [
       "<Figure size 640x480 with 1 Axes>"
      ]
     },
     "metadata": {},
     "output_type": "display_data"
    }
   ],
   "source": [
    "plt.hist(df[\"lifeExp\"], bins=20, edgecolor='black')\n",
    "plt.xlabel(\"Life expectancy [years]\")\n",
    "plt.ylabel(\"Frequency\")"
   ]
  },
  {
   "cell_type": "markdown",
   "id": "b368ba64",
   "metadata": {},
   "source": [
    "# ９番"
   ]
  },
  {
   "cell_type": "code",
   "execution_count": 38,
   "id": "6e68024a",
   "metadata": {},
   "outputs": [
    {
     "data": {
      "text/plain": [
       "Text(0, 0.5, 'Life expectancy [years]')"
      ]
     },
     "execution_count": 38,
     "metadata": {},
     "output_type": "execute_result"
    },
    {
     "data": {
      "image/png": "[encoded data removed]",
      "text/plain": [
       "<Figure size 640x480 with 1 Axes>"
      ]
     },
     "metadata": {},
     "output_type": "display_data"
    }
   ],
   "source": [
    "plt.boxplot(df[\"lifeExp\"])\n",
    "plt.ylabel(\"Life expectancy [years]\")"
   ]
  },
  {
   "cell_type": "code",
   "execution_count": null,
   "id": "b5a21ef5",
   "metadata": {},
   "outputs": [],
   "source": []
  }
 ],
 "metadata": {
  "kernelspec": {
   "display_name": "ds2025",
   "language": "python",
   "name": "python3"
  },
  "language_info": {
   "codemirror_mode": {
    "name": "ipython",
    "version": 3
   },
   "file_extension": ".py",
   "mimetype": "text/x-python",
   "name": "python",
   "nbconvert_exporter": "python",
   "pygments_lexer": "ipython3",
   "version": "3.9.15"
  }
 },
 "nbformat": 4,
 "nbformat_minor": 5
}
