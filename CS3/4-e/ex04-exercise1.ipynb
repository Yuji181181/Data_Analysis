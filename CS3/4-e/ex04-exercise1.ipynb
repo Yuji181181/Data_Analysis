{
 "cells": [
  {
   "cell_type": "code",
   "execution_count": 1,
   "id": "0fafd1da",
   "metadata": {},
   "outputs": [],
   "source": [
    "import pandas as pd\n",
    "import numpy as np\n",
    "import matplotlib.pyplot as plt"
   ]
  },
  {
   "cell_type": "code",
   "execution_count": 2,
   "id": "40d51a3f",
   "metadata": {},
   "outputs": [],
   "source": [
    "data = \"data/temp_tokyo.csv\"\n",
    "df = pd.read_csv(data,index_col=0)"
   ]
  },
  {
   "cell_type": "code",
   "execution_count": 3,
   "id": "8711af9b",
   "metadata": {},
   "outputs": [
    {
     "name": "stdout",
     "output_type": "stream",
     "text": [
      "(14, 12)\n",
      "<class 'pandas.core.frame.DataFrame'>\n",
      "Index: 14 entries, 2000 to 2013\n",
      "Data columns (total 12 columns):\n",
      " #   Column  Non-Null Count  Dtype  \n",
      "---  ------  --------------  -----  \n",
      " 0   Jan     14 non-null     float64\n",
      " 1   Feb     14 non-null     float64\n",
      " 2   Mar     14 non-null     float64\n",
      " 3   Apr     14 non-null     float64\n",
      " 4   May     14 non-null     float64\n",
      " 5   Jun     14 non-null     float64\n",
      " 6   Jul     14 non-null     float64\n",
      " 7   Aug     14 non-null     float64\n",
      " 8   Sep     14 non-null     float64\n",
      " 9   Oct     14 non-null     float64\n",
      " 10  Nov     14 non-null     float64\n",
      " 11  Dec     14 non-null     float64\n",
      "dtypes: float64(12)\n",
      "memory usage: 1.4 KB\n",
      "None\n"
     ]
    },
    {
     "data": {
      "text/html": [
       "<div>\n",
       "<style scoped>\n",
       "    .dataframe tbody tr th:only-of-type {\n",
       "        vertical-align: middle;\n",
       "    }\n",
       "\n",
       "    .dataframe tbody tr th {\n",
       "        vertical-align: top;\n",
       "    }\n",
       "\n",
       "    .dataframe thead th {\n",
       "        text-align: right;\n",
       "    }\n",
       "</style>\n",
       "<table border=\"1\" class=\"dataframe\">\n",
       "  <thead>\n",
       "    <tr style=\"text-align: right;\">\n",
       "      <th></th>\n",
       "      <th>Jan</th>\n",
       "      <th>Feb</th>\n",
       "      <th>Mar</th>\n",
       "      <th>Apr</th>\n",
       "      <th>May</th>\n",
       "      <th>Jun</th>\n",
       "      <th>Jul</th>\n",
       "      <th>Aug</th>\n",
       "      <th>Sep</th>\n",
       "      <th>Oct</th>\n",
       "      <th>Nov</th>\n",
       "      <th>Dec</th>\n",
       "    </tr>\n",
       "    <tr>\n",
       "      <th>Year</th>\n",
       "      <th></th>\n",
       "      <th></th>\n",
       "      <th></th>\n",
       "      <th></th>\n",
       "      <th></th>\n",
       "      <th></th>\n",
       "      <th></th>\n",
       "      <th></th>\n",
       "      <th></th>\n",
       "      <th></th>\n",
       "      <th></th>\n",
       "      <th></th>\n",
       "    </tr>\n",
       "  </thead>\n",
       "  <tbody>\n",
       "    <tr>\n",
       "      <th>2000</th>\n",
       "      <td>7.6</td>\n",
       "      <td>6.0</td>\n",
       "      <td>9.4</td>\n",
       "      <td>14.5</td>\n",
       "      <td>19.8</td>\n",
       "      <td>22.5</td>\n",
       "      <td>27.7</td>\n",
       "      <td>28.3</td>\n",
       "      <td>25.6</td>\n",
       "      <td>18.8</td>\n",
       "      <td>13.3</td>\n",
       "      <td>8.8</td>\n",
       "    </tr>\n",
       "    <tr>\n",
       "      <th>2001</th>\n",
       "      <td>4.9</td>\n",
       "      <td>6.6</td>\n",
       "      <td>9.8</td>\n",
       "      <td>15.7</td>\n",
       "      <td>19.5</td>\n",
       "      <td>23.1</td>\n",
       "      <td>28.5</td>\n",
       "      <td>26.4</td>\n",
       "      <td>23.2</td>\n",
       "      <td>18.7</td>\n",
       "      <td>13.1</td>\n",
       "      <td>8.4</td>\n",
       "    </tr>\n",
       "    <tr>\n",
       "      <th>2002</th>\n",
       "      <td>7.4</td>\n",
       "      <td>7.9</td>\n",
       "      <td>12.2</td>\n",
       "      <td>16.1</td>\n",
       "      <td>18.4</td>\n",
       "      <td>21.6</td>\n",
       "      <td>28.0</td>\n",
       "      <td>28.0</td>\n",
       "      <td>23.1</td>\n",
       "      <td>19.0</td>\n",
       "      <td>11.6</td>\n",
       "      <td>7.2</td>\n",
       "    </tr>\n",
       "    <tr>\n",
       "      <th>2003</th>\n",
       "      <td>5.5</td>\n",
       "      <td>6.4</td>\n",
       "      <td>8.7</td>\n",
       "      <td>15.1</td>\n",
       "      <td>18.8</td>\n",
       "      <td>23.2</td>\n",
       "      <td>22.8</td>\n",
       "      <td>26.0</td>\n",
       "      <td>24.2</td>\n",
       "      <td>17.8</td>\n",
       "      <td>14.4</td>\n",
       "      <td>9.2</td>\n",
       "    </tr>\n",
       "    <tr>\n",
       "      <th>2004</th>\n",
       "      <td>6.3</td>\n",
       "      <td>8.5</td>\n",
       "      <td>9.8</td>\n",
       "      <td>16.4</td>\n",
       "      <td>19.6</td>\n",
       "      <td>23.7</td>\n",
       "      <td>28.5</td>\n",
       "      <td>27.2</td>\n",
       "      <td>25.1</td>\n",
       "      <td>17.5</td>\n",
       "      <td>15.6</td>\n",
       "      <td>9.9</td>\n",
       "    </tr>\n",
       "  </tbody>\n",
       "</table>\n",
       "</div>"
      ],
      "text/plain": [
       "      Jan  Feb   Mar   Apr   May   Jun   Jul   Aug   Sep   Oct   Nov  Dec\n",
       "Year                                                                     \n",
       "2000  7.6  6.0   9.4  14.5  19.8  22.5  27.7  28.3  25.6  18.8  13.3  8.8\n",
       "2001  4.9  6.6   9.8  15.7  19.5  23.1  28.5  26.4  23.2  18.7  13.1  8.4\n",
       "2002  7.4  7.9  12.2  16.1  18.4  21.6  28.0  28.0  23.1  19.0  11.6  7.2\n",
       "2003  5.5  6.4   8.7  15.1  18.8  23.2  22.8  26.0  24.2  17.8  14.4  9.2\n",
       "2004  6.3  8.5   9.8  16.4  19.6  23.7  28.5  27.2  25.1  17.5  15.6  9.9"
      ]
     },
     "metadata": {},
     "output_type": "display_data"
    }
   ],
   "source": [
    "print(df.shape)\n",
    "print(df.info())\n",
    "display(df.head())"
   ]
  },
  {
   "cell_type": "markdown",
   "id": "45d25cfc",
   "metadata": {},
   "source": [
    "# 1番"
   ]
  },
  {
   "cell_type": "code",
   "execution_count": 4,
   "id": "41039b42",
   "metadata": {},
   "outputs": [
    {
     "data": {
      "text/html": [
       "<div>\n",
       "<style scoped>\n",
       "    .dataframe tbody tr th:only-of-type {\n",
       "        vertical-align: middle;\n",
       "    }\n",
       "\n",
       "    .dataframe tbody tr th {\n",
       "        vertical-align: top;\n",
       "    }\n",
       "\n",
       "    .dataframe thead th {\n",
       "        text-align: right;\n",
       "    }\n",
       "</style>\n",
       "<table border=\"1\" class=\"dataframe\">\n",
       "  <thead>\n",
       "    <tr style=\"text-align: right;\">\n",
       "      <th></th>\n",
       "      <th>Jan</th>\n",
       "      <th>Feb</th>\n",
       "      <th>Mar</th>\n",
       "      <th>Apr</th>\n",
       "      <th>May</th>\n",
       "      <th>Jun</th>\n",
       "      <th>Jul</th>\n",
       "      <th>Aug</th>\n",
       "      <th>Sep</th>\n",
       "      <th>Oct</th>\n",
       "      <th>Nov</th>\n",
       "      <th>Dec</th>\n",
       "    </tr>\n",
       "  </thead>\n",
       "  <tbody>\n",
       "    <tr>\n",
       "      <th>count</th>\n",
       "      <td>14.000000</td>\n",
       "      <td>14.000000</td>\n",
       "      <td>14.000000</td>\n",
       "      <td>14.000000</td>\n",
       "      <td>14.000000</td>\n",
       "      <td>14.000000</td>\n",
       "      <td>14.000000</td>\n",
       "      <td>14.000000</td>\n",
       "      <td>14.000000</td>\n",
       "      <td>14.000000</td>\n",
       "      <td>14.000000</td>\n",
       "      <td>14.000000</td>\n",
       "    </tr>\n",
       "    <tr>\n",
       "      <th>mean</th>\n",
       "      <td>6.114286</td>\n",
       "      <td>6.807143</td>\n",
       "      <td>9.878571</td>\n",
       "      <td>14.800000</td>\n",
       "      <td>19.150000</td>\n",
       "      <td>22.678571</td>\n",
       "      <td>26.671429</td>\n",
       "      <td>27.807143</td>\n",
       "      <td>24.542857</td>\n",
       "      <td>18.964286</td>\n",
       "      <td>13.585714</td>\n",
       "      <td>8.585714</td>\n",
       "    </tr>\n",
       "    <tr>\n",
       "      <th>std</th>\n",
       "      <td>1.015917</td>\n",
       "      <td>1.026169</td>\n",
       "      <td>1.215400</td>\n",
       "      <td>1.070586</td>\n",
       "      <td>0.700275</td>\n",
       "      <td>0.771790</td>\n",
       "      <td>1.636802</td>\n",
       "      <td>1.139814</td>\n",
       "      <td>1.006681</td>\n",
       "      <td>0.639239</td>\n",
       "      <td>0.983602</td>\n",
       "      <td>1.115525</td>\n",
       "    </tr>\n",
       "    <tr>\n",
       "      <th>min</th>\n",
       "      <td>4.800000</td>\n",
       "      <td>5.400000</td>\n",
       "      <td>8.100000</td>\n",
       "      <td>12.400000</td>\n",
       "      <td>17.700000</td>\n",
       "      <td>21.300000</td>\n",
       "      <td>22.800000</td>\n",
       "      <td>26.000000</td>\n",
       "      <td>23.000000</td>\n",
       "      <td>17.500000</td>\n",
       "      <td>11.600000</td>\n",
       "      <td>6.400000</td>\n",
       "    </tr>\n",
       "    <tr>\n",
       "      <th>25%</th>\n",
       "      <td>5.200000</td>\n",
       "      <td>6.200000</td>\n",
       "      <td>9.025000</td>\n",
       "      <td>14.500000</td>\n",
       "      <td>18.575000</td>\n",
       "      <td>22.500000</td>\n",
       "      <td>25.775000</td>\n",
       "      <td>26.900000</td>\n",
       "      <td>23.675000</td>\n",
       "      <td>18.825000</td>\n",
       "      <td>13.150000</td>\n",
       "      <td>7.700000</td>\n",
       "    </tr>\n",
       "    <tr>\n",
       "      <th>50%</th>\n",
       "      <td>6.000000</td>\n",
       "      <td>6.550000</td>\n",
       "      <td>9.800000</td>\n",
       "      <td>14.900000</td>\n",
       "      <td>19.250000</td>\n",
       "      <td>22.850000</td>\n",
       "      <td>27.150000</td>\n",
       "      <td>27.750000</td>\n",
       "      <td>24.900000</td>\n",
       "      <td>19.000000</td>\n",
       "      <td>13.400000</td>\n",
       "      <td>8.900000</td>\n",
       "    </tr>\n",
       "    <tr>\n",
       "      <th>75%</th>\n",
       "      <td>6.950000</td>\n",
       "      <td>7.600000</td>\n",
       "      <td>10.525000</td>\n",
       "      <td>15.575000</td>\n",
       "      <td>19.750000</td>\n",
       "      <td>23.200000</td>\n",
       "      <td>27.925000</td>\n",
       "      <td>28.825000</td>\n",
       "      <td>25.175000</td>\n",
       "      <td>19.400000</td>\n",
       "      <td>14.175000</td>\n",
       "      <td>9.425000</td>\n",
       "    </tr>\n",
       "    <tr>\n",
       "      <th>max</th>\n",
       "      <td>7.600000</td>\n",
       "      <td>8.600000</td>\n",
       "      <td>12.200000</td>\n",
       "      <td>16.400000</td>\n",
       "      <td>20.100000</td>\n",
       "      <td>23.700000</td>\n",
       "      <td>28.500000</td>\n",
       "      <td>29.600000</td>\n",
       "      <td>26.200000</td>\n",
       "      <td>19.800000</td>\n",
       "      <td>15.600000</td>\n",
       "      <td>9.900000</td>\n",
       "    </tr>\n",
       "  </tbody>\n",
       "</table>\n",
       "</div>"
      ],
      "text/plain": [
       "             Jan        Feb        Mar        Apr        May        Jun  \\\n",
       "count  14.000000  14.000000  14.000000  14.000000  14.000000  14.000000   \n",
       "mean    6.114286   6.807143   9.878571  14.800000  19.150000  22.678571   \n",
       "std     1.015917   1.026169   1.215400   1.070586   0.700275   0.771790   \n",
       "min     4.800000   5.400000   8.100000  12.400000  17.700000  21.300000   \n",
       "25%     5.200000   6.200000   9.025000  14.500000  18.575000  22.500000   \n",
       "50%     6.000000   6.550000   9.800000  14.900000  19.250000  22.850000   \n",
       "75%     6.950000   7.600000  10.525000  15.575000  19.750000  23.200000   \n",
       "max     7.600000   8.600000  12.200000  16.400000  20.100000  23.700000   \n",
       "\n",
       "             Jul        Aug        Sep        Oct        Nov        Dec  \n",
       "count  14.000000  14.000000  14.000000  14.000000  14.000000  14.000000  \n",
       "mean   26.671429  27.807143  24.542857  18.964286  13.585714   8.585714  \n",
       "std     1.636802   1.139814   1.006681   0.639239   0.983602   1.115525  \n",
       "min    22.800000  26.000000  23.000000  17.500000  11.600000   6.400000  \n",
       "25%    25.775000  26.900000  23.675000  18.825000  13.150000   7.700000  \n",
       "50%    27.150000  27.750000  24.900000  19.000000  13.400000   8.900000  \n",
       "75%    27.925000  28.825000  25.175000  19.400000  14.175000   9.425000  \n",
       "max    28.500000  29.600000  26.200000  19.800000  15.600000   9.900000  "
      ]
     },
     "execution_count": 4,
     "metadata": {},
     "output_type": "execute_result"
    }
   ],
   "source": [
    "df.describe()"
   ]
  },
  {
   "cell_type": "markdown",
   "id": "d9ea96c8",
   "metadata": {},
   "source": [
    "# ２番"
   ]
  },
  {
   "cell_type": "code",
   "execution_count": 5,
   "id": "9a4182ba",
   "metadata": {},
   "outputs": [
    {
     "data": {
      "text/plain": [
       "Jan     6.114286\n",
       "Feb     6.807143\n",
       "Mar     9.878571\n",
       "Apr    14.800000\n",
       "May    19.150000\n",
       "Jun    22.678571\n",
       "Jul    26.671429\n",
       "Aug    27.807143\n",
       "Sep    24.542857\n",
       "Oct    18.964286\n",
       "Nov    13.585714\n",
       "Dec     8.585714\n",
       "dtype: float64"
      ]
     },
     "execution_count": 5,
     "metadata": {},
     "output_type": "execute_result"
    }
   ],
   "source": [
    "df.mean()"
   ]
  },
  {
   "cell_type": "markdown",
   "id": "226d7bd8",
   "metadata": {},
   "source": [
    "# ３番"
   ]
  },
  {
   "cell_type": "code",
   "execution_count": 6,
   "id": "75777737",
   "metadata": {},
   "outputs": [
    {
     "data": {
      "text/plain": [
       "Year\n",
       "2000    16.858333\n",
       "2001    16.491667\n",
       "2002    16.708333\n",
       "2003    16.008333\n",
       "2004    17.341667\n",
       "2005    16.216667\n",
       "2006    16.391667\n",
       "2007    16.966667\n",
       "2008    16.425000\n",
       "2009    16.691667\n",
       "2010    16.883333\n",
       "2011    16.483333\n",
       "2012    16.300000\n",
       "2013    17.083333\n",
       "dtype: float64"
      ]
     },
     "execution_count": 6,
     "metadata": {},
     "output_type": "execute_result"
    }
   ],
   "source": [
    "df.mean(axis=1)"
   ]
  },
  {
   "cell_type": "markdown",
   "id": "b41688e1",
   "metadata": {},
   "source": [
    "# ４番"
   ]
  },
  {
   "cell_type": "code",
   "execution_count": 7,
   "id": "c7776f57",
   "metadata": {},
   "outputs": [
    {
     "data": {
      "text/plain": [
       "1.0320879120879118"
      ]
     },
     "execution_count": 7,
     "metadata": {},
     "output_type": "execute_result"
    }
   ],
   "source": [
    "df[\"Jan\"].var()"
   ]
  },
  {
   "cell_type": "markdown",
   "id": "46026e48",
   "metadata": {},
   "source": [
    "# ５番"
   ]
  },
  {
   "cell_type": "code",
   "execution_count": 8,
   "id": "b1dce8e8",
   "metadata": {},
   "outputs": [
    {
     "data": {
      "text/plain": [
       "6.0"
      ]
     },
     "execution_count": 8,
     "metadata": {},
     "output_type": "execute_result"
    }
   ],
   "source": [
    "df.loc[2000].min()"
   ]
  },
  {
   "cell_type": "markdown",
   "id": "1c2c7e50",
   "metadata": {},
   "source": [
    "# ６番"
   ]
  },
  {
   "cell_type": "code",
   "execution_count": 9,
   "id": "cddfa18f",
   "metadata": {},
   "outputs": [
    {
     "data": {
      "text/plain": [
       "29.6"
      ]
     },
     "execution_count": 9,
     "metadata": {},
     "output_type": "execute_result"
    }
   ],
   "source": [
    "max_month = df.loc[2005:].max() ## 先に月の最大値を取得\n",
    "max_month.max()"
   ]
  },
  {
   "cell_type": "markdown",
   "id": "388f1a6a",
   "metadata": {},
   "source": [
    "# ７番"
   ]
  },
  {
   "cell_type": "code",
   "execution_count": 10,
   "id": "6403dc03",
   "metadata": {},
   "outputs": [
    {
     "data": {
      "text/plain": [
       "Text(0, 0.5, 'Temperature')"
      ]
     },
     "execution_count": 10,
     "metadata": {},
     "output_type": "execute_result"
    },
    {
     "data": {
      "image/png": "[encoded data removed]",
      "text/plain": [
       "<Figure size 640x480 with 1 Axes>"
      ]
     },
     "metadata": {},
     "output_type": "display_data"
    }
   ],
   "source": [
    "df.boxplot()\n",
    "plt.ylabel(\"Temperature\") "
   ]
  }
 ],
 "metadata": {
  "kernelspec": {
   "display_name": "ds2025",
   "language": "python",
   "name": "python3"
  },
  "language_info": {
   "codemirror_mode": {
    "name": "ipython",
    "version": 3
   },
   "file_extension": ".py",
   "mimetype": "text/x-python",
   "name": "python",
   "nbconvert_exporter": "python",
   "pygments_lexer": "ipython3",
   "version": "3.9.15"
  }
 },
 "nbformat": 4,
 "nbformat_minor": 5
}
