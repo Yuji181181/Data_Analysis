{
 "cells": [
  {
   "cell_type": "code",
   "execution_count": 1,
   "id": "46df6d17",
   "metadata": {},
   "outputs": [],
   "source": [
    "import pandas as pd"
   ]
  },
  {
   "cell_type": "code",
   "execution_count": 5,
   "id": "2abed657",
   "metadata": {},
   "outputs": [],
   "source": [
    "data = \"data/kanto_populations.csv\"\n",
    "df = pd.read_csv(data,sep=\",\",skiprows=5)"
   ]
  },
  {
   "cell_type": "code",
   "execution_count": 25,
   "id": "a1085135",
   "metadata": {},
   "outputs": [
    {
     "name": "stdout",
     "output_type": "stream",
     "text": [
      "(7, 4)\n",
      "<class 'pandas.core.frame.DataFrame'>\n",
      "RangeIndex: 7 entries, 0 to 6\n",
      "Data columns (total 4 columns):\n",
      " #   Column  Non-Null Count  Dtype \n",
      "---  ------  --------------  ----- \n",
      " 0   pref    7 non-null      object\n",
      " 1   pop     7 non-null      int64 \n",
      " 2   birth   7 non-null      int64 \n",
      " 3   death   7 non-null      int64 \n",
      "dtypes: int64(3), object(1)\n",
      "memory usage: 352.0+ bytes\n",
      "None\n"
     ]
    },
    {
     "data": {
      "text/html": [
       "<div>\n",
       "<style scoped>\n",
       "    .dataframe tbody tr th:only-of-type {\n",
       "        vertical-align: middle;\n",
       "    }\n",
       "\n",
       "    .dataframe tbody tr th {\n",
       "        vertical-align: top;\n",
       "    }\n",
       "\n",
       "    .dataframe thead th {\n",
       "        text-align: right;\n",
       "    }\n",
       "</style>\n",
       "<table border=\"1\" class=\"dataframe\">\n",
       "  <thead>\n",
       "    <tr style=\"text-align: right;\">\n",
       "      <th></th>\n",
       "      <th>pref</th>\n",
       "      <th>pop</th>\n",
       "      <th>birth</th>\n",
       "      <th>death</th>\n",
       "    </tr>\n",
       "  </thead>\n",
       "  <tbody>\n",
       "    <tr>\n",
       "      <th>0</th>\n",
       "      <td>Ibaraki</td>\n",
       "      <td>2852000</td>\n",
       "      <td>17389</td>\n",
       "      <td>32931</td>\n",
       "    </tr>\n",
       "    <tr>\n",
       "      <th>1</th>\n",
       "      <td>Tochigi</td>\n",
       "      <td>1921000</td>\n",
       "      <td>11808</td>\n",
       "      <td>21702</td>\n",
       "    </tr>\n",
       "    <tr>\n",
       "      <th>2</th>\n",
       "      <td>Gunma</td>\n",
       "      <td>1927000</td>\n",
       "      <td>11660</td>\n",
       "      <td>23286</td>\n",
       "    </tr>\n",
       "    <tr>\n",
       "      <th>3</th>\n",
       "      <td>Saitama</td>\n",
       "      <td>7340000</td>\n",
       "      <td>47328</td>\n",
       "      <td>70758</td>\n",
       "    </tr>\n",
       "    <tr>\n",
       "      <th>4</th>\n",
       "      <td>Chiba</td>\n",
       "      <td>6275000</td>\n",
       "      <td>40168</td>\n",
       "      <td>62118</td>\n",
       "    </tr>\n",
       "    <tr>\n",
       "      <th>5</th>\n",
       "      <td>Tokyo</td>\n",
       "      <td>14010000</td>\n",
       "      <td>99661</td>\n",
       "      <td>121219</td>\n",
       "    </tr>\n",
       "    <tr>\n",
       "      <th>6</th>\n",
       "      <td>Kanagawa</td>\n",
       "      <td>9236000</td>\n",
       "      <td>60865</td>\n",
       "      <td>84601</td>\n",
       "    </tr>\n",
       "  </tbody>\n",
       "</table>\n",
       "</div>"
      ],
      "text/plain": [
       "       pref       pop  birth   death\n",
       "0   Ibaraki   2852000  17389   32931\n",
       "1   Tochigi   1921000  11808   21702\n",
       "2     Gunma   1927000  11660   23286\n",
       "3   Saitama   7340000  47328   70758\n",
       "4     Chiba   6275000  40168   62118\n",
       "5     Tokyo  14010000  99661  121219\n",
       "6  Kanagawa   9236000  60865   84601"
      ]
     },
     "metadata": {},
     "output_type": "display_data"
    }
   ],
   "source": [
    "print(df.shape)\n",
    "print(df.info())\n",
    "display(df)"
   ]
  },
  {
   "cell_type": "code",
   "execution_count": 7,
   "id": "a99478a4",
   "metadata": {},
   "outputs": [
    {
     "data": {
      "text/plain": [
       "dtype('int64')"
      ]
     },
     "execution_count": 7,
     "metadata": {},
     "output_type": "execute_result"
    }
   ],
   "source": [
    "df['birth'].dtype"
   ]
  },
  {
   "cell_type": "code",
   "execution_count": 8,
   "id": "e8c81e9a",
   "metadata": {},
   "outputs": [
    {
     "data": {
      "text/plain": [
       "0     Ibaraki\n",
       "1     Tochigi\n",
       "2       Gunma\n",
       "3     Saitama\n",
       "4       Chiba\n",
       "5       Tokyo\n",
       "6    Kanagawa\n",
       "Name: pref, dtype: object"
      ]
     },
     "execution_count": 8,
     "metadata": {},
     "output_type": "execute_result"
    }
   ],
   "source": [
    "df['pref']"
   ]
  },
  {
   "cell_type": "code",
   "execution_count": 9,
   "id": "cc164ef0",
   "metadata": {},
   "outputs": [
    {
     "data": {
      "text/html": [
       "<div>\n",
       "<style scoped>\n",
       "    .dataframe tbody tr th:only-of-type {\n",
       "        vertical-align: middle;\n",
       "    }\n",
       "\n",
       "    .dataframe tbody tr th {\n",
       "        vertical-align: top;\n",
       "    }\n",
       "\n",
       "    .dataframe thead th {\n",
       "        text-align: right;\n",
       "    }\n",
       "</style>\n",
       "<table border=\"1\" class=\"dataframe\">\n",
       "  <thead>\n",
       "    <tr style=\"text-align: right;\">\n",
       "      <th></th>\n",
       "      <th>pref</th>\n",
       "      <th>pop</th>\n",
       "    </tr>\n",
       "  </thead>\n",
       "  <tbody>\n",
       "    <tr>\n",
       "      <th>0</th>\n",
       "      <td>Ibaraki</td>\n",
       "      <td>2852000</td>\n",
       "    </tr>\n",
       "    <tr>\n",
       "      <th>1</th>\n",
       "      <td>Tochigi</td>\n",
       "      <td>1921000</td>\n",
       "    </tr>\n",
       "    <tr>\n",
       "      <th>2</th>\n",
       "      <td>Gunma</td>\n",
       "      <td>1927000</td>\n",
       "    </tr>\n",
       "    <tr>\n",
       "      <th>3</th>\n",
       "      <td>Saitama</td>\n",
       "      <td>7340000</td>\n",
       "    </tr>\n",
       "    <tr>\n",
       "      <th>4</th>\n",
       "      <td>Chiba</td>\n",
       "      <td>6275000</td>\n",
       "    </tr>\n",
       "    <tr>\n",
       "      <th>5</th>\n",
       "      <td>Tokyo</td>\n",
       "      <td>14010000</td>\n",
       "    </tr>\n",
       "    <tr>\n",
       "      <th>6</th>\n",
       "      <td>Kanagawa</td>\n",
       "      <td>9236000</td>\n",
       "    </tr>\n",
       "  </tbody>\n",
       "</table>\n",
       "</div>"
      ],
      "text/plain": [
       "       pref       pop\n",
       "0   Ibaraki   2852000\n",
       "1   Tochigi   1921000\n",
       "2     Gunma   1927000\n",
       "3   Saitama   7340000\n",
       "4     Chiba   6275000\n",
       "5     Tokyo  14010000\n",
       "6  Kanagawa   9236000"
      ]
     },
     "execution_count": 9,
     "metadata": {},
     "output_type": "execute_result"
    }
   ],
   "source": [
    "df[['pref', 'pop']]"
   ]
  },
  {
   "cell_type": "code",
   "execution_count": 24,
   "id": "b5fe571b",
   "metadata": {},
   "outputs": [
    {
     "data": {
      "text/plain": [
       "3     70758\n",
       "4     62118\n",
       "5    121219\n",
       "6     84601\n",
       "Name: death, dtype: int64"
      ]
     },
     "execution_count": 24,
     "metadata": {},
     "output_type": "execute_result"
    }
   ],
   "source": [
    "df.loc[3:6,\"death\"]"
   ]
  },
  {
   "cell_type": "code",
   "execution_count": 26,
   "id": "5dc14ecf",
   "metadata": {},
   "outputs": [
    {
     "data": {
      "text/plain": [
       "17389"
      ]
     },
     "execution_count": 26,
     "metadata": {},
     "output_type": "execute_result"
    }
   ],
   "source": [
    "df.at[0,\"birth\"]"
   ]
  },
  {
   "cell_type": "code",
   "execution_count": 27,
   "id": "abdfd14f",
   "metadata": {},
   "outputs": [
    {
     "data": {
      "text/plain": [
       "1921000"
      ]
     },
     "execution_count": 27,
     "metadata": {},
     "output_type": "execute_result"
    }
   ],
   "source": [
    "df.at[1,\"pop\"]"
   ]
  }
 ],
 "metadata": {
  "kernelspec": {
   "display_name": "ds2024",
   "language": "python",
   "name": "python3"
  },
  "language_info": {
   "codemirror_mode": {
    "name": "ipython",
    "version": 3
   },
   "file_extension": ".py",
   "mimetype": "text/x-python",
   "name": "python",
   "nbconvert_exporter": "python",
   "pygments_lexer": "ipython3",
   "version": "3.9.15"
  }
 },
 "nbformat": 4,
 "nbformat_minor": 5
}
